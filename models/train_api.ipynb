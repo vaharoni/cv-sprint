{
 "cells": [
  {
   "cell_type": "code",
   "execution_count": null,
   "metadata": {},
   "outputs": [],
   "source": [
    "import torch\n",
    "import train\n",
    "train.set_namespace('train-api')\n",
    "\n",
    "train_dataloader = None\n",
    "val_dataloader = None"
   ]
  },
  {
   "cell_type": "markdown",
   "metadata": {},
   "source": [
    "Insights:\n",
    "- Should only be able to call cp.train() maximum 1 times per block\n",
    "- cp.train() is what always loads all object states - the model parameters as well as optimizer and schedulers\n",
    "- A `with model.checkpoint(...)` block should only ever be executed once while writing the notebook. It should not be modified (unless we call delete)"
   ]
  },
  {
   "cell_type": "code",
   "execution_count": null,
   "metadata": {},
   "outputs": [],
   "source": [
    "def build_model():\n",
    "    return torch.nn.Linear(in_features=5, out_features=2)\n",
    "\n",
    "model = train.Model('model-001', build_model(), 'A demonstration of the API')\n",
    "\n",
    "with model.checkpoint(id=1, description='Adam') as cp:\n",
    "    # This builds the objects and stores them on the model level. \n",
    "    cp.setup(\n",
    "        loss_cls=torch.nn.MSELoss, \n",
    "        optimizer_cls=torch.optim.Adam,\n",
    "        optimizer_args=dict(lr=5e-4, weight_decay=5e-4)\n",
    "    )\n",
    "    # If a checkpoint file exists, training will not occur. Instead, we simply load the results from the file. \n",
    "    # Also, the post-training state of the optimizer and schedulers which were built by cp.setup() is loaded.\n",
    "    cp.train(train_dataloader, val_dataloader, epochs=10, watch='val_accuracy', load_best=True, warmup=1, metrics=[train.metric_accuracy])\n",
    "    cp.plot_metrics()\n",
    "\n",
    "with model.checkpoint(id=2, description='Train some more') as cp:\n",
    "    cp.train(train_dataloader, val_dataloader, epochs=10, watch='val_accuracy', load_best=True, metrics=[train.metric_accuracy])\n",
    "    cp.plot_metrics()\n",
    "\n",
    "with model.checkpoint(id=3, description='SGD') as cp:\n",
    "    # We don't have to provide all objects to cp.setup() every time. Only what we define will override what's currently stored in the model.\n",
    "    cp.setup(optimizer_cls=torch.optim.SGD)\n",
    "    # Here we use load_best=False, which means that the checkpoint will contain the parameters at the last training epoch.\n",
    "    # However, if the best results were achieved prior to the last training epoch, a backup checkpoint is created.\n",
    "    cp.train(train_dataloader, val_dataloader, epochs=10, watch='val_accuracy', load_best=False, metrics=[train.metric_accuracy])\n",
    "    cp.plot_metrics()\n",
    "\n",
    "with model.checkpoint(id='3.1', description='Continue SGD from last') as cp:\n",
    "    cp.train(train_dataloader, val_dataloader, epochs=10, watch='val_accuracy', load_best=True, metrics=[train.metric_accuracy])\n",
    "    cp.plot_metrics()\n",
    "\n",
    "# Here we are reverting the model back to checkpoint 3, loading it from the backup checkpoint - i.e. the best results \n",
    "# achieved during training, not the last results.\n",
    "model.load_checkpoint(id=3, from_backup=True)\n",
    "\n",
    "# Here we are effectively forking the training process, continuing from the best rather than the last epoch achieved during checkpoint 3\n",
    "with model.checkpoint(id='3.2', description='Continue SGD from best') as cp:\n",
    "    cp.train(train_dataloader, val_dataloader, epochs=10, watch='val_accuracy', load_best=True, metrics=[train.metric_accuracy])\n",
    "    cp.plot_metrics()\n",
    "\n",
    "# We delete checkpoint 3 and its backup. This means that if we rerun the notebook, the code under `with model.checkpoint(id=3, ...)`\n",
    "# will have to rerun\n",
    "model.delete_checkpoint('3.1')\n",
    "\n",
    "# Delete all model checkpoints and tensorboard data\n",
    "model.delete()\n"
   ]
  }
 ],
 "metadata": {
  "kernelspec": {
   "display_name": "torch",
   "language": "python",
   "name": "python3"
  },
  "language_info": {
   "name": "python",
   "version": "3.11.4"
  },
  "orig_nbformat": 4
 },
 "nbformat": 4,
 "nbformat_minor": 2
}
