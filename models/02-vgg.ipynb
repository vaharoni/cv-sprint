{
 "cells": [
  {
   "cell_type": "code",
   "execution_count": 35,
   "metadata": {},
   "outputs": [
    {
     "data": {
      "text/plain": [
       "<module 'utils' from '/home/amitaharoni/workspace/cv-sprint/models/utils.py'>"
      ]
     },
     "execution_count": 35,
     "metadata": {},
     "output_type": "execute_result"
    }
   ],
   "source": [
    "import torch\n",
    "from torch import nn\n",
    "import torch.nn.functional as F\n",
    "import utils\n",
    "from importlib import reload\n",
    "reload(utils)"
   ]
  },
  {
   "cell_type": "code",
   "execution_count": 38,
   "metadata": {},
   "outputs": [
    {
     "data": {
      "text/plain": [
       "<torch._C.Generator at 0x7f917d3bde70>"
      ]
     },
     "execution_count": 38,
     "metadata": {},
     "output_type": "execute_result"
    }
   ],
   "source": [
    "torch.manual_seed(407)"
   ]
  },
  {
   "cell_type": "code",
   "execution_count": 39,
   "metadata": {},
   "outputs": [
    {
     "data": {
      "text/plain": [
       "(90000, 10000, 10000)"
      ]
     },
     "execution_count": 39,
     "metadata": {},
     "output_type": "execute_result"
    }
   ],
   "source": [
    "train_dl, valid_dl, test_dl = utils.make_tiny_imagenet_dataloaders()\n",
    "len(train_dl.dataset), len(valid_dl.dataset), len(test_dl.dataset)"
   ]
  },
  {
   "cell_type": "code",
   "execution_count": 27,
   "metadata": {},
   "outputs": [],
   "source": [
    "def train(model, name, weight_decay=0):\n",
    "    loss_fn = torch.nn.CrossEntropyLoss()\n",
    "    optimizer = torch.optim.Adam(model.parameters(), weight_decay=weight_decay)\n",
    "    hist = utils.train_model(model, train_dl, valid_dl, loss_fn, optimizer, epochs=1000, patience=4, tensorboard_dir=f'../runs/02-{name}', metrics=[utils.metric_accuracy])\n",
    "    print(utils.evaluate_model(model, test_dl, loss_fn, metrics=[utils.metric_accuracy]))\n",
    "    utils.plot_metrics(hist)"
   ]
  },
  {
   "cell_type": "code",
   "execution_count": 16,
   "metadata": {},
   "outputs": [],
   "source": [
    "class VGGNet1(nn.Module):\n",
    "    def __init__(self) -> None:\n",
    "        super().__init__()\n",
    "        self.features = nn.Sequential(\n",
    "            nn.Conv2d(3, 64, kernel_size=3, padding=1),\n",
    "            nn.ReLU(True),\n",
    "            nn.MaxPool2d(kernel_size=2, stride=2),\n",
    "            nn.Conv2d(64, 128, kernel_size=3, padding=1),\n",
    "            nn.ReLU(True),\n",
    "            nn.MaxPool2d(kernel_size=2, stride=2),\n",
    "            nn.Conv2d(128, 256, kernel_size=3, padding=1),\n",
    "            nn.ReLU(True),\n",
    "            nn.Conv2d(256, 256, kernel_size=3, padding=1),\n",
    "            nn.ReLU(True),\n",
    "            nn.MaxPool2d(kernel_size=2, stride=2),\n",
    "            nn.Conv2d(256, 512, kernel_size=3, padding=1),\n",
    "            nn.ReLU(True),\n",
    "            nn.Conv2d(512, 512, kernel_size=3, padding=1),\n",
    "            nn.ReLU(True),\n",
    "            nn.MaxPool2d(kernel_size=2, stride=2),\n",
    "        )\n",
    "        self.avgpool = nn.AdaptiveAvgPool2d((1, 1))\n",
    "        self.classifier = nn.Sequential(\n",
    "            nn.Linear(512 * 1 * 1, 1024),\n",
    "            nn.ReLU(True),\n",
    "            nn.Dropout(p=0.5),\n",
    "            nn.Linear(1024, 1024),\n",
    "            nn.ReLU(True),\n",
    "            nn.Dropout(p=0.5),\n",
    "            nn.Linear(1024, 200),\n",
    "        )\n",
    "\n",
    "    def forward(self, x):\n",
    "        x = self.features(x)\n",
    "        x = self.avgpool(x)\n",
    "        x = torch.flatten(x, start_dim=1)\n",
    "        x = self.classifier(x)\n",
    "        return x\n",
    "\n",
    "model1 = VGGNet1().to(utils.device)"
   ]
  },
  {
   "cell_type": "code",
   "execution_count": 17,
   "metadata": {},
   "outputs": [
    {
     "name": "stderr",
     "output_type": "stream",
     "text": [
      "100%|██████████| 1407/1407 [01:40<00:00, 14.01it/s]\n",
      "100%|██████████| 157/157 [00:04<00:00, 33.13it/s]\n"
     ]
    },
    {
     "name": "stdout",
     "output_type": "stream",
     "text": [
      "Epoch 1/1000: train_loss=5.2996, train_accuracy=0.0045, val_loss=5.2986, val_accuracy=0.0050\n",
      "Saving params from epoch 1. Best loss: 5.2986\n"
     ]
    },
    {
     "name": "stderr",
     "output_type": "stream",
     "text": [
      "100%|██████████| 1407/1407 [01:40<00:00, 13.98it/s]\n",
      "100%|██████████| 157/157 [00:04<00:00, 33.34it/s]\n"
     ]
    },
    {
     "name": "stdout",
     "output_type": "stream",
     "text": [
      "Epoch 2/1000: train_loss=5.2992, train_accuracy=0.0045, val_loss=5.2986, val_accuracy=0.0050\n",
      "Saving params from epoch 2. Best loss: 5.2986\n"
     ]
    },
    {
     "name": "stderr",
     "output_type": "stream",
     "text": [
      "100%|██████████| 1407/1407 [01:41<00:00, 13.92it/s]\n",
      "100%|██████████| 157/157 [00:04<00:00, 33.67it/s]\n"
     ]
    },
    {
     "name": "stdout",
     "output_type": "stream",
     "text": [
      "Epoch 3/1000: train_loss=5.2993, train_accuracy=0.0042, val_loss=5.2983, val_accuracy=0.0050\n",
      "Saving params from epoch 3. Best loss: 5.2983\n"
     ]
    },
    {
     "name": "stderr",
     "output_type": "stream",
     "text": [
      "100%|██████████| 1407/1407 [01:41<00:00, 13.88it/s]\n",
      "100%|██████████| 157/157 [00:04<00:00, 32.94it/s]\n"
     ]
    },
    {
     "name": "stdout",
     "output_type": "stream",
     "text": [
      "Epoch 4/1000: train_loss=5.2991, train_accuracy=0.0043, val_loss=5.2983, val_accuracy=0.0050\n",
      "Saving params from epoch 4. Best loss: 5.2983\n"
     ]
    },
    {
     "name": "stderr",
     "output_type": "stream",
     "text": [
      "100%|██████████| 1407/1407 [01:39<00:00, 14.07it/s]\n",
      "100%|██████████| 157/157 [00:04<00:00, 33.03it/s]\n"
     ]
    },
    {
     "name": "stdout",
     "output_type": "stream",
     "text": [
      "Epoch 5/1000: train_loss=5.2991, train_accuracy=0.0038, val_loss=5.2983, val_accuracy=0.0050\n",
      "Saving params from epoch 5. Best loss: 5.2983\n"
     ]
    },
    {
     "name": "stderr",
     "output_type": "stream",
     "text": [
      "100%|██████████| 1407/1407 [01:41<00:00, 13.83it/s]\n",
      "100%|██████████| 157/157 [00:04<00:00, 33.00it/s]\n"
     ]
    },
    {
     "name": "stdout",
     "output_type": "stream",
     "text": [
      "Epoch 6/1000: train_loss=5.2991, train_accuracy=0.0043, val_loss=5.2983, val_accuracy=0.0050\n"
     ]
    },
    {
     "name": "stderr",
     "output_type": "stream",
     "text": [
      "100%|██████████| 1407/1407 [01:41<00:00, 13.85it/s]\n",
      "100%|██████████| 157/157 [00:04<00:00, 32.05it/s]\n"
     ]
    },
    {
     "name": "stdout",
     "output_type": "stream",
     "text": [
      "Epoch 7/1000: train_loss=5.2991, train_accuracy=0.0042, val_loss=5.2983, val_accuracy=0.0050\n"
     ]
    },
    {
     "name": "stderr",
     "output_type": "stream",
     "text": [
      " 22%|██▏       | 304/1407 [00:21<01:19, 13.87it/s]\n"
     ]
    },
    {
     "ename": "KeyboardInterrupt",
     "evalue": "",
     "output_type": "error",
     "traceback": [
      "\u001b[0;31m---------------------------------------------------------------------------\u001b[0m",
      "\u001b[0;31mKeyboardInterrupt\u001b[0m                         Traceback (most recent call last)",
      "\u001b[1;32m/home/amitaharoni/workspace/cv-sprint/models/02-vgg.ipynb Cell 6\u001b[0m line \u001b[0;36m1\n\u001b[0;32m----> <a href='vscode-notebook-cell://wsl%2Bubuntu/home/amitaharoni/workspace/cv-sprint/models/02-vgg.ipynb#W5sdnNjb2RlLXJlbW90ZQ%3D%3D?line=0'>1</a>\u001b[0m train(model1, \u001b[39m'\u001b[39;49m\u001b[39mvgg-01\u001b[39;49m\u001b[39m'\u001b[39;49m)\n",
      "\u001b[1;32m/home/amitaharoni/workspace/cv-sprint/models/02-vgg.ipynb Cell 6\u001b[0m line \u001b[0;36m4\n\u001b[1;32m      <a href='vscode-notebook-cell://wsl%2Bubuntu/home/amitaharoni/workspace/cv-sprint/models/02-vgg.ipynb#W5sdnNjb2RlLXJlbW90ZQ%3D%3D?line=1'>2</a>\u001b[0m loss_fn \u001b[39m=\u001b[39m torch\u001b[39m.\u001b[39mnn\u001b[39m.\u001b[39mCrossEntropyLoss()\n\u001b[1;32m      <a href='vscode-notebook-cell://wsl%2Bubuntu/home/amitaharoni/workspace/cv-sprint/models/02-vgg.ipynb#W5sdnNjb2RlLXJlbW90ZQ%3D%3D?line=2'>3</a>\u001b[0m optimizer \u001b[39m=\u001b[39m torch\u001b[39m.\u001b[39moptim\u001b[39m.\u001b[39mAdam(model\u001b[39m.\u001b[39mparameters())\n\u001b[0;32m----> <a href='vscode-notebook-cell://wsl%2Bubuntu/home/amitaharoni/workspace/cv-sprint/models/02-vgg.ipynb#W5sdnNjb2RlLXJlbW90ZQ%3D%3D?line=3'>4</a>\u001b[0m hist \u001b[39m=\u001b[39m utils\u001b[39m.\u001b[39;49mtrain_model(model, train_dl, valid_dl, loss_fn, optimizer, epochs\u001b[39m=\u001b[39;49m\u001b[39m1000\u001b[39;49m, patience\u001b[39m=\u001b[39;49m\u001b[39m4\u001b[39;49m, tensorboard_dir\u001b[39m=\u001b[39;49m\u001b[39mf\u001b[39;49m\u001b[39m'\u001b[39;49m\u001b[39m../runs/02-\u001b[39;49m\u001b[39m{\u001b[39;49;00mname\u001b[39m}\u001b[39;49;00m\u001b[39m'\u001b[39;49m, metrics\u001b[39m=\u001b[39;49m[utils\u001b[39m.\u001b[39;49mmetric_accuracy])\n\u001b[1;32m      <a href='vscode-notebook-cell://wsl%2Bubuntu/home/amitaharoni/workspace/cv-sprint/models/02-vgg.ipynb#W5sdnNjb2RlLXJlbW90ZQ%3D%3D?line=4'>5</a>\u001b[0m utils\u001b[39m.\u001b[39mplot_metrics(hist)\n",
      "File \u001b[0;32m~/workspace/cv-sprint/models/utils.py:94\u001b[0m, in \u001b[0;36mtrain_model\u001b[0;34m(model, train_dataloader, val_dataloader, loss_fn, optimizer, epochs, last_epoch, tensorboard_dir, patience, metrics, scheduler)\u001b[0m\n\u001b[1;32m     91\u001b[0m         optimizer\u001b[39m.\u001b[39mstep()\n\u001b[1;32m     93\u001b[0m \u001b[39m# statistics\u001b[39;00m\n\u001b[0;32m---> 94\u001b[0m running_metrics[phase][\u001b[39m'\u001b[39m\u001b[39mloss\u001b[39m\u001b[39m'\u001b[39m] \u001b[39m+\u001b[39m\u001b[39m=\u001b[39m loss\u001b[39m.\u001b[39;49mitem() \u001b[39m*\u001b[39m inputs\u001b[39m.\u001b[39mshape[\u001b[39m0\u001b[39m]\n\u001b[1;32m     95\u001b[0m \u001b[39mfor\u001b[39;00m metric \u001b[39min\u001b[39;00m metrics:\n\u001b[1;32m     96\u001b[0m     metric_name, metric_val \u001b[39m=\u001b[39m metric(y_pred, y_true)\n",
      "\u001b[0;31mKeyboardInterrupt\u001b[0m: "
     ]
    }
   ],
   "source": [
    "train(model1, 'vgg-01')"
   ]
  },
  {
   "cell_type": "code",
   "execution_count": 33,
   "metadata": {},
   "outputs": [],
   "source": [
    "class VGGNet2(nn.Module):\n",
    "    def __init__(self) -> None:\n",
    "        super().__init__()\n",
    "        self.features = nn.Sequential(\n",
    "            nn.Conv2d(3, 64, kernel_size=3, padding=1),\n",
    "            nn.BatchNorm2d(64),\n",
    "            nn.ReLU(True),\n",
    "            nn.MaxPool2d(kernel_size=2, stride=2),\n",
    "            nn.Conv2d(64, 128, kernel_size=3, padding=1),\n",
    "            nn.BatchNorm2d(128),\n",
    "            nn.ReLU(True),\n",
    "            nn.MaxPool2d(kernel_size=2, stride=2),\n",
    "            nn.Conv2d(128, 256, kernel_size=3, padding=1),\n",
    "            nn.BatchNorm2d(256),\n",
    "            nn.ReLU(True),\n",
    "            nn.Conv2d(256, 256, kernel_size=3, padding=1),\n",
    "            nn.BatchNorm2d(256),\n",
    "            nn.ReLU(True),\n",
    "            nn.MaxPool2d(kernel_size=2, stride=2),\n",
    "            nn.Conv2d(256, 512, kernel_size=3, padding=1),\n",
    "            nn.BatchNorm2d(512),\n",
    "            nn.ReLU(True),\n",
    "            nn.Conv2d(512, 512, kernel_size=3, padding=1),\n",
    "            nn.BatchNorm2d(512),\n",
    "            nn.ReLU(True),\n",
    "            nn.MaxPool2d(kernel_size=2, stride=2),\n",
    "        )\n",
    "        self.avgpool = nn.AdaptiveAvgPool2d((1, 1))\n",
    "        self.classifier = nn.Sequential(\n",
    "            nn.Linear(512 * 1 * 1, 1024),\n",
    "            nn.ReLU(True),\n",
    "            nn.Dropout(p=0.5),\n",
    "            nn.Linear(1024, 1024),\n",
    "            nn.ReLU(True),\n",
    "            nn.Dropout(p=0.5),\n",
    "            nn.Linear(1024, 200),\n",
    "        )\n",
    "\n",
    "    def forward(self, x):\n",
    "        x = self.features(x)\n",
    "        x = self.avgpool(x)\n",
    "        x = torch.flatten(x, start_dim=1)\n",
    "        x = self.classifier(x)\n",
    "        return x\n",
    "\n",
    "model2 = VGGNet2().to(utils.device)"
   ]
  },
  {
   "cell_type": "code",
   "execution_count": 34,
   "metadata": {},
   "outputs": [
    {
     "name": "stderr",
     "output_type": "stream",
     "text": [
      "100%|██████████| 1407/1407 [01:35<00:00, 14.78it/s]\n",
      "100%|██████████| 157/157 [00:03<00:00, 41.19it/s]\n"
     ]
    },
    {
     "name": "stdout",
     "output_type": "stream",
     "text": [
      "Epoch 1/1000: train_loss=4.8731, train_accuracy=0.0291, val_loss=4.4876, val_accuracy=0.0597\n",
      "Saving params from epoch 1. Best loss: 4.4876\n"
     ]
    },
    {
     "name": "stderr",
     "output_type": "stream",
     "text": [
      "100%|██████████| 1407/1407 [01:35<00:00, 14.77it/s]\n",
      "100%|██████████| 157/157 [00:03<00:00, 43.23it/s]\n"
     ]
    },
    {
     "name": "stdout",
     "output_type": "stream",
     "text": [
      "Epoch 2/1000: train_loss=4.3943, train_accuracy=0.0654, val_loss=4.3834, val_accuracy=0.0737\n",
      "Saving params from epoch 2. Best loss: 4.3834\n"
     ]
    },
    {
     "name": "stderr",
     "output_type": "stream",
     "text": [
      "100%|██████████| 1407/1407 [01:19<00:00, 17.79it/s]\n",
      "100%|██████████| 157/157 [00:03<00:00, 42.63it/s]\n"
     ]
    },
    {
     "name": "stdout",
     "output_type": "stream",
     "text": [
      "Epoch 3/1000: train_loss=4.1117, train_accuracy=0.0988, val_loss=3.8858, val_accuracy=0.1334\n",
      "Saving params from epoch 3. Best loss: 3.8858\n"
     ]
    },
    {
     "name": "stderr",
     "output_type": "stream",
     "text": [
      "100%|██████████| 1407/1407 [01:26<00:00, 16.24it/s]\n",
      "100%|██████████| 157/157 [00:03<00:00, 42.26it/s]\n"
     ]
    },
    {
     "name": "stdout",
     "output_type": "stream",
     "text": [
      "Epoch 4/1000: train_loss=3.8816, train_accuracy=0.1308, val_loss=3.6187, val_accuracy=0.1766\n",
      "Saving params from epoch 4. Best loss: 3.6187\n"
     ]
    },
    {
     "name": "stderr",
     "output_type": "stream",
     "text": [
      "100%|██████████| 1407/1407 [01:35<00:00, 14.76it/s]\n",
      "100%|██████████| 157/157 [00:03<00:00, 43.06it/s]\n"
     ]
    },
    {
     "name": "stdout",
     "output_type": "stream",
     "text": [
      "Epoch 5/1000: train_loss=3.6760, train_accuracy=0.1633, val_loss=3.5052, val_accuracy=0.1938\n",
      "Saving params from epoch 5. Best loss: 3.5052\n"
     ]
    },
    {
     "name": "stderr",
     "output_type": "stream",
     "text": [
      "100%|██████████| 1407/1407 [01:34<00:00, 14.91it/s]\n",
      "100%|██████████| 157/157 [00:03<00:00, 43.36it/s]\n"
     ]
    },
    {
     "name": "stdout",
     "output_type": "stream",
     "text": [
      "Epoch 6/1000: train_loss=3.5005, train_accuracy=0.1912, val_loss=3.3451, val_accuracy=0.2283\n",
      "Saving params from epoch 6. Best loss: 3.3451\n"
     ]
    },
    {
     "name": "stderr",
     "output_type": "stream",
     "text": [
      "100%|██████████| 1407/1407 [01:34<00:00, 14.90it/s]\n",
      "100%|██████████| 157/157 [00:03<00:00, 42.58it/s]\n"
     ]
    },
    {
     "name": "stdout",
     "output_type": "stream",
     "text": [
      "Epoch 7/1000: train_loss=3.3266, train_accuracy=0.2231, val_loss=3.1714, val_accuracy=0.2592\n",
      "Saving params from epoch 7. Best loss: 3.1714\n"
     ]
    },
    {
     "name": "stderr",
     "output_type": "stream",
     "text": [
      "100%|██████████| 1407/1407 [01:34<00:00, 14.89it/s]\n",
      "100%|██████████| 157/157 [00:03<00:00, 42.76it/s]\n"
     ]
    },
    {
     "name": "stdout",
     "output_type": "stream",
     "text": [
      "Epoch 8/1000: train_loss=3.1631, train_accuracy=0.2515, val_loss=3.0850, val_accuracy=0.2725\n",
      "Saving params from epoch 8. Best loss: 3.0850\n"
     ]
    },
    {
     "name": "stderr",
     "output_type": "stream",
     "text": [
      "100%|██████████| 1407/1407 [01:34<00:00, 14.92it/s]\n",
      "100%|██████████| 157/157 [00:03<00:00, 42.81it/s]\n"
     ]
    },
    {
     "name": "stdout",
     "output_type": "stream",
     "text": [
      "Epoch 9/1000: train_loss=3.0214, train_accuracy=0.2795, val_loss=2.9448, val_accuracy=0.3105\n",
      "Saving params from epoch 9. Best loss: 2.9448\n"
     ]
    },
    {
     "name": "stderr",
     "output_type": "stream",
     "text": [
      "100%|██████████| 1407/1407 [01:34<00:00, 14.93it/s]\n",
      "100%|██████████| 157/157 [00:03<00:00, 42.48it/s]\n"
     ]
    },
    {
     "name": "stdout",
     "output_type": "stream",
     "text": [
      "Epoch 10/1000: train_loss=2.8741, train_accuracy=0.3066, val_loss=2.8729, val_accuracy=0.3196\n",
      "Saving params from epoch 10. Best loss: 2.8729\n"
     ]
    },
    {
     "name": "stderr",
     "output_type": "stream",
     "text": [
      "100%|██████████| 1407/1407 [01:34<00:00, 14.93it/s]\n",
      "100%|██████████| 157/157 [00:03<00:00, 42.88it/s]\n"
     ]
    },
    {
     "name": "stdout",
     "output_type": "stream",
     "text": [
      "Epoch 11/1000: train_loss=2.7322, train_accuracy=0.3350, val_loss=2.7320, val_accuracy=0.3412\n",
      "Saving params from epoch 11. Best loss: 2.7320\n"
     ]
    },
    {
     "name": "stderr",
     "output_type": "stream",
     "text": [
      "100%|██████████| 1407/1407 [01:43<00:00, 13.61it/s]\n",
      "100%|██████████| 157/157 [00:03<00:00, 39.55it/s]\n"
     ]
    },
    {
     "name": "stdout",
     "output_type": "stream",
     "text": [
      "Epoch 12/1000: train_loss=2.5983, train_accuracy=0.3603, val_loss=2.6902, val_accuracy=0.3520\n",
      "Saving params from epoch 12. Best loss: 2.6902\n"
     ]
    },
    {
     "name": "stderr",
     "output_type": "stream",
     "text": [
      "100%|██████████| 1407/1407 [01:44<00:00, 13.44it/s]\n",
      "100%|██████████| 157/157 [00:03<00:00, 40.07it/s]\n"
     ]
    },
    {
     "name": "stdout",
     "output_type": "stream",
     "text": [
      "Epoch 13/1000: train_loss=2.4586, train_accuracy=0.3877, val_loss=2.6908, val_accuracy=0.3589\n"
     ]
    },
    {
     "name": "stderr",
     "output_type": "stream",
     "text": [
      "100%|██████████| 1407/1407 [01:43<00:00, 13.53it/s]\n",
      "100%|██████████| 157/157 [00:03<00:00, 40.10it/s]\n"
     ]
    },
    {
     "name": "stdout",
     "output_type": "stream",
     "text": [
      "Epoch 14/1000: train_loss=2.3289, train_accuracy=0.4146, val_loss=2.6892, val_accuracy=0.3676\n",
      "Saving params from epoch 14. Best loss: 2.6892\n"
     ]
    },
    {
     "name": "stderr",
     "output_type": "stream",
     "text": [
      "100%|██████████| 1407/1407 [01:43<00:00, 13.57it/s]\n",
      "100%|██████████| 157/157 [00:03<00:00, 40.54it/s]\n"
     ]
    },
    {
     "name": "stdout",
     "output_type": "stream",
     "text": [
      "Epoch 15/1000: train_loss=2.1877, train_accuracy=0.4429, val_loss=2.7177, val_accuracy=0.3667\n"
     ]
    },
    {
     "name": "stderr",
     "output_type": "stream",
     "text": [
      "100%|██████████| 1407/1407 [01:43<00:00, 13.60it/s]\n",
      "100%|██████████| 157/157 [00:03<00:00, 40.54it/s]\n"
     ]
    },
    {
     "name": "stdout",
     "output_type": "stream",
     "text": [
      "Epoch 16/1000: train_loss=2.0526, train_accuracy=0.4705, val_loss=2.6026, val_accuracy=0.3858\n",
      "Saving params from epoch 16. Best loss: 2.6026\n"
     ]
    },
    {
     "name": "stderr",
     "output_type": "stream",
     "text": [
      "100%|██████████| 1407/1407 [01:43<00:00, 13.64it/s]\n",
      "100%|██████████| 157/157 [00:03<00:00, 40.16it/s]\n"
     ]
    },
    {
     "name": "stdout",
     "output_type": "stream",
     "text": [
      "Epoch 17/1000: train_loss=1.9103, train_accuracy=0.4995, val_loss=2.6196, val_accuracy=0.3900\n"
     ]
    },
    {
     "name": "stderr",
     "output_type": "stream",
     "text": [
      "100%|██████████| 1407/1407 [01:43<00:00, 13.65it/s]\n",
      "100%|██████████| 157/157 [00:03<00:00, 40.77it/s]\n"
     ]
    },
    {
     "name": "stdout",
     "output_type": "stream",
     "text": [
      "Epoch 18/1000: train_loss=1.7734, train_accuracy=0.5310, val_loss=2.7005, val_accuracy=0.3886\n"
     ]
    },
    {
     "name": "stderr",
     "output_type": "stream",
     "text": [
      "100%|██████████| 1407/1407 [01:36<00:00, 14.51it/s]\n",
      "100%|██████████| 157/157 [00:03<00:00, 43.21it/s]\n"
     ]
    },
    {
     "name": "stdout",
     "output_type": "stream",
     "text": [
      "Epoch 19/1000: train_loss=1.6351, train_accuracy=0.5564, val_loss=2.6513, val_accuracy=0.3959\n"
     ]
    },
    {
     "name": "stderr",
     "output_type": "stream",
     "text": [
      "100%|██████████| 1407/1407 [01:34<00:00, 14.93it/s]\n",
      "100%|██████████| 157/157 [00:03<00:00, 43.26it/s]\n"
     ]
    },
    {
     "name": "stdout",
     "output_type": "stream",
     "text": [
      "Epoch 20/1000: train_loss=1.4978, train_accuracy=0.5867, val_loss=2.7251, val_accuracy=0.3927\n",
      "Loading model params from epoch 16\n",
      "{'loss': 2.590837134170532, 'accuracy': 0.3959}\n"
     ]
    },
    {
     "data": {
      "image/png": "[encoded data removed]",
      "text/plain": [
       "<Figure size 1200x300 with 2 Axes>"
      ]
     },
     "metadata": {},
     "output_type": "display_data"
    }
   ],
   "source": [
    "train(model2, 'vgg-02')"
   ]
  },
  {
   "cell_type": "code",
   "execution_count": 25,
   "metadata": {},
   "outputs": [],
   "source": [
    "class VGGNet3(nn.Module):\n",
    "    def __init__(self) -> None:\n",
    "        super().__init__()\n",
    "        self.features = nn.Sequential(\n",
    "            nn.Conv2d(3, 64, kernel_size=3, padding=1),\n",
    "            nn.BatchNorm2d(64),\n",
    "            nn.ReLU(True),\n",
    "            nn.MaxPool2d(kernel_size=2, stride=2),\n",
    "            nn.Conv2d(64, 128, kernel_size=3, padding=1),\n",
    "            nn.BatchNorm2d(128),\n",
    "            nn.ReLU(True),\n",
    "            nn.MaxPool2d(kernel_size=2, stride=2),\n",
    "            nn.Conv2d(128, 256, kernel_size=3, padding=1),\n",
    "            nn.BatchNorm2d(256),\n",
    "            nn.ReLU(True),\n",
    "            nn.Conv2d(256, 256, kernel_size=3, padding=1),\n",
    "            nn.BatchNorm2d(256),\n",
    "            nn.ReLU(True),\n",
    "            nn.MaxPool2d(kernel_size=2, stride=2),\n",
    "            nn.Conv2d(256, 512, kernel_size=3, padding=1),\n",
    "            nn.BatchNorm2d(512),\n",
    "            nn.ReLU(True),\n",
    "            nn.Conv2d(512, 512, kernel_size=3, padding=1),\n",
    "            nn.BatchNorm2d(512),\n",
    "            nn.ReLU(True),\n",
    "            nn.MaxPool2d(kernel_size=2, stride=2),\n",
    "        )\n",
    "        self.avgpool = nn.AdaptiveAvgPool2d((1, 1))\n",
    "        self.classifier = nn.Sequential(\n",
    "            nn.Linear(512 * 1 * 1, 1024),\n",
    "            nn.ReLU(True),\n",
    "            nn.Dropout(p=0.5),\n",
    "            nn.Linear(1024, 1024),\n",
    "            nn.ReLU(True),\n",
    "            nn.Dropout(p=0.5),\n",
    "            nn.Linear(1024, 200),\n",
    "        )\n",
    "        for m in self.modules():\n",
    "            if isinstance(m, nn.Conv2d):\n",
    "                nn.init.kaiming_normal_(m.weight, mode=\"fan_out\", nonlinearity=\"relu\")\n",
    "                if m.bias is not None:\n",
    "                    nn.init.constant_(m.bias, 0)\n",
    "            elif isinstance(m, nn.BatchNorm2d):\n",
    "                nn.init.constant_(m.weight, 1)\n",
    "                nn.init.constant_(m.bias, 0)\n",
    "            elif isinstance(m, nn.Linear):\n",
    "                nn.init.normal_(m.weight, 0, 0.01)\n",
    "                nn.init.constant_(m.bias, 0)\n",
    "\n",
    "\n",
    "    def forward(self, x):\n",
    "        x = self.features(x)\n",
    "        x = self.avgpool(x)\n",
    "        x = torch.flatten(x, start_dim=1)\n",
    "        x = self.classifier(x)\n",
    "        return x\n",
    "\n",
    "model3 = VGGNet3().to(utils.device)"
   ]
  },
  {
   "cell_type": "code",
   "execution_count": 26,
   "metadata": {},
   "outputs": [
    {
     "name": "stderr",
     "output_type": "stream",
     "text": [
      "100%|██████████| 1407/1407 [01:48<00:00, 13.01it/s]\n",
      "100%|██████████| 157/157 [00:04<00:00, 32.35it/s]\n"
     ]
    },
    {
     "name": "stdout",
     "output_type": "stream",
     "text": [
      "Epoch 1/1000: train_loss=4.9864, train_accuracy=0.0208, val_loss=4.9681, val_accuracy=0.0314\n",
      "Saving params from epoch 1. Best loss: 4.9681\n"
     ]
    },
    {
     "name": "stderr",
     "output_type": "stream",
     "text": [
      "100%|██████████| 1407/1407 [01:47<00:00, 13.15it/s]\n",
      "100%|██████████| 157/157 [00:04<00:00, 33.12it/s]\n"
     ]
    },
    {
     "name": "stdout",
     "output_type": "stream",
     "text": [
      "Epoch 2/1000: train_loss=4.5807, train_accuracy=0.0463, val_loss=4.5770, val_accuracy=0.0557\n",
      "Saving params from epoch 2. Best loss: 4.5770\n"
     ]
    },
    {
     "name": "stderr",
     "output_type": "stream",
     "text": [
      "100%|██████████| 1407/1407 [01:44<00:00, 13.50it/s]\n",
      "100%|██████████| 157/157 [00:03<00:00, 42.25it/s]\n"
     ]
    },
    {
     "name": "stdout",
     "output_type": "stream",
     "text": [
      "Epoch 3/1000: train_loss=4.3154, train_accuracy=0.0707, val_loss=4.0771, val_accuracy=0.1034\n",
      "Saving params from epoch 3. Best loss: 4.0771\n"
     ]
    },
    {
     "name": "stderr",
     "output_type": "stream",
     "text": [
      "100%|██████████| 1407/1407 [01:34<00:00, 14.84it/s]\n",
      "100%|██████████| 157/157 [00:03<00:00, 42.84it/s]\n"
     ]
    },
    {
     "name": "stdout",
     "output_type": "stream",
     "text": [
      "Epoch 4/1000: train_loss=4.1270, train_accuracy=0.0923, val_loss=3.9108, val_accuracy=0.1279\n",
      "Saving params from epoch 4. Best loss: 3.9108\n"
     ]
    },
    {
     "name": "stderr",
     "output_type": "stream",
     "text": [
      "100%|██████████| 1407/1407 [01:33<00:00, 14.97it/s]\n",
      "100%|██████████| 157/157 [00:03<00:00, 42.91it/s]\n"
     ]
    },
    {
     "name": "stdout",
     "output_type": "stream",
     "text": [
      "Epoch 5/1000: train_loss=3.9354, train_accuracy=0.1186, val_loss=3.7617, val_accuracy=0.1465\n",
      "Saving params from epoch 5. Best loss: 3.7617\n"
     ]
    },
    {
     "name": "stderr",
     "output_type": "stream",
     "text": [
      "100%|██████████| 1407/1407 [01:34<00:00, 14.96it/s]\n",
      "100%|██████████| 157/157 [00:03<00:00, 43.11it/s]\n"
     ]
    },
    {
     "name": "stdout",
     "output_type": "stream",
     "text": [
      "Epoch 6/1000: train_loss=3.7640, train_accuracy=0.1443, val_loss=3.4735, val_accuracy=0.1980\n",
      "Saving params from epoch 6. Best loss: 3.4735\n"
     ]
    },
    {
     "name": "stderr",
     "output_type": "stream",
     "text": [
      "100%|██████████| 1407/1407 [01:33<00:00, 14.97it/s]\n",
      "100%|██████████| 157/157 [00:03<00:00, 43.26it/s]\n"
     ]
    },
    {
     "name": "stdout",
     "output_type": "stream",
     "text": [
      "Epoch 7/1000: train_loss=3.6096, train_accuracy=0.1671, val_loss=3.5017, val_accuracy=0.1946\n"
     ]
    },
    {
     "name": "stderr",
     "output_type": "stream",
     "text": [
      "100%|██████████| 1407/1407 [01:34<00:00, 14.86it/s]\n",
      "100%|██████████| 157/157 [00:03<00:00, 43.11it/s]\n"
     ]
    },
    {
     "name": "stdout",
     "output_type": "stream",
     "text": [
      "Epoch 8/1000: train_loss=3.4713, train_accuracy=0.1923, val_loss=3.4033, val_accuracy=0.2190\n",
      "Saving params from epoch 8. Best loss: 3.4033\n"
     ]
    },
    {
     "name": "stderr",
     "output_type": "stream",
     "text": [
      "100%|██████████| 1407/1407 [01:33<00:00, 14.98it/s]\n",
      "100%|██████████| 157/157 [00:03<00:00, 42.96it/s]\n"
     ]
    },
    {
     "name": "stdout",
     "output_type": "stream",
     "text": [
      "Epoch 9/1000: train_loss=3.3359, train_accuracy=0.2170, val_loss=3.1460, val_accuracy=0.2598\n",
      "Saving params from epoch 9. Best loss: 3.1460\n"
     ]
    },
    {
     "name": "stderr",
     "output_type": "stream",
     "text": [
      "100%|██████████| 1407/1407 [01:33<00:00, 14.97it/s]\n",
      "100%|██████████| 157/157 [00:03<00:00, 43.05it/s]\n"
     ]
    },
    {
     "name": "stdout",
     "output_type": "stream",
     "text": [
      "Epoch 10/1000: train_loss=3.2104, train_accuracy=0.2388, val_loss=3.1174, val_accuracy=0.2725\n",
      "Saving params from epoch 10. Best loss: 3.1174\n"
     ]
    },
    {
     "name": "stderr",
     "output_type": "stream",
     "text": [
      "100%|██████████| 1407/1407 [01:34<00:00, 14.93it/s]\n",
      "100%|██████████| 157/157 [00:03<00:00, 41.41it/s]\n"
     ]
    },
    {
     "name": "stdout",
     "output_type": "stream",
     "text": [
      "Epoch 11/1000: train_loss=3.0899, train_accuracy=0.2602, val_loss=3.0555, val_accuracy=0.2809\n",
      "Saving params from epoch 11. Best loss: 3.0555\n"
     ]
    },
    {
     "name": "stderr",
     "output_type": "stream",
     "text": [
      "100%|██████████| 1407/1407 [01:44<00:00, 13.41it/s]\n",
      "100%|██████████| 157/157 [00:03<00:00, 40.15it/s]\n"
     ]
    },
    {
     "name": "stdout",
     "output_type": "stream",
     "text": [
      "Epoch 12/1000: train_loss=2.9658, train_accuracy=0.2843, val_loss=2.9299, val_accuracy=0.3080\n",
      "Saving params from epoch 12. Best loss: 2.9299\n"
     ]
    },
    {
     "name": "stderr",
     "output_type": "stream",
     "text": [
      "100%|██████████| 1407/1407 [01:43<00:00, 13.62it/s]\n",
      "100%|██████████| 157/157 [00:03<00:00, 40.51it/s]\n"
     ]
    },
    {
     "name": "stdout",
     "output_type": "stream",
     "text": [
      "Epoch 13/1000: train_loss=2.8560, train_accuracy=0.3047, val_loss=2.9213, val_accuracy=0.3135\n",
      "Saving params from epoch 13. Best loss: 2.9213\n"
     ]
    },
    {
     "name": "stderr",
     "output_type": "stream",
     "text": [
      "100%|██████████| 1407/1407 [01:42<00:00, 13.69it/s]\n",
      "100%|██████████| 157/157 [00:03<00:00, 40.59it/s]\n"
     ]
    },
    {
     "name": "stdout",
     "output_type": "stream",
     "text": [
      "Epoch 14/1000: train_loss=2.7411, train_accuracy=0.3261, val_loss=2.8202, val_accuracy=0.3305\n",
      "Saving params from epoch 14. Best loss: 2.8202\n"
     ]
    },
    {
     "name": "stderr",
     "output_type": "stream",
     "text": [
      "100%|██████████| 1407/1407 [01:42<00:00, 13.68it/s]\n",
      "100%|██████████| 157/157 [00:03<00:00, 40.25it/s]\n"
     ]
    },
    {
     "name": "stdout",
     "output_type": "stream",
     "text": [
      "Epoch 15/1000: train_loss=2.6143, train_accuracy=0.3510, val_loss=2.8412, val_accuracy=0.3288\n"
     ]
    },
    {
     "name": "stderr",
     "output_type": "stream",
     "text": [
      "100%|██████████| 1407/1407 [01:42<00:00, 13.71it/s]\n",
      "100%|██████████| 157/157 [00:03<00:00, 40.52it/s]\n"
     ]
    },
    {
     "name": "stdout",
     "output_type": "stream",
     "text": [
      "Epoch 16/1000: train_loss=2.4967, train_accuracy=0.3728, val_loss=2.7640, val_accuracy=0.3440\n",
      "Saving params from epoch 16. Best loss: 2.7640\n"
     ]
    },
    {
     "name": "stderr",
     "output_type": "stream",
     "text": [
      "100%|██████████| 1407/1407 [01:37<00:00, 14.47it/s]\n",
      "100%|██████████| 157/157 [00:03<00:00, 42.85it/s]\n"
     ]
    },
    {
     "name": "stdout",
     "output_type": "stream",
     "text": [
      "Epoch 17/1000: train_loss=2.3694, train_accuracy=0.3972, val_loss=2.7311, val_accuracy=0.3548\n",
      "Saving params from epoch 17. Best loss: 2.7311\n"
     ]
    },
    {
     "name": "stderr",
     "output_type": "stream",
     "text": [
      "100%|██████████| 1407/1407 [01:34<00:00, 14.89it/s]\n",
      "100%|██████████| 157/157 [00:03<00:00, 42.68it/s]\n"
     ]
    },
    {
     "name": "stdout",
     "output_type": "stream",
     "text": [
      "Epoch 18/1000: train_loss=2.2430, train_accuracy=0.4211, val_loss=2.6962, val_accuracy=0.3651\n",
      "Saving params from epoch 18. Best loss: 2.6962\n"
     ]
    },
    {
     "name": "stderr",
     "output_type": "stream",
     "text": [
      "100%|██████████| 1407/1407 [01:35<00:00, 14.67it/s]\n",
      "100%|██████████| 157/157 [00:03<00:00, 42.15it/s]\n"
     ]
    },
    {
     "name": "stdout",
     "output_type": "stream",
     "text": [
      "Epoch 19/1000: train_loss=2.1155, train_accuracy=0.4446, val_loss=2.8042, val_accuracy=0.3582\n"
     ]
    },
    {
     "name": "stderr",
     "output_type": "stream",
     "text": [
      "100%|██████████| 1407/1407 [01:34<00:00, 14.88it/s]\n",
      "100%|██████████| 157/157 [00:03<00:00, 43.01it/s]\n"
     ]
    },
    {
     "name": "stdout",
     "output_type": "stream",
     "text": [
      "Epoch 20/1000: train_loss=1.9911, train_accuracy=0.4705, val_loss=2.8179, val_accuracy=0.3582\n"
     ]
    },
    {
     "name": "stderr",
     "output_type": "stream",
     "text": [
      "100%|██████████| 1407/1407 [01:34<00:00, 14.92it/s]\n",
      "100%|██████████| 157/157 [00:03<00:00, 42.84it/s]\n"
     ]
    },
    {
     "name": "stdout",
     "output_type": "stream",
     "text": [
      "Epoch 21/1000: train_loss=1.8632, train_accuracy=0.4960, val_loss=2.8661, val_accuracy=0.3626\n"
     ]
    },
    {
     "name": "stderr",
     "output_type": "stream",
     "text": [
      "100%|██████████| 1407/1407 [01:34<00:00, 14.93it/s]\n",
      "100%|██████████| 157/157 [00:03<00:00, 42.89it/s]\n"
     ]
    },
    {
     "name": "stdout",
     "output_type": "stream",
     "text": [
      "Epoch 22/1000: train_loss=1.7365, train_accuracy=0.5236, val_loss=2.8544, val_accuracy=0.3701\n",
      "Loading model params from epoch 18\n",
      "{'loss': 2.694144021606445, 'accuracy': 0.3655}\n"
     ]
    },
    {
     "data": {
      "image/png": "[encoded data removed]",
      "text/plain": [
       "<Figure size 1200x300 with 2 Axes>"
      ]
     },
     "metadata": {},
     "output_type": "display_data"
    }
   ],
   "source": [
    "train(model3, 'vgg-03')"
   ]
  },
  {
   "cell_type": "code",
   "execution_count": 28,
   "metadata": {},
   "outputs": [
    {
     "name": "stderr",
     "output_type": "stream",
     "text": [
      "100%|██████████| 1407/1407 [01:33<00:00, 15.07it/s]\n",
      "100%|██████████| 157/157 [00:03<00:00, 43.28it/s]\n"
     ]
    },
    {
     "name": "stdout",
     "output_type": "stream",
     "text": [
      "Epoch 1/1000: train_loss=3.8092, train_accuracy=0.1568, val_loss=4.5401, val_accuracy=0.0459\n",
      "Saving params from epoch 1. Best loss: 4.5401\n"
     ]
    },
    {
     "name": "stderr",
     "output_type": "stream",
     "text": [
      "100%|██████████| 1407/1407 [01:34<00:00, 14.90it/s]\n",
      "100%|██████████| 157/157 [00:03<00:00, 43.50it/s]\n"
     ]
    },
    {
     "name": "stdout",
     "output_type": "stream",
     "text": [
      "Epoch 2/1000: train_loss=4.3701, train_accuracy=0.0661, val_loss=4.4839, val_accuracy=0.0627\n",
      "Saving params from epoch 2. Best loss: 4.4839\n"
     ]
    },
    {
     "name": "stderr",
     "output_type": "stream",
     "text": [
      "100%|██████████| 1407/1407 [01:35<00:00, 14.76it/s]\n",
      "100%|██████████| 157/157 [00:04<00:00, 39.13it/s]\n"
     ]
    },
    {
     "name": "stdout",
     "output_type": "stream",
     "text": [
      "Epoch 3/1000: train_loss=4.2936, train_accuracy=0.0713, val_loss=4.2621, val_accuracy=0.0724\n",
      "Saving params from epoch 3. Best loss: 4.2621\n"
     ]
    },
    {
     "name": "stderr",
     "output_type": "stream",
     "text": [
      "100%|██████████| 1407/1407 [01:34<00:00, 14.89it/s]\n",
      "100%|██████████| 157/157 [00:02<00:00, 59.98it/s]\n"
     ]
    },
    {
     "name": "stdout",
     "output_type": "stream",
     "text": [
      "Epoch 4/1000: train_loss=4.2485, train_accuracy=0.0764, val_loss=4.4499, val_accuracy=0.0532\n"
     ]
    },
    {
     "name": "stderr",
     "output_type": "stream",
     "text": [
      "100%|██████████| 1407/1407 [01:34<00:00, 14.93it/s]\n",
      "100%|██████████| 157/157 [00:03<00:00, 42.18it/s]\n"
     ]
    },
    {
     "name": "stdout",
     "output_type": "stream",
     "text": [
      "Epoch 5/1000: train_loss=4.2145, train_accuracy=0.0789, val_loss=4.3747, val_accuracy=0.0694\n"
     ]
    },
    {
     "name": "stderr",
     "output_type": "stream",
     "text": [
      "100%|██████████| 1407/1407 [01:34<00:00, 14.88it/s]\n",
      "100%|██████████| 157/157 [00:03<00:00, 43.69it/s]\n"
     ]
    },
    {
     "name": "stdout",
     "output_type": "stream",
     "text": [
      "Epoch 6/1000: train_loss=4.1974, train_accuracy=0.0813, val_loss=4.9638, val_accuracy=0.0413\n"
     ]
    },
    {
     "name": "stderr",
     "output_type": "stream",
     "text": [
      "100%|██████████| 1407/1407 [01:34<00:00, 14.91it/s]\n",
      "100%|██████████| 157/157 [00:03<00:00, 40.54it/s]\n"
     ]
    },
    {
     "name": "stdout",
     "output_type": "stream",
     "text": [
      "Epoch 7/1000: train_loss=4.1805, train_accuracy=0.0844, val_loss=4.3467, val_accuracy=0.0782\n",
      "Loading model params from epoch 3\n",
      "{'loss': 4.272931941986084, 'accuracy': 0.0679}\n"
     ]
    },
    {
     "data": {
      "image/png": "[encoded data removed]",
      "text/plain": [
       "<Figure size 1200x300 with 2 Axes>"
      ]
     },
     "metadata": {},
     "output_type": "display_data"
    }
   ],
   "source": [
    "train(model2, 'vgg-04', weight_decay=0.01)"
   ]
  },
  {
   "cell_type": "code",
   "execution_count": 30,
   "metadata": {},
   "outputs": [
    {
     "name": "stderr",
     "output_type": "stream",
     "text": [
      "100%|██████████| 1407/1407 [01:33<00:00, 15.03it/s]\n",
      "100%|██████████| 157/157 [00:03<00:00, 43.41it/s]\n"
     ]
    },
    {
     "name": "stdout",
     "output_type": "stream",
     "text": [
      "Epoch 1/1000: train_loss=4.9374, train_accuracy=0.0221, val_loss=4.7554, val_accuracy=0.0300\n",
      "Saving params from epoch 1. Best loss: 4.7554\n"
     ]
    },
    {
     "name": "stderr",
     "output_type": "stream",
     "text": [
      "100%|██████████| 1407/1407 [01:33<00:00, 15.05it/s]\n",
      "100%|██████████| 157/157 [00:03<00:00, 43.41it/s]\n"
     ]
    },
    {
     "name": "stdout",
     "output_type": "stream",
     "text": [
      "Epoch 2/1000: train_loss=4.5821, train_accuracy=0.0435, val_loss=4.3929, val_accuracy=0.0584\n",
      "Saving params from epoch 2. Best loss: 4.3929\n"
     ]
    },
    {
     "name": "stderr",
     "output_type": "stream",
     "text": [
      "100%|██████████| 1407/1407 [01:33<00:00, 15.08it/s]\n",
      "100%|██████████| 157/157 [00:03<00:00, 43.05it/s]\n"
     ]
    },
    {
     "name": "stdout",
     "output_type": "stream",
     "text": [
      "Epoch 3/1000: train_loss=4.3312, train_accuracy=0.0670, val_loss=4.1638, val_accuracy=0.0855\n",
      "Saving params from epoch 3. Best loss: 4.1638\n"
     ]
    },
    {
     "name": "stderr",
     "output_type": "stream",
     "text": [
      "100%|██████████| 1407/1407 [01:37<00:00, 14.46it/s]\n",
      "100%|██████████| 157/157 [00:03<00:00, 43.24it/s]\n"
     ]
    },
    {
     "name": "stdout",
     "output_type": "stream",
     "text": [
      "Epoch 4/1000: train_loss=4.1398, train_accuracy=0.0904, val_loss=4.0372, val_accuracy=0.1112\n",
      "Saving params from epoch 4. Best loss: 4.0372\n"
     ]
    },
    {
     "name": "stderr",
     "output_type": "stream",
     "text": [
      "100%|██████████| 1407/1407 [01:34<00:00, 14.97it/s]\n",
      "100%|██████████| 157/157 [00:03<00:00, 42.86it/s]\n"
     ]
    },
    {
     "name": "stdout",
     "output_type": "stream",
     "text": [
      "Epoch 5/1000: train_loss=3.9782, train_accuracy=0.1097, val_loss=3.8771, val_accuracy=0.1274\n",
      "Saving params from epoch 5. Best loss: 3.8771\n"
     ]
    },
    {
     "name": "stderr",
     "output_type": "stream",
     "text": [
      "100%|██████████| 1407/1407 [01:34<00:00, 14.95it/s]\n",
      "100%|██████████| 157/157 [00:03<00:00, 43.54it/s]\n"
     ]
    },
    {
     "name": "stdout",
     "output_type": "stream",
     "text": [
      "Epoch 6/1000: train_loss=3.8696, train_accuracy=0.1260, val_loss=3.7543, val_accuracy=0.1465\n",
      "Saving params from epoch 6. Best loss: 3.7543\n"
     ]
    },
    {
     "name": "stderr",
     "output_type": "stream",
     "text": [
      "100%|██████████| 1407/1407 [01:34<00:00, 14.94it/s]\n",
      "100%|██████████| 157/157 [00:03<00:00, 43.83it/s]\n"
     ]
    },
    {
     "name": "stdout",
     "output_type": "stream",
     "text": [
      "Epoch 7/1000: train_loss=3.7809, train_accuracy=0.1405, val_loss=3.7191, val_accuracy=0.1532\n",
      "Saving params from epoch 7. Best loss: 3.7191\n"
     ]
    },
    {
     "name": "stderr",
     "output_type": "stream",
     "text": [
      "100%|██████████| 1407/1407 [01:36<00:00, 14.53it/s]\n",
      "100%|██████████| 157/157 [00:03<00:00, 42.73it/s]\n"
     ]
    },
    {
     "name": "stdout",
     "output_type": "stream",
     "text": [
      "Epoch 8/1000: train_loss=3.7095, train_accuracy=0.1543, val_loss=3.6080, val_accuracy=0.1694\n",
      "Saving params from epoch 8. Best loss: 3.6080\n"
     ]
    },
    {
     "name": "stderr",
     "output_type": "stream",
     "text": [
      "100%|██████████| 1407/1407 [01:35<00:00, 14.74it/s]\n",
      "100%|██████████| 157/157 [00:03<00:00, 42.06it/s]\n"
     ]
    },
    {
     "name": "stdout",
     "output_type": "stream",
     "text": [
      "Epoch 9/1000: train_loss=3.6444, train_accuracy=0.1655, val_loss=3.4900, val_accuracy=0.1960\n",
      "Saving params from epoch 9. Best loss: 3.4900\n"
     ]
    },
    {
     "name": "stderr",
     "output_type": "stream",
     "text": [
      "100%|██████████| 1407/1407 [01:34<00:00, 14.83it/s]\n",
      "100%|██████████| 157/157 [00:03<00:00, 42.50it/s]\n"
     ]
    },
    {
     "name": "stdout",
     "output_type": "stream",
     "text": [
      "Epoch 10/1000: train_loss=3.5921, train_accuracy=0.1742, val_loss=3.5091, val_accuracy=0.1889\n"
     ]
    },
    {
     "name": "stderr",
     "output_type": "stream",
     "text": [
      "100%|██████████| 1407/1407 [01:34<00:00, 14.89it/s]\n",
      "100%|██████████| 157/157 [00:03<00:00, 42.11it/s]\n"
     ]
    },
    {
     "name": "stdout",
     "output_type": "stream",
     "text": [
      "Epoch 11/1000: train_loss=3.5466, train_accuracy=0.1805, val_loss=3.4121, val_accuracy=0.2059\n",
      "Saving params from epoch 11. Best loss: 3.4121\n"
     ]
    },
    {
     "name": "stderr",
     "output_type": "stream",
     "text": [
      "100%|██████████| 1407/1407 [01:34<00:00, 14.87it/s]\n",
      "100%|██████████| 157/157 [00:03<00:00, 42.62it/s]\n"
     ]
    },
    {
     "name": "stdout",
     "output_type": "stream",
     "text": [
      "Epoch 12/1000: train_loss=3.5062, train_accuracy=0.1893, val_loss=3.4182, val_accuracy=0.2063\n"
     ]
    },
    {
     "name": "stderr",
     "output_type": "stream",
     "text": [
      "100%|██████████| 1407/1407 [01:35<00:00, 14.74it/s]\n",
      "100%|██████████| 157/157 [00:03<00:00, 42.83it/s]\n"
     ]
    },
    {
     "name": "stdout",
     "output_type": "stream",
     "text": [
      "Epoch 13/1000: train_loss=3.4719, train_accuracy=0.1952, val_loss=3.3982, val_accuracy=0.2103\n",
      "Saving params from epoch 13. Best loss: 3.3982\n"
     ]
    },
    {
     "name": "stderr",
     "output_type": "stream",
     "text": [
      "100%|██████████| 1407/1407 [01:35<00:00, 14.77it/s]\n",
      "100%|██████████| 157/157 [00:03<00:00, 42.11it/s]\n"
     ]
    },
    {
     "name": "stdout",
     "output_type": "stream",
     "text": [
      "Epoch 14/1000: train_loss=3.4432, train_accuracy=0.2016, val_loss=3.5214, val_accuracy=0.1890\n"
     ]
    },
    {
     "name": "stderr",
     "output_type": "stream",
     "text": [
      "100%|██████████| 1407/1407 [01:35<00:00, 14.67it/s]\n",
      "100%|██████████| 157/157 [00:03<00:00, 42.16it/s]\n"
     ]
    },
    {
     "name": "stdout",
     "output_type": "stream",
     "text": [
      "Epoch 15/1000: train_loss=3.4105, train_accuracy=0.2049, val_loss=3.4115, val_accuracy=0.2016\n"
     ]
    },
    {
     "name": "stderr",
     "output_type": "stream",
     "text": [
      "100%|██████████| 1407/1407 [01:36<00:00, 14.62it/s]\n",
      "100%|██████████| 157/157 [00:03<00:00, 42.35it/s]\n"
     ]
    },
    {
     "name": "stdout",
     "output_type": "stream",
     "text": [
      "Epoch 16/1000: train_loss=3.3878, train_accuracy=0.2107, val_loss=3.4246, val_accuracy=0.2044\n"
     ]
    },
    {
     "name": "stderr",
     "output_type": "stream",
     "text": [
      "100%|██████████| 1407/1407 [01:36<00:00, 14.63it/s]\n",
      "100%|██████████| 157/157 [00:03<00:00, 41.93it/s]\n"
     ]
    },
    {
     "name": "stdout",
     "output_type": "stream",
     "text": [
      "Epoch 17/1000: train_loss=3.3654, train_accuracy=0.2137, val_loss=3.5126, val_accuracy=0.1977\n",
      "Loading model params from epoch 13\n",
      "{'loss': 3.41535366897583, 'accuracy': 0.212}\n"
     ]
    },
    {
     "data": {
      "image/png": "[encoded data removed]",
      "text/plain": [
       "<Figure size 1200x300 with 2 Axes>"
      ]
     },
     "metadata": {},
     "output_type": "display_data"
    }
   ],
   "source": [
    "model5 = VGGNet2().to(utils.device)\n",
    "train(model5, 'vgg-05', weight_decay=0.001)"
   ]
  },
  {
   "cell_type": "code",
   "execution_count": 31,
   "metadata": {},
   "outputs": [
    {
     "name": "stderr",
     "output_type": "stream",
     "text": [
      "100%|██████████| 1407/1407 [01:33<00:00, 15.08it/s]\n",
      "100%|██████████| 157/157 [00:03<00:00, 43.24it/s]\n"
     ]
    },
    {
     "name": "stdout",
     "output_type": "stream",
     "text": [
      "Epoch 1/1000: train_loss=4.9266, train_accuracy=0.0229, val_loss=4.7941, val_accuracy=0.0306\n",
      "Saving params from epoch 1. Best loss: 4.7941\n"
     ]
    },
    {
     "name": "stderr",
     "output_type": "stream",
     "text": [
      "100%|██████████| 1407/1407 [01:34<00:00, 14.92it/s]\n",
      "100%|██████████| 157/157 [00:03<00:00, 43.84it/s]\n"
     ]
    },
    {
     "name": "stdout",
     "output_type": "stream",
     "text": [
      "Epoch 2/1000: train_loss=4.5178, train_accuracy=0.0494, val_loss=4.3310, val_accuracy=0.0704\n",
      "Saving params from epoch 2. Best loss: 4.3310\n"
     ]
    },
    {
     "name": "stderr",
     "output_type": "stream",
     "text": [
      "100%|██████████| 1407/1407 [01:34<00:00, 14.92it/s]\n",
      "100%|██████████| 157/157 [00:03<00:00, 43.51it/s]\n"
     ]
    },
    {
     "name": "stdout",
     "output_type": "stream",
     "text": [
      "Epoch 3/1000: train_loss=4.2556, train_accuracy=0.0755, val_loss=4.0469, val_accuracy=0.1003\n",
      "Saving params from epoch 3. Best loss: 4.0469\n"
     ]
    },
    {
     "name": "stderr",
     "output_type": "stream",
     "text": [
      "100%|██████████| 1407/1407 [01:34<00:00, 14.96it/s]\n",
      "100%|██████████| 157/157 [00:03<00:00, 43.37it/s]\n"
     ]
    },
    {
     "name": "stdout",
     "output_type": "stream",
     "text": [
      "Epoch 4/1000: train_loss=4.0451, train_accuracy=0.1024, val_loss=4.1052, val_accuracy=0.1033\n"
     ]
    },
    {
     "name": "stderr",
     "output_type": "stream",
     "text": [
      "100%|██████████| 1407/1407 [01:33<00:00, 14.99it/s]\n",
      "100%|██████████| 157/157 [00:03<00:00, 43.08it/s]\n"
     ]
    },
    {
     "name": "stdout",
     "output_type": "stream",
     "text": [
      "Epoch 5/1000: train_loss=3.8763, train_accuracy=0.1282, val_loss=3.7100, val_accuracy=0.1441\n",
      "Saving params from epoch 5. Best loss: 3.7100\n"
     ]
    },
    {
     "name": "stderr",
     "output_type": "stream",
     "text": [
      "100%|██████████| 1407/1407 [01:34<00:00, 14.93it/s]\n",
      "100%|██████████| 157/157 [00:03<00:00, 43.27it/s]\n"
     ]
    },
    {
     "name": "stdout",
     "output_type": "stream",
     "text": [
      "Epoch 6/1000: train_loss=3.7370, train_accuracy=0.1489, val_loss=3.6127, val_accuracy=0.1704\n",
      "Saving params from epoch 6. Best loss: 3.6127\n"
     ]
    },
    {
     "name": "stderr",
     "output_type": "stream",
     "text": [
      "100%|██████████| 1407/1407 [01:34<00:00, 14.87it/s]\n",
      "100%|██████████| 157/157 [00:03<00:00, 43.64it/s]\n"
     ]
    },
    {
     "name": "stdout",
     "output_type": "stream",
     "text": [
      "Epoch 7/1000: train_loss=3.6244, train_accuracy=0.1675, val_loss=3.6574, val_accuracy=0.1725\n"
     ]
    },
    {
     "name": "stderr",
     "output_type": "stream",
     "text": [
      "100%|██████████| 1407/1407 [01:34<00:00, 14.94it/s]\n",
      "100%|██████████| 157/157 [00:03<00:00, 43.84it/s]\n"
     ]
    },
    {
     "name": "stdout",
     "output_type": "stream",
     "text": [
      "Epoch 8/1000: train_loss=3.5306, train_accuracy=0.1837, val_loss=3.5435, val_accuracy=0.1874\n",
      "Saving params from epoch 8. Best loss: 3.5435\n"
     ]
    },
    {
     "name": "stderr",
     "output_type": "stream",
     "text": [
      "100%|██████████| 1407/1407 [01:34<00:00, 14.96it/s]\n",
      "100%|██████████| 157/157 [00:03<00:00, 43.44it/s]\n"
     ]
    },
    {
     "name": "stdout",
     "output_type": "stream",
     "text": [
      "Epoch 9/1000: train_loss=3.4457, train_accuracy=0.2000, val_loss=3.4589, val_accuracy=0.2081\n",
      "Saving params from epoch 9. Best loss: 3.4589\n"
     ]
    },
    {
     "name": "stderr",
     "output_type": "stream",
     "text": [
      "100%|██████████| 1407/1407 [01:34<00:00, 14.95it/s]\n",
      "100%|██████████| 157/157 [00:03<00:00, 43.31it/s]\n"
     ]
    },
    {
     "name": "stdout",
     "output_type": "stream",
     "text": [
      "Epoch 10/1000: train_loss=3.3774, train_accuracy=0.2115, val_loss=3.2909, val_accuracy=0.2268\n",
      "Saving params from epoch 10. Best loss: 3.2909\n"
     ]
    },
    {
     "name": "stderr",
     "output_type": "stream",
     "text": [
      "100%|██████████| 1407/1407 [01:33<00:00, 14.98it/s]\n",
      "100%|██████████| 157/157 [00:03<00:00, 43.08it/s]\n"
     ]
    },
    {
     "name": "stdout",
     "output_type": "stream",
     "text": [
      "Epoch 11/1000: train_loss=3.3182, train_accuracy=0.2216, val_loss=3.1597, val_accuracy=0.2498\n",
      "Saving params from epoch 11. Best loss: 3.1597\n"
     ]
    },
    {
     "name": "stderr",
     "output_type": "stream",
     "text": [
      "100%|██████████| 1407/1407 [01:34<00:00, 14.96it/s]\n",
      "100%|██████████| 157/157 [00:03<00:00, 43.86it/s]\n"
     ]
    },
    {
     "name": "stdout",
     "output_type": "stream",
     "text": [
      "Epoch 12/1000: train_loss=3.2651, train_accuracy=0.2316, val_loss=3.3616, val_accuracy=0.2214\n"
     ]
    },
    {
     "name": "stderr",
     "output_type": "stream",
     "text": [
      "100%|██████████| 1407/1407 [01:34<00:00, 14.97it/s]\n",
      "100%|██████████| 157/157 [00:03<00:00, 39.93it/s]\n"
     ]
    },
    {
     "name": "stdout",
     "output_type": "stream",
     "text": [
      "Epoch 13/1000: train_loss=3.2172, train_accuracy=0.2416, val_loss=3.1342, val_accuracy=0.2594\n",
      "Saving params from epoch 13. Best loss: 3.1342\n"
     ]
    },
    {
     "name": "stderr",
     "output_type": "stream",
     "text": [
      "100%|██████████| 1407/1407 [01:38<00:00, 14.34it/s]\n",
      "100%|██████████| 157/157 [00:03<00:00, 41.95it/s]\n"
     ]
    },
    {
     "name": "stdout",
     "output_type": "stream",
     "text": [
      "Epoch 14/1000: train_loss=3.1715, train_accuracy=0.2494, val_loss=3.1904, val_accuracy=0.2522\n"
     ]
    },
    {
     "name": "stderr",
     "output_type": "stream",
     "text": [
      "100%|██████████| 1407/1407 [01:37<00:00, 14.46it/s]\n",
      "100%|██████████| 157/157 [00:03<00:00, 41.29it/s]\n"
     ]
    },
    {
     "name": "stdout",
     "output_type": "stream",
     "text": [
      "Epoch 15/1000: train_loss=3.1331, train_accuracy=0.2582, val_loss=3.2494, val_accuracy=0.2434\n"
     ]
    },
    {
     "name": "stderr",
     "output_type": "stream",
     "text": [
      "100%|██████████| 1407/1407 [01:37<00:00, 14.41it/s]\n",
      "100%|██████████| 157/157 [00:03<00:00, 41.17it/s]\n"
     ]
    },
    {
     "name": "stdout",
     "output_type": "stream",
     "text": [
      "Epoch 16/1000: train_loss=3.0978, train_accuracy=0.2630, val_loss=3.1647, val_accuracy=0.2589\n"
     ]
    },
    {
     "name": "stderr",
     "output_type": "stream",
     "text": [
      "100%|██████████| 1407/1407 [01:37<00:00, 14.42it/s]\n",
      "100%|██████████| 157/157 [00:03<00:00, 41.74it/s]\n"
     ]
    },
    {
     "name": "stdout",
     "output_type": "stream",
     "text": [
      "Epoch 17/1000: train_loss=3.0646, train_accuracy=0.2703, val_loss=3.0414, val_accuracy=0.2791\n",
      "Saving params from epoch 17. Best loss: 3.0414\n"
     ]
    },
    {
     "name": "stderr",
     "output_type": "stream",
     "text": [
      "100%|██████████| 1407/1407 [01:37<00:00, 14.48it/s]\n",
      "100%|██████████| 157/157 [00:03<00:00, 41.57it/s]\n"
     ]
    },
    {
     "name": "stdout",
     "output_type": "stream",
     "text": [
      "Epoch 18/1000: train_loss=3.0289, train_accuracy=0.2771, val_loss=3.0960, val_accuracy=0.2699\n"
     ]
    },
    {
     "name": "stderr",
     "output_type": "stream",
     "text": [
      "100%|██████████| 1407/1407 [01:37<00:00, 14.45it/s]\n",
      "100%|██████████| 157/157 [00:03<00:00, 41.69it/s]\n"
     ]
    },
    {
     "name": "stdout",
     "output_type": "stream",
     "text": [
      "Epoch 19/1000: train_loss=3.0039, train_accuracy=0.2804, val_loss=3.0084, val_accuracy=0.2876\n",
      "Saving params from epoch 19. Best loss: 3.0084\n"
     ]
    },
    {
     "name": "stderr",
     "output_type": "stream",
     "text": [
      "100%|██████████| 1407/1407 [01:36<00:00, 14.51it/s]\n",
      "100%|██████████| 157/157 [00:03<00:00, 41.74it/s]\n"
     ]
    },
    {
     "name": "stdout",
     "output_type": "stream",
     "text": [
      "Epoch 20/1000: train_loss=2.9768, train_accuracy=0.2859, val_loss=3.0583, val_accuracy=0.2806\n"
     ]
    },
    {
     "name": "stderr",
     "output_type": "stream",
     "text": [
      "100%|██████████| 1407/1407 [01:37<00:00, 14.48it/s]\n",
      "100%|██████████| 157/157 [00:03<00:00, 41.49it/s]\n"
     ]
    },
    {
     "name": "stdout",
     "output_type": "stream",
     "text": [
      "Epoch 21/1000: train_loss=2.9557, train_accuracy=0.2901, val_loss=2.9576, val_accuracy=0.2899\n",
      "Saving params from epoch 21. Best loss: 2.9576\n"
     ]
    },
    {
     "name": "stderr",
     "output_type": "stream",
     "text": [
      "100%|██████████| 1407/1407 [01:35<00:00, 14.67it/s]\n",
      "100%|██████████| 157/157 [00:03<00:00, 43.17it/s]\n"
     ]
    },
    {
     "name": "stdout",
     "output_type": "stream",
     "text": [
      "Epoch 22/1000: train_loss=2.9284, train_accuracy=0.2965, val_loss=3.1159, val_accuracy=0.2716\n"
     ]
    },
    {
     "name": "stderr",
     "output_type": "stream",
     "text": [
      "100%|██████████| 1407/1407 [01:34<00:00, 14.95it/s]\n",
      "100%|██████████| 157/157 [00:03<00:00, 43.39it/s]\n"
     ]
    },
    {
     "name": "stdout",
     "output_type": "stream",
     "text": [
      "Epoch 23/1000: train_loss=2.9039, train_accuracy=0.3010, val_loss=3.0127, val_accuracy=0.2890\n"
     ]
    },
    {
     "name": "stderr",
     "output_type": "stream",
     "text": [
      "100%|██████████| 1407/1407 [01:34<00:00, 14.91it/s]\n",
      "100%|██████████| 157/157 [00:03<00:00, 43.45it/s]\n"
     ]
    },
    {
     "name": "stdout",
     "output_type": "stream",
     "text": [
      "Epoch 24/1000: train_loss=2.8865, train_accuracy=0.3041, val_loss=2.9996, val_accuracy=0.2928\n"
     ]
    },
    {
     "name": "stderr",
     "output_type": "stream",
     "text": [
      "100%|██████████| 1407/1407 [01:34<00:00, 14.95it/s]\n",
      "100%|██████████| 157/157 [00:03<00:00, 43.39it/s]\n"
     ]
    },
    {
     "name": "stdout",
     "output_type": "stream",
     "text": [
      "Epoch 25/1000: train_loss=2.8660, train_accuracy=0.3084, val_loss=2.9482, val_accuracy=0.2987\n",
      "Saving params from epoch 25. Best loss: 2.9482\n"
     ]
    },
    {
     "name": "stderr",
     "output_type": "stream",
     "text": [
      "100%|██████████| 1407/1407 [01:34<00:00, 14.95it/s]\n",
      "100%|██████████| 157/157 [00:03<00:00, 42.90it/s]\n"
     ]
    },
    {
     "name": "stdout",
     "output_type": "stream",
     "text": [
      "Epoch 26/1000: train_loss=2.8487, train_accuracy=0.3135, val_loss=2.9307, val_accuracy=0.3100\n",
      "Saving params from epoch 26. Best loss: 2.9307\n"
     ]
    },
    {
     "name": "stderr",
     "output_type": "stream",
     "text": [
      "100%|██████████| 1407/1407 [01:34<00:00, 14.95it/s]\n",
      "100%|██████████| 157/157 [00:03<00:00, 43.28it/s]\n"
     ]
    },
    {
     "name": "stdout",
     "output_type": "stream",
     "text": [
      "Epoch 27/1000: train_loss=2.8317, train_accuracy=0.3164, val_loss=2.9528, val_accuracy=0.3031\n"
     ]
    },
    {
     "name": "stderr",
     "output_type": "stream",
     "text": [
      "100%|██████████| 1407/1407 [01:36<00:00, 14.56it/s]\n",
      "100%|██████████| 157/157 [00:03<00:00, 41.17it/s]\n"
     ]
    },
    {
     "name": "stdout",
     "output_type": "stream",
     "text": [
      "Epoch 28/1000: train_loss=2.8165, train_accuracy=0.3173, val_loss=2.8872, val_accuracy=0.3126\n",
      "Saving params from epoch 28. Best loss: 2.8872\n"
     ]
    },
    {
     "name": "stderr",
     "output_type": "stream",
     "text": [
      "100%|██████████| 1407/1407 [01:37<00:00, 14.41it/s]\n",
      "100%|██████████| 157/157 [00:03<00:00, 40.82it/s]\n"
     ]
    },
    {
     "name": "stdout",
     "output_type": "stream",
     "text": [
      "Epoch 29/1000: train_loss=2.7958, train_accuracy=0.3205, val_loss=2.9532, val_accuracy=0.3014\n"
     ]
    },
    {
     "name": "stderr",
     "output_type": "stream",
     "text": [
      "100%|██████████| 1407/1407 [01:36<00:00, 14.53it/s]\n",
      "100%|██████████| 157/157 [00:03<00:00, 42.25it/s]\n"
     ]
    },
    {
     "name": "stdout",
     "output_type": "stream",
     "text": [
      "Epoch 30/1000: train_loss=2.7823, train_accuracy=0.3245, val_loss=2.9155, val_accuracy=0.3083\n"
     ]
    },
    {
     "name": "stderr",
     "output_type": "stream",
     "text": [
      "100%|██████████| 1407/1407 [01:34<00:00, 14.85it/s]\n",
      "100%|██████████| 157/157 [00:03<00:00, 42.96it/s]\n"
     ]
    },
    {
     "name": "stdout",
     "output_type": "stream",
     "text": [
      "Epoch 31/1000: train_loss=2.7666, train_accuracy=0.3275, val_loss=2.8210, val_accuracy=0.3228\n",
      "Saving params from epoch 31. Best loss: 2.8210\n"
     ]
    },
    {
     "name": "stderr",
     "output_type": "stream",
     "text": [
      "100%|██████████| 1407/1407 [01:35<00:00, 14.80it/s]\n",
      "100%|██████████| 157/157 [00:03<00:00, 42.24it/s]\n"
     ]
    },
    {
     "name": "stdout",
     "output_type": "stream",
     "text": [
      "Epoch 32/1000: train_loss=2.7527, train_accuracy=0.3286, val_loss=2.9030, val_accuracy=0.3134\n"
     ]
    },
    {
     "name": "stderr",
     "output_type": "stream",
     "text": [
      "100%|██████████| 1407/1407 [01:35<00:00, 14.79it/s]\n",
      "100%|██████████| 157/157 [00:03<00:00, 43.01it/s]\n"
     ]
    },
    {
     "name": "stdout",
     "output_type": "stream",
     "text": [
      "Epoch 33/1000: train_loss=2.7441, train_accuracy=0.3323, val_loss=3.0128, val_accuracy=0.2910\n"
     ]
    },
    {
     "name": "stderr",
     "output_type": "stream",
     "text": [
      "100%|██████████| 1407/1407 [01:34<00:00, 14.84it/s]\n",
      "100%|██████████| 157/157 [00:03<00:00, 43.22it/s]\n"
     ]
    },
    {
     "name": "stdout",
     "output_type": "stream",
     "text": [
      "Epoch 34/1000: train_loss=2.7277, train_accuracy=0.3353, val_loss=2.8925, val_accuracy=0.3112\n"
     ]
    },
    {
     "name": "stderr",
     "output_type": "stream",
     "text": [
      "100%|██████████| 1407/1407 [01:34<00:00, 14.85it/s]\n",
      "100%|██████████| 157/157 [00:03<00:00, 43.35it/s]\n"
     ]
    },
    {
     "name": "stdout",
     "output_type": "stream",
     "text": [
      "Epoch 35/1000: train_loss=2.7124, train_accuracy=0.3379, val_loss=2.8882, val_accuracy=0.3134\n",
      "Loading model params from epoch 31\n",
      "{'loss': 2.838965922737122, 'accuracy': 0.3197}\n"
     ]
    },
    {
     "data": {
      "image/png": "[encoded data removed]",
      "text/plain": [
       "<Figure size 1200x300 with 2 Axes>"
      ]
     },
     "metadata": {},
     "output_type": "display_data"
    }
   ],
   "source": [
    "model6 = VGGNet2().to(utils.device)\n",
    "train(model6, 'vgg-06', weight_decay=5e-4)"
   ]
  },
  {
   "cell_type": "code",
   "execution_count": 40,
   "metadata": {},
   "outputs": [
    {
     "data": {
      "text/plain": [
       "(50000, 10000, 10000)"
      ]
     },
     "execution_count": 40,
     "metadata": {},
     "output_type": "execute_result"
    }
   ],
   "source": [
    "train_dl, valid_dl, test_dl = utils.make_tiny_imagenet_dataloaders(train_split=0.5)\n",
    "len(train_dl.dataset), len(valid_dl.dataset), len(test_dl.dataset)"
   ]
  },
  {
   "cell_type": "code",
   "execution_count": 42,
   "metadata": {},
   "outputs": [
    {
     "name": "stderr",
     "output_type": "stream",
     "text": [
      "100%|██████████| 782/782 [00:52<00:00, 14.95it/s]\n",
      "100%|██████████| 157/157 [00:03<00:00, 42.72it/s]\n"
     ]
    },
    {
     "name": "stdout",
     "output_type": "stream",
     "text": [
      "Epoch 1/1000: train_loss=4.9982, train_accuracy=0.0211, val_loss=4.8776, val_accuracy=0.0283\n",
      "Saving params from epoch 1. Best loss: 4.8776\n"
     ]
    },
    {
     "name": "stderr",
     "output_type": "stream",
     "text": [
      "100%|██████████| 782/782 [00:52<00:00, 14.95it/s]\n",
      "100%|██████████| 157/157 [00:03<00:00, 43.03it/s]\n"
     ]
    },
    {
     "name": "stdout",
     "output_type": "stream",
     "text": [
      "Epoch 2/1000: train_loss=4.6497, train_accuracy=0.0424, val_loss=4.4146, val_accuracy=0.0618\n",
      "Saving params from epoch 2. Best loss: 4.4146\n"
     ]
    },
    {
     "name": "stderr",
     "output_type": "stream",
     "text": [
      "100%|██████████| 782/782 [00:52<00:00, 14.94it/s]\n",
      "100%|██████████| 157/157 [00:03<00:00, 43.05it/s]\n"
     ]
    },
    {
     "name": "stdout",
     "output_type": "stream",
     "text": [
      "Epoch 3/1000: train_loss=4.3998, train_accuracy=0.0641, val_loss=4.2576, val_accuracy=0.0816\n",
      "Saving params from epoch 3. Best loss: 4.2576\n"
     ]
    },
    {
     "name": "stderr",
     "output_type": "stream",
     "text": [
      "100%|██████████| 782/782 [00:52<00:00, 14.92it/s]\n",
      "100%|██████████| 157/157 [00:03<00:00, 43.04it/s]\n"
     ]
    },
    {
     "name": "stdout",
     "output_type": "stream",
     "text": [
      "Epoch 4/1000: train_loss=4.2206, train_accuracy=0.0819, val_loss=4.0576, val_accuracy=0.1076\n",
      "Saving params from epoch 4. Best loss: 4.0576\n"
     ]
    },
    {
     "name": "stderr",
     "output_type": "stream",
     "text": [
      "100%|██████████| 782/782 [00:52<00:00, 14.94it/s]\n",
      "100%|██████████| 157/157 [00:03<00:00, 43.48it/s]\n"
     ]
    },
    {
     "name": "stdout",
     "output_type": "stream",
     "text": [
      "Epoch 5/1000: train_loss=4.0686, train_accuracy=0.1026, val_loss=3.9185, val_accuracy=0.1224\n",
      "Saving params from epoch 5. Best loss: 3.9185\n"
     ]
    },
    {
     "name": "stderr",
     "output_type": "stream",
     "text": [
      "100%|██████████| 782/782 [00:52<00:00, 14.95it/s]\n",
      "100%|██████████| 157/157 [00:03<00:00, 43.09it/s]\n"
     ]
    },
    {
     "name": "stdout",
     "output_type": "stream",
     "text": [
      "Epoch 6/1000: train_loss=3.9340, train_accuracy=0.1196, val_loss=3.8144, val_accuracy=0.1428\n",
      "Saving params from epoch 6. Best loss: 3.8144\n"
     ]
    },
    {
     "name": "stderr",
     "output_type": "stream",
     "text": [
      "100%|██████████| 782/782 [00:52<00:00, 14.87it/s]\n",
      "100%|██████████| 157/157 [00:03<00:00, 42.89it/s]\n"
     ]
    },
    {
     "name": "stdout",
     "output_type": "stream",
     "text": [
      "Epoch 7/1000: train_loss=3.8008, train_accuracy=0.1404, val_loss=3.7705, val_accuracy=0.1525\n",
      "Saving params from epoch 7. Best loss: 3.7705\n"
     ]
    },
    {
     "name": "stderr",
     "output_type": "stream",
     "text": [
      "100%|██████████| 782/782 [00:52<00:00, 14.93it/s]\n",
      "100%|██████████| 157/157 [00:03<00:00, 42.98it/s]\n"
     ]
    },
    {
     "name": "stdout",
     "output_type": "stream",
     "text": [
      "Epoch 8/1000: train_loss=3.6732, train_accuracy=0.1583, val_loss=3.5157, val_accuracy=0.1958\n",
      "Saving params from epoch 8. Best loss: 3.5157\n"
     ]
    },
    {
     "name": "stderr",
     "output_type": "stream",
     "text": [
      "100%|██████████| 782/782 [00:52<00:00, 14.92it/s]\n",
      "100%|██████████| 157/157 [00:03<00:00, 43.21it/s]\n"
     ]
    },
    {
     "name": "stdout",
     "output_type": "stream",
     "text": [
      "Epoch 9/1000: train_loss=3.5540, train_accuracy=0.1774, val_loss=3.4700, val_accuracy=0.1984\n",
      "Saving params from epoch 9. Best loss: 3.4700\n"
     ]
    },
    {
     "name": "stderr",
     "output_type": "stream",
     "text": [
      "100%|██████████| 782/782 [00:52<00:00, 14.85it/s]\n",
      "100%|██████████| 157/157 [00:03<00:00, 42.73it/s]\n"
     ]
    },
    {
     "name": "stdout",
     "output_type": "stream",
     "text": [
      "Epoch 10/1000: train_loss=3.4433, train_accuracy=0.1972, val_loss=3.3560, val_accuracy=0.2327\n",
      "Saving params from epoch 10. Best loss: 3.3560\n"
     ]
    },
    {
     "name": "stderr",
     "output_type": "stream",
     "text": [
      "100%|██████████| 782/782 [00:52<00:00, 14.85it/s]\n",
      "100%|██████████| 157/157 [00:03<00:00, 42.91it/s]\n"
     ]
    },
    {
     "name": "stdout",
     "output_type": "stream",
     "text": [
      "Epoch 11/1000: train_loss=3.3300, train_accuracy=0.2163, val_loss=3.5314, val_accuracy=0.1980\n"
     ]
    },
    {
     "name": "stderr",
     "output_type": "stream",
     "text": [
      "100%|██████████| 782/782 [00:52<00:00, 14.88it/s]\n",
      "100%|██████████| 157/157 [00:03<00:00, 42.37it/s]\n"
     ]
    },
    {
     "name": "stdout",
     "output_type": "stream",
     "text": [
      "Epoch 12/1000: train_loss=3.2203, train_accuracy=0.2373, val_loss=3.2940, val_accuracy=0.2388\n",
      "Saving params from epoch 12. Best loss: 3.2940\n"
     ]
    },
    {
     "name": "stderr",
     "output_type": "stream",
     "text": [
      "100%|██████████| 782/782 [00:52<00:00, 14.89it/s]\n",
      "100%|██████████| 157/157 [00:03<00:00, 43.04it/s]\n"
     ]
    },
    {
     "name": "stdout",
     "output_type": "stream",
     "text": [
      "Epoch 13/1000: train_loss=3.1058, train_accuracy=0.2553, val_loss=3.2044, val_accuracy=0.2467\n",
      "Saving params from epoch 13. Best loss: 3.2044\n"
     ]
    },
    {
     "name": "stderr",
     "output_type": "stream",
     "text": [
      "100%|██████████| 782/782 [00:52<00:00, 14.87it/s]\n",
      "100%|██████████| 157/157 [00:03<00:00, 43.57it/s]\n"
     ]
    },
    {
     "name": "stdout",
     "output_type": "stream",
     "text": [
      "Epoch 14/1000: train_loss=2.9895, train_accuracy=0.2756, val_loss=3.1877, val_accuracy=0.2619\n",
      "Saving params from epoch 14. Best loss: 3.1877\n"
     ]
    },
    {
     "name": "stderr",
     "output_type": "stream",
     "text": [
      "100%|██████████| 782/782 [00:52<00:00, 14.92it/s]\n",
      "100%|██████████| 157/157 [00:03<00:00, 43.00it/s]\n"
     ]
    },
    {
     "name": "stdout",
     "output_type": "stream",
     "text": [
      "Epoch 15/1000: train_loss=2.8785, train_accuracy=0.2976, val_loss=3.0530, val_accuracy=0.2907\n",
      "Saving params from epoch 15. Best loss: 3.0530\n"
     ]
    },
    {
     "name": "stderr",
     "output_type": "stream",
     "text": [
      "100%|██████████| 782/782 [00:52<00:00, 14.87it/s]\n",
      "100%|██████████| 157/157 [00:03<00:00, 43.37it/s]\n"
     ]
    },
    {
     "name": "stdout",
     "output_type": "stream",
     "text": [
      "Epoch 16/1000: train_loss=2.7583, train_accuracy=0.3182, val_loss=2.9836, val_accuracy=0.2946\n",
      "Saving params from epoch 16. Best loss: 2.9836\n"
     ]
    },
    {
     "name": "stderr",
     "output_type": "stream",
     "text": [
      "100%|██████████| 782/782 [00:52<00:00, 14.94it/s]\n",
      "100%|██████████| 157/157 [00:03<00:00, 43.19it/s]\n"
     ]
    },
    {
     "name": "stdout",
     "output_type": "stream",
     "text": [
      "Epoch 17/1000: train_loss=2.6388, train_accuracy=0.3428, val_loss=2.9981, val_accuracy=0.3000\n"
     ]
    },
    {
     "name": "stderr",
     "output_type": "stream",
     "text": [
      "100%|██████████| 782/782 [00:52<00:00, 14.89it/s]\n",
      "100%|██████████| 157/157 [00:03<00:00, 42.59it/s]\n"
     ]
    },
    {
     "name": "stdout",
     "output_type": "stream",
     "text": [
      "Epoch 18/1000: train_loss=2.5090, train_accuracy=0.3680, val_loss=3.0296, val_accuracy=0.2994\n"
     ]
    },
    {
     "name": "stderr",
     "output_type": "stream",
     "text": [
      "100%|██████████| 782/782 [00:52<00:00, 14.81it/s]\n",
      "100%|██████████| 157/157 [00:03<00:00, 41.68it/s]\n"
     ]
    },
    {
     "name": "stdout",
     "output_type": "stream",
     "text": [
      "Epoch 19/1000: train_loss=2.3859, train_accuracy=0.3901, val_loss=3.1580, val_accuracy=0.2842\n"
     ]
    },
    {
     "name": "stderr",
     "output_type": "stream",
     "text": [
      "100%|██████████| 782/782 [00:52<00:00, 14.85it/s]\n",
      "100%|██████████| 157/157 [00:03<00:00, 42.90it/s]\n"
     ]
    },
    {
     "name": "stdout",
     "output_type": "stream",
     "text": [
      "Epoch 20/1000: train_loss=2.2587, train_accuracy=0.4128, val_loss=2.9665, val_accuracy=0.3153\n",
      "Saving params from epoch 20. Best loss: 2.9665\n"
     ]
    },
    {
     "name": "stderr",
     "output_type": "stream",
     "text": [
      "100%|██████████| 782/782 [00:52<00:00, 14.84it/s]\n",
      "100%|██████████| 157/157 [00:03<00:00, 42.73it/s]\n"
     ]
    },
    {
     "name": "stdout",
     "output_type": "stream",
     "text": [
      "Epoch 21/1000: train_loss=2.1221, train_accuracy=0.4441, val_loss=3.1714, val_accuracy=0.2928\n"
     ]
    },
    {
     "name": "stderr",
     "output_type": "stream",
     "text": [
      "100%|██████████| 782/782 [00:52<00:00, 15.04it/s]\n",
      "100%|██████████| 157/157 [00:02<00:00, 59.03it/s]\n"
     ]
    },
    {
     "name": "stdout",
     "output_type": "stream",
     "text": [
      "Epoch 22/1000: train_loss=1.9771, train_accuracy=0.4718, val_loss=3.2945, val_accuracy=0.2900\n"
     ]
    },
    {
     "name": "stderr",
     "output_type": "stream",
     "text": [
      "100%|██████████| 782/782 [00:35<00:00, 22.04it/s]\n",
      "100%|██████████| 157/157 [00:02<00:00, 60.14it/s]\n"
     ]
    },
    {
     "name": "stdout",
     "output_type": "stream",
     "text": [
      "Epoch 23/1000: train_loss=1.8367, train_accuracy=0.5025, val_loss=3.0961, val_accuracy=0.3258\n"
     ]
    },
    {
     "name": "stderr",
     "output_type": "stream",
     "text": [
      "100%|██████████| 782/782 [00:35<00:00, 22.27it/s]\n",
      "100%|██████████| 157/157 [00:02<00:00, 59.86it/s]"
     ]
    },
    {
     "name": "stdout",
     "output_type": "stream",
     "text": [
      "Epoch 24/1000: train_loss=1.6890, train_accuracy=0.5338, val_loss=3.2165, val_accuracy=0.3256\n",
      "Loading model params from epoch 20\n"
     ]
    },
    {
     "name": "stderr",
     "output_type": "stream",
     "text": [
      "\n"
     ]
    },
    {
     "name": "stdout",
     "output_type": "stream",
     "text": [
      "{'loss': 2.9856330501556396, 'accuracy': 0.3126}\n"
     ]
    },
    {
     "data": {
      "image/png": "[encoded data removed]",
      "text/plain": [
       "<Figure size 1200x300 with 2 Axes>"
      ]
     },
     "metadata": {},
     "output_type": "display_data"
    }
   ],
   "source": [
    "model7 = VGGNet2().to(utils.device)\n",
    "train(model7, 'vgg-07')"
   ]
  },
  {
   "cell_type": "code",
   "execution_count": 43,
   "metadata": {},
   "outputs": [
    {
     "data": {
      "text/plain": [
       "(50000, 10000, 10000)"
      ]
     },
     "execution_count": 43,
     "metadata": {},
     "output_type": "execute_result"
    }
   ],
   "source": [
    "train_dl, valid_dl, test_dl = utils.make_tiny_imagenet_dataloaders(train_split=0.5, batch_size=256)\n",
    "len(train_dl.dataset), len(valid_dl.dataset), len(test_dl.dataset)"
   ]
  },
  {
   "cell_type": "code",
   "execution_count": 44,
   "metadata": {},
   "outputs": [
    {
     "name": "stderr",
     "output_type": "stream",
     "text": [
      "100%|██████████| 196/196 [00:31<00:00,  6.29it/s]\n",
      "100%|██████████| 40/40 [00:03<00:00, 12.48it/s]\n"
     ]
    },
    {
     "name": "stdout",
     "output_type": "stream",
     "text": [
      "Epoch 1/1000: train_loss=4.8986, train_accuracy=0.0280, val_loss=4.6251, val_accuracy=0.0449\n",
      "Saving params from epoch 1. Best loss: 4.6251\n"
     ]
    },
    {
     "name": "stderr",
     "output_type": "stream",
     "text": [
      "100%|██████████| 196/196 [00:31<00:00,  6.30it/s]\n",
      "100%|██████████| 40/40 [00:03<00:00, 12.60it/s]\n"
     ]
    },
    {
     "name": "stdout",
     "output_type": "stream",
     "text": [
      "Epoch 2/1000: train_loss=4.4642, train_accuracy=0.0588, val_loss=4.5097, val_accuracy=0.0588\n",
      "Saving params from epoch 2. Best loss: 4.5097\n"
     ]
    },
    {
     "name": "stderr",
     "output_type": "stream",
     "text": [
      "100%|██████████| 196/196 [00:30<00:00,  6.36it/s]\n",
      "100%|██████████| 40/40 [00:03<00:00, 12.48it/s]\n"
     ]
    },
    {
     "name": "stdout",
     "output_type": "stream",
     "text": [
      "Epoch 3/1000: train_loss=4.2297, train_accuracy=0.0805, val_loss=4.2360, val_accuracy=0.0852\n",
      "Saving params from epoch 3. Best loss: 4.2360\n"
     ]
    },
    {
     "name": "stderr",
     "output_type": "stream",
     "text": [
      "100%|██████████| 196/196 [00:30<00:00,  6.37it/s]\n",
      "100%|██████████| 40/40 [00:03<00:00, 12.49it/s]\n"
     ]
    },
    {
     "name": "stdout",
     "output_type": "stream",
     "text": [
      "Epoch 4/1000: train_loss=4.0531, train_accuracy=0.1031, val_loss=3.9825, val_accuracy=0.1158\n",
      "Saving params from epoch 4. Best loss: 3.9825\n"
     ]
    },
    {
     "name": "stderr",
     "output_type": "stream",
     "text": [
      "100%|██████████| 196/196 [00:30<00:00,  6.34it/s]\n",
      "100%|██████████| 40/40 [00:03<00:00, 12.48it/s]\n"
     ]
    },
    {
     "name": "stdout",
     "output_type": "stream",
     "text": [
      "Epoch 5/1000: train_loss=3.8916, train_accuracy=0.1243, val_loss=3.8119, val_accuracy=0.1409\n",
      "Saving params from epoch 5. Best loss: 3.8119\n"
     ]
    },
    {
     "name": "stderr",
     "output_type": "stream",
     "text": [
      "100%|██████████| 196/196 [00:30<00:00,  6.33it/s]\n",
      "100%|██████████| 40/40 [00:03<00:00, 12.42it/s]\n"
     ]
    },
    {
     "name": "stdout",
     "output_type": "stream",
     "text": [
      "Epoch 6/1000: train_loss=3.7623, train_accuracy=0.1461, val_loss=3.8064, val_accuracy=0.1459\n",
      "Saving params from epoch 6. Best loss: 3.8064\n"
     ]
    },
    {
     "name": "stderr",
     "output_type": "stream",
     "text": [
      "100%|██████████| 196/196 [00:30<00:00,  6.39it/s]\n",
      "100%|██████████| 40/40 [00:03<00:00, 12.49it/s]\n"
     ]
    },
    {
     "name": "stdout",
     "output_type": "stream",
     "text": [
      "Epoch 7/1000: train_loss=3.6332, train_accuracy=0.1622, val_loss=3.6752, val_accuracy=0.1648\n",
      "Saving params from epoch 7. Best loss: 3.6752\n"
     ]
    },
    {
     "name": "stderr",
     "output_type": "stream",
     "text": [
      "100%|██████████| 196/196 [00:30<00:00,  6.40it/s]\n",
      "100%|██████████| 40/40 [00:03<00:00, 12.45it/s]\n"
     ]
    },
    {
     "name": "stdout",
     "output_type": "stream",
     "text": [
      "Epoch 8/1000: train_loss=3.5164, train_accuracy=0.1815, val_loss=3.5543, val_accuracy=0.1863\n",
      "Saving params from epoch 8. Best loss: 3.5543\n"
     ]
    },
    {
     "name": "stderr",
     "output_type": "stream",
     "text": [
      "100%|██████████| 196/196 [00:30<00:00,  6.37it/s]\n",
      "100%|██████████| 40/40 [00:03<00:00, 12.43it/s]\n"
     ]
    },
    {
     "name": "stdout",
     "output_type": "stream",
     "text": [
      "Epoch 9/1000: train_loss=3.4030, train_accuracy=0.2015, val_loss=3.6675, val_accuracy=0.1738\n"
     ]
    },
    {
     "name": "stderr",
     "output_type": "stream",
     "text": [
      "100%|██████████| 196/196 [00:30<00:00,  6.33it/s]\n",
      "100%|██████████| 40/40 [00:03<00:00, 12.46it/s]\n"
     ]
    },
    {
     "name": "stdout",
     "output_type": "stream",
     "text": [
      "Epoch 10/1000: train_loss=3.3037, train_accuracy=0.2200, val_loss=3.4056, val_accuracy=0.2164\n",
      "Saving params from epoch 10. Best loss: 3.4056\n"
     ]
    },
    {
     "name": "stderr",
     "output_type": "stream",
     "text": [
      "100%|██████████| 196/196 [00:30<00:00,  6.33it/s]\n",
      "100%|██████████| 40/40 [00:03<00:00, 12.49it/s]\n"
     ]
    },
    {
     "name": "stdout",
     "output_type": "stream",
     "text": [
      "Epoch 11/1000: train_loss=3.2024, train_accuracy=0.2358, val_loss=3.8746, val_accuracy=0.1650\n"
     ]
    },
    {
     "name": "stderr",
     "output_type": "stream",
     "text": [
      "100%|██████████| 196/196 [00:30<00:00,  6.38it/s]\n",
      "100%|██████████| 40/40 [00:03<00:00, 12.39it/s]\n"
     ]
    },
    {
     "name": "stdout",
     "output_type": "stream",
     "text": [
      "Epoch 12/1000: train_loss=3.1036, train_accuracy=0.2531, val_loss=3.2613, val_accuracy=0.2445\n",
      "Saving params from epoch 12. Best loss: 3.2613\n"
     ]
    },
    {
     "name": "stderr",
     "output_type": "stream",
     "text": [
      "100%|██████████| 196/196 [00:30<00:00,  6.38it/s]\n",
      "100%|██████████| 40/40 [00:03<00:00, 12.38it/s]\n"
     ]
    },
    {
     "name": "stdout",
     "output_type": "stream",
     "text": [
      "Epoch 13/1000: train_loss=3.0064, train_accuracy=0.2681, val_loss=3.4420, val_accuracy=0.2238\n"
     ]
    },
    {
     "name": "stderr",
     "output_type": "stream",
     "text": [
      "100%|██████████| 196/196 [00:30<00:00,  6.36it/s]\n",
      "100%|██████████| 40/40 [00:03<00:00, 12.36it/s]\n"
     ]
    },
    {
     "name": "stdout",
     "output_type": "stream",
     "text": [
      "Epoch 14/1000: train_loss=2.9119, train_accuracy=0.2878, val_loss=3.5544, val_accuracy=0.2076\n"
     ]
    },
    {
     "name": "stderr",
     "output_type": "stream",
     "text": [
      "100%|██████████| 196/196 [00:30<00:00,  6.33it/s]\n",
      "100%|██████████| 40/40 [00:03<00:00, 12.44it/s]\n"
     ]
    },
    {
     "name": "stdout",
     "output_type": "stream",
     "text": [
      "Epoch 15/1000: train_loss=2.8177, train_accuracy=0.3078, val_loss=3.4620, val_accuracy=0.2270\n"
     ]
    },
    {
     "name": "stderr",
     "output_type": "stream",
     "text": [
      "100%|██████████| 196/196 [00:30<00:00,  6.39it/s]\n",
      "100%|██████████| 40/40 [00:03<00:00, 12.38it/s]\n"
     ]
    },
    {
     "name": "stdout",
     "output_type": "stream",
     "text": [
      "Epoch 16/1000: train_loss=2.7221, train_accuracy=0.3247, val_loss=3.1054, val_accuracy=0.2757\n",
      "Saving params from epoch 16. Best loss: 3.1054\n"
     ]
    },
    {
     "name": "stderr",
     "output_type": "stream",
     "text": [
      "100%|██████████| 196/196 [00:30<00:00,  6.36it/s]\n",
      "100%|██████████| 40/40 [00:03<00:00, 12.40it/s]\n"
     ]
    },
    {
     "name": "stdout",
     "output_type": "stream",
     "text": [
      "Epoch 17/1000: train_loss=2.6366, train_accuracy=0.3386, val_loss=3.1603, val_accuracy=0.2665\n"
     ]
    },
    {
     "name": "stderr",
     "output_type": "stream",
     "text": [
      "100%|██████████| 196/196 [00:30<00:00,  6.37it/s]\n",
      "100%|██████████| 40/40 [00:03<00:00, 12.39it/s]\n"
     ]
    },
    {
     "name": "stdout",
     "output_type": "stream",
     "text": [
      "Epoch 18/1000: train_loss=2.5379, train_accuracy=0.3566, val_loss=3.3973, val_accuracy=0.2498\n"
     ]
    },
    {
     "name": "stderr",
     "output_type": "stream",
     "text": [
      "100%|██████████| 196/196 [00:30<00:00,  6.39it/s]\n",
      "100%|██████████| 40/40 [00:03<00:00, 12.33it/s]\n"
     ]
    },
    {
     "name": "stdout",
     "output_type": "stream",
     "text": [
      "Epoch 19/1000: train_loss=2.4340, train_accuracy=0.3773, val_loss=3.1227, val_accuracy=0.2786\n"
     ]
    },
    {
     "name": "stderr",
     "output_type": "stream",
     "text": [
      "100%|██████████| 196/196 [00:30<00:00,  6.38it/s]\n",
      "100%|██████████| 40/40 [00:03<00:00, 12.33it/s]\n"
     ]
    },
    {
     "name": "stdout",
     "output_type": "stream",
     "text": [
      "Epoch 20/1000: train_loss=2.3229, train_accuracy=0.4014, val_loss=3.0833, val_accuracy=0.2913\n",
      "Saving params from epoch 20. Best loss: 3.0833\n"
     ]
    },
    {
     "name": "stderr",
     "output_type": "stream",
     "text": [
      "100%|██████████| 196/196 [00:30<00:00,  6.37it/s]\n",
      "100%|██████████| 40/40 [00:03<00:00, 12.50it/s]\n"
     ]
    },
    {
     "name": "stdout",
     "output_type": "stream",
     "text": [
      "Epoch 21/1000: train_loss=2.2296, train_accuracy=0.4162, val_loss=3.2154, val_accuracy=0.2842\n"
     ]
    },
    {
     "name": "stderr",
     "output_type": "stream",
     "text": [
      "100%|██████████| 196/196 [00:30<00:00,  6.40it/s]\n",
      "100%|██████████| 40/40 [00:03<00:00, 12.35it/s]\n"
     ]
    },
    {
     "name": "stdout",
     "output_type": "stream",
     "text": [
      "Epoch 22/1000: train_loss=2.1274, train_accuracy=0.4378, val_loss=3.1968, val_accuracy=0.2842\n"
     ]
    },
    {
     "name": "stderr",
     "output_type": "stream",
     "text": [
      "100%|██████████| 196/196 [00:30<00:00,  6.36it/s]\n",
      "100%|██████████| 40/40 [00:03<00:00, 12.27it/s]\n"
     ]
    },
    {
     "name": "stdout",
     "output_type": "stream",
     "text": [
      "Epoch 23/1000: train_loss=2.0211, train_accuracy=0.4615, val_loss=3.4691, val_accuracy=0.2738\n"
     ]
    },
    {
     "name": "stderr",
     "output_type": "stream",
     "text": [
      "100%|██████████| 196/196 [00:30<00:00,  6.34it/s]\n",
      "100%|██████████| 40/40 [00:03<00:00, 12.29it/s]\n"
     ]
    },
    {
     "name": "stdout",
     "output_type": "stream",
     "text": [
      "Epoch 24/1000: train_loss=1.8986, train_accuracy=0.4850, val_loss=3.3394, val_accuracy=0.2926\n",
      "Loading model params from epoch 20\n",
      "{'loss': 3.0786916778564453, 'accuracy': 0.29}\n"
     ]
    },
    {
     "data": {
      "image/png": "[encoded data removed]",
      "text/plain": [
       "<Figure size 1200x300 with 2 Axes>"
      ]
     },
     "metadata": {},
     "output_type": "display_data"
    }
   ],
   "source": [
    "model8 = VGGNet2().to(utils.device)\n",
    "train(model8, 'vgg-08')"
   ]
  },
  {
   "cell_type": "code",
   "execution_count": 46,
   "metadata": {},
   "outputs": [
    {
     "data": {
      "text/plain": [
       "(90000, 10000, 10000)"
      ]
     },
     "execution_count": 46,
     "metadata": {},
     "output_type": "execute_result"
    }
   ],
   "source": [
    "train_dl, valid_dl, test_dl = utils.make_tiny_imagenet_dataloaders(batch_size=256)\n",
    "len(train_dl.dataset), len(valid_dl.dataset), len(test_dl.dataset)"
   ]
  },
  {
   "cell_type": "code",
   "execution_count": 47,
   "metadata": {},
   "outputs": [
    {
     "name": "stderr",
     "output_type": "stream",
     "text": [
      "100%|██████████| 352/352 [00:54<00:00,  6.42it/s]\n",
      "100%|██████████| 40/40 [00:03<00:00, 12.07it/s]\n"
     ]
    },
    {
     "name": "stdout",
     "output_type": "stream",
     "text": [
      "Epoch 1/1000: train_loss=4.7057, train_accuracy=0.0424, val_loss=4.4814, val_accuracy=0.0619\n",
      "Saving params from epoch 1. Best loss: 4.4814\n"
     ]
    },
    {
     "name": "stderr",
     "output_type": "stream",
     "text": [
      "100%|██████████| 352/352 [00:55<00:00,  6.33it/s]\n",
      "100%|██████████| 40/40 [00:03<00:00, 12.49it/s]\n"
     ]
    },
    {
     "name": "stdout",
     "output_type": "stream",
     "text": [
      "Epoch 2/1000: train_loss=4.1860, train_accuracy=0.0898, val_loss=3.9559, val_accuracy=0.1220\n",
      "Saving params from epoch 2. Best loss: 3.9559\n"
     ]
    },
    {
     "name": "stderr",
     "output_type": "stream",
     "text": [
      "100%|██████████| 352/352 [00:54<00:00,  6.44it/s]\n",
      "100%|██████████| 40/40 [00:03<00:00, 12.42it/s]\n"
     ]
    },
    {
     "name": "stdout",
     "output_type": "stream",
     "text": [
      "Epoch 3/1000: train_loss=3.9068, train_accuracy=0.1279, val_loss=3.9788, val_accuracy=0.1194\n"
     ]
    },
    {
     "name": "stderr",
     "output_type": "stream",
     "text": [
      "100%|██████████| 352/352 [00:54<00:00,  6.41it/s]\n",
      "100%|██████████| 40/40 [00:03<00:00, 12.45it/s]\n"
     ]
    },
    {
     "name": "stdout",
     "output_type": "stream",
     "text": [
      "Epoch 4/1000: train_loss=3.6881, train_accuracy=0.1613, val_loss=3.5297, val_accuracy=0.1851\n",
      "Saving params from epoch 4. Best loss: 3.5297\n"
     ]
    },
    {
     "name": "stderr",
     "output_type": "stream",
     "text": [
      "100%|██████████| 352/352 [00:54<00:00,  6.42it/s]\n",
      "100%|██████████| 40/40 [00:03<00:00, 12.55it/s]\n"
     ]
    },
    {
     "name": "stdout",
     "output_type": "stream",
     "text": [
      "Epoch 5/1000: train_loss=3.5030, train_accuracy=0.1898, val_loss=3.3882, val_accuracy=0.2120\n",
      "Saving params from epoch 5. Best loss: 3.3882\n"
     ]
    },
    {
     "name": "stderr",
     "output_type": "stream",
     "text": [
      "100%|██████████| 352/352 [00:54<00:00,  6.43it/s]\n",
      "100%|██████████| 40/40 [00:03<00:00, 12.39it/s]\n"
     ]
    },
    {
     "name": "stdout",
     "output_type": "stream",
     "text": [
      "Epoch 6/1000: train_loss=3.3442, train_accuracy=0.2156, val_loss=3.3015, val_accuracy=0.2317\n",
      "Saving params from epoch 6. Best loss: 3.3015\n"
     ]
    },
    {
     "name": "stderr",
     "output_type": "stream",
     "text": [
      "100%|██████████| 352/352 [00:54<00:00,  6.42it/s]\n",
      "100%|██████████| 40/40 [00:03<00:00, 12.28it/s]\n"
     ]
    },
    {
     "name": "stdout",
     "output_type": "stream",
     "text": [
      "Epoch 7/1000: train_loss=3.1997, train_accuracy=0.2441, val_loss=3.0660, val_accuracy=0.2763\n",
      "Saving params from epoch 7. Best loss: 3.0660\n"
     ]
    },
    {
     "name": "stderr",
     "output_type": "stream",
     "text": [
      "100%|██████████| 352/352 [00:54<00:00,  6.44it/s]\n",
      "100%|██████████| 40/40 [00:03<00:00, 12.29it/s]\n"
     ]
    },
    {
     "name": "stdout",
     "output_type": "stream",
     "text": [
      "Epoch 8/1000: train_loss=3.0730, train_accuracy=0.2660, val_loss=3.0513, val_accuracy=0.2837\n",
      "Saving params from epoch 8. Best loss: 3.0513\n"
     ]
    },
    {
     "name": "stderr",
     "output_type": "stream",
     "text": [
      "100%|██████████| 352/352 [00:54<00:00,  6.43it/s]\n",
      "100%|██████████| 40/40 [00:03<00:00, 12.37it/s]\n"
     ]
    },
    {
     "name": "stdout",
     "output_type": "stream",
     "text": [
      "Epoch 9/1000: train_loss=2.9484, train_accuracy=0.2886, val_loss=2.9764, val_accuracy=0.2973\n",
      "Saving params from epoch 9. Best loss: 2.9764\n"
     ]
    },
    {
     "name": "stderr",
     "output_type": "stream",
     "text": [
      "100%|██████████| 352/352 [00:54<00:00,  6.42it/s]\n",
      "100%|██████████| 40/40 [00:03<00:00, 12.33it/s]\n"
     ]
    },
    {
     "name": "stdout",
     "output_type": "stream",
     "text": [
      "Epoch 10/1000: train_loss=2.8187, train_accuracy=0.3142, val_loss=2.9049, val_accuracy=0.3063\n",
      "Saving params from epoch 10. Best loss: 2.9049\n"
     ]
    },
    {
     "name": "stderr",
     "output_type": "stream",
     "text": [
      "100%|██████████| 352/352 [00:54<00:00,  6.43it/s]\n",
      "100%|██████████| 40/40 [00:03<00:00, 12.43it/s]\n"
     ]
    },
    {
     "name": "stdout",
     "output_type": "stream",
     "text": [
      "Epoch 11/1000: train_loss=2.7117, train_accuracy=0.3342, val_loss=2.7969, val_accuracy=0.3303\n",
      "Saving params from epoch 11. Best loss: 2.7969\n"
     ]
    },
    {
     "name": "stderr",
     "output_type": "stream",
     "text": [
      "100%|██████████| 352/352 [00:54<00:00,  6.45it/s]\n",
      "100%|██████████| 40/40 [00:04<00:00,  9.18it/s]\n"
     ]
    },
    {
     "name": "stdout",
     "output_type": "stream",
     "text": [
      "Epoch 12/1000: train_loss=2.5849, train_accuracy=0.3589, val_loss=2.8196, val_accuracy=0.3300\n"
     ]
    },
    {
     "name": "stderr",
     "output_type": "stream",
     "text": [
      "100%|██████████| 352/352 [01:44<00:00,  3.37it/s]\n",
      "100%|██████████| 40/40 [00:03<00:00, 10.59it/s]\n"
     ]
    },
    {
     "name": "stdout",
     "output_type": "stream",
     "text": [
      "Epoch 13/1000: train_loss=2.4726, train_accuracy=0.3803, val_loss=2.7497, val_accuracy=0.3416\n",
      "Saving params from epoch 13. Best loss: 2.7497\n"
     ]
    },
    {
     "name": "stderr",
     "output_type": "stream",
     "text": [
      "100%|██████████| 352/352 [01:26<00:00,  4.07it/s]\n",
      "100%|██████████| 40/40 [00:03<00:00, 12.34it/s]\n"
     ]
    },
    {
     "name": "stdout",
     "output_type": "stream",
     "text": [
      "Epoch 14/1000: train_loss=2.3561, train_accuracy=0.4032, val_loss=2.8055, val_accuracy=0.3348\n"
     ]
    },
    {
     "name": "stderr",
     "output_type": "stream",
     "text": [
      "100%|██████████| 352/352 [00:55<00:00,  6.35it/s]\n",
      "100%|██████████| 40/40 [00:03<00:00, 12.23it/s]\n"
     ]
    },
    {
     "name": "stdout",
     "output_type": "stream",
     "text": [
      "Epoch 15/1000: train_loss=2.2310, train_accuracy=0.4292, val_loss=2.6929, val_accuracy=0.3612\n",
      "Saving params from epoch 15. Best loss: 2.6929\n"
     ]
    },
    {
     "name": "stderr",
     "output_type": "stream",
     "text": [
      "100%|██████████| 352/352 [00:55<00:00,  6.39it/s]\n",
      "100%|██████████| 40/40 [00:03<00:00, 12.45it/s]\n"
     ]
    },
    {
     "name": "stdout",
     "output_type": "stream",
     "text": [
      "Epoch 16/1000: train_loss=2.1092, train_accuracy=0.4528, val_loss=2.7365, val_accuracy=0.3565\n"
     ]
    },
    {
     "name": "stderr",
     "output_type": "stream",
     "text": [
      "100%|██████████| 352/352 [00:54<00:00,  6.40it/s]\n",
      "100%|██████████| 40/40 [00:03<00:00, 12.13it/s]\n"
     ]
    },
    {
     "name": "stdout",
     "output_type": "stream",
     "text": [
      "Epoch 17/1000: train_loss=1.9863, train_accuracy=0.4808, val_loss=2.6661, val_accuracy=0.3660\n",
      "Saving params from epoch 17. Best loss: 2.6661\n"
     ]
    },
    {
     "name": "stderr",
     "output_type": "stream",
     "text": [
      "100%|██████████| 352/352 [00:54<00:00,  6.41it/s]\n",
      "100%|██████████| 40/40 [00:03<00:00, 12.33it/s]\n"
     ]
    },
    {
     "name": "stdout",
     "output_type": "stream",
     "text": [
      "Epoch 18/1000: train_loss=1.8507, train_accuracy=0.5103, val_loss=2.6918, val_accuracy=0.3771\n"
     ]
    },
    {
     "name": "stderr",
     "output_type": "stream",
     "text": [
      "100%|██████████| 352/352 [00:57<00:00,  6.17it/s]\n",
      "100%|██████████| 40/40 [00:03<00:00, 12.33it/s]\n"
     ]
    },
    {
     "name": "stdout",
     "output_type": "stream",
     "text": [
      "Epoch 19/1000: train_loss=1.7255, train_accuracy=0.5338, val_loss=3.0874, val_accuracy=0.3411\n"
     ]
    },
    {
     "name": "stderr",
     "output_type": "stream",
     "text": [
      "100%|██████████| 352/352 [00:54<00:00,  6.45it/s]\n",
      "100%|██████████| 40/40 [00:03<00:00, 12.33it/s]\n"
     ]
    },
    {
     "name": "stdout",
     "output_type": "stream",
     "text": [
      "Epoch 20/1000: train_loss=1.5966, train_accuracy=0.5636, val_loss=2.8100, val_accuracy=0.3753\n"
     ]
    },
    {
     "name": "stderr",
     "output_type": "stream",
     "text": [
      "100%|██████████| 352/352 [00:54<00:00,  6.41it/s]\n",
      "100%|██████████| 40/40 [00:03<00:00, 12.26it/s]\n"
     ]
    },
    {
     "name": "stdout",
     "output_type": "stream",
     "text": [
      "Epoch 21/1000: train_loss=1.4544, train_accuracy=0.5948, val_loss=2.7833, val_accuracy=0.3862\n",
      "Loading model params from epoch 17\n",
      "{'loss': 2.6879592054367065, 'accuracy': 0.3621}\n"
     ]
    },
    {
     "data": {
      "image/png": "[encoded data removed]",
      "text/plain": [
       "<Figure size 1200x300 with 2 Axes>"
      ]
     },
     "metadata": {},
     "output_type": "display_data"
    }
   ],
   "source": [
    "model9 = VGGNet2().to(utils.device)\n",
    "train(model9, 'vgg-09')"
   ]
  }
 ],
 "metadata": {
  "kernelspec": {
   "display_name": "torch",
   "language": "python",
   "name": "python3"
  },
  "language_info": {
   "codemirror_mode": {
    "name": "ipython",
    "version": 3
   },
   "file_extension": ".py",
   "mimetype": "text/x-python",
   "name": "python",
   "nbconvert_exporter": "python",
   "pygments_lexer": "ipython3",
   "version": "3.11.4"
  },
  "orig_nbformat": 4
 },
 "nbformat": 4,
 "nbformat_minor": 2
}
