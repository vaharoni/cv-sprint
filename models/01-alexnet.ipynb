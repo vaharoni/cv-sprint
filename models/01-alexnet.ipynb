{
 "cells": [
  {
   "cell_type": "code",
   "execution_count": 1,
   "metadata": {},
   "outputs": [
    {
     "data": {
      "text/plain": [
       "<module 'utils' from '/home/amitaharoni/workspace/cv-sprint/models/utils.py'>"
      ]
     },
     "execution_count": 1,
     "metadata": {},
     "output_type": "execute_result"
    }
   ],
   "source": [
    "import torch\n",
    "import torch.nn.functional as F\n",
    "import utils\n",
    "from importlib import reload\n",
    "reload(utils)"
   ]
  },
  {
   "cell_type": "code",
   "execution_count": 2,
   "metadata": {},
   "outputs": [],
   "source": [
    "train_dl, valid_dl, test_dl = utils.make_tiny_imagenet_dataloaders()"
   ]
  },
  {
   "cell_type": "code",
   "execution_count": 3,
   "metadata": {},
   "outputs": [
    {
     "data": {
      "text/plain": [
       "AlexNet(\n",
       "  (layers): Sequential(\n",
       "    (0): Conv2d(3, 10, kernel_size=(5, 5), stride=(2, 2))\n",
       "    (1): BatchNorm2d(10, eps=1e-05, momentum=0.1, affine=True, track_running_stats=True)\n",
       "    (2): ReLU()\n",
       "    (3): MaxPool2d(kernel_size=2, stride=2, padding=0, dilation=1, ceil_mode=False)\n",
       "    (4): Conv2d(10, 32, kernel_size=(3, 3), stride=(1, 1))\n",
       "    (5): BatchNorm2d(32, eps=1e-05, momentum=0.1, affine=True, track_running_stats=True)\n",
       "    (6): ReLU()\n",
       "    (7): MaxPool2d(kernel_size=2, stride=2, padding=0, dilation=1, ceil_mode=False)\n",
       "    (8): Conv2d(32, 64, kernel_size=(3, 3), stride=(1, 1), padding=same)\n",
       "    (9): BatchNorm2d(64, eps=1e-05, momentum=0.1, affine=True, track_running_stats=True)\n",
       "    (10): ReLU()\n",
       "    (11): Conv2d(64, 96, kernel_size=(3, 3), stride=(1, 1), padding=same)\n",
       "    (12): BatchNorm2d(96, eps=1e-05, momentum=0.1, affine=True, track_running_stats=True)\n",
       "    (13): ReLU()\n",
       "    (14): Conv2d(96, 128, kernel_size=(3, 3), stride=(1, 1), padding=same)\n",
       "    (15): BatchNorm2d(128, eps=1e-05, momentum=0.1, affine=True, track_running_stats=True)\n",
       "    (16): ReLU()\n",
       "    (17): MaxPool2d(kernel_size=2, stride=2, padding=0, dilation=1, ceil_mode=False)\n",
       "    (18): Flatten(start_dim=1, end_dim=-1)\n",
       "    (19): Linear(in_features=1152, out_features=512, bias=True)\n",
       "    (20): BatchNorm1d(512, eps=1e-05, momentum=0.1, affine=True, track_running_stats=True)\n",
       "    (21): ReLU()\n",
       "    (22): Dropout(p=0.5, inplace=False)\n",
       "    (23): Linear(in_features=512, out_features=256, bias=True)\n",
       "    (24): ReLU()\n",
       "    (25): Dropout(p=0.5, inplace=False)\n",
       "    (26): Linear(in_features=256, out_features=200, bias=True)\n",
       "  )\n",
       ")"
      ]
     },
     "execution_count": 3,
     "metadata": {},
     "output_type": "execute_result"
    }
   ],
   "source": [
    "class AlexNet(torch.nn.Module):\n",
    "    def __init__(self):\n",
    "        super().__init__()\n",
    "        self.layers = torch.nn.Sequential(\n",
    "            # 64x64 => 30x30\n",
    "            torch.nn.Conv2d(in_channels=3, out_channels=10, kernel_size=5, stride=2),\n",
    "            torch.nn.BatchNorm2d(num_features=10),\n",
    "            torch.nn.ReLU(),\n",
    "            # 30x30 => 15x15\n",
    "            torch.nn.MaxPool2d(kernel_size=2, stride=2),\n",
    "            # 15x15 => 13x13\n",
    "            torch.nn.Conv2d(in_channels=10, out_channels=32, kernel_size=3),\n",
    "            torch.nn.BatchNorm2d(num_features=32),\n",
    "            torch.nn.ReLU(),\n",
    "            # 13x13 => 6x6\n",
    "            torch.nn.MaxPool2d(kernel_size=2, stride=2),\n",
    "            torch.nn.Conv2d(in_channels=32, out_channels=64, kernel_size=3, padding='same'),\n",
    "            torch.nn.BatchNorm2d(num_features=64),\n",
    "            torch.nn.ReLU(),\n",
    "            torch.nn.Conv2d(in_channels=64, out_channels=96, kernel_size=3, padding='same'),\n",
    "            torch.nn.BatchNorm2d(num_features=96),\n",
    "            torch.nn.ReLU(),\n",
    "            torch.nn.Conv2d(in_channels=96, out_channels=128, kernel_size=3, padding='same'),\n",
    "            torch.nn.BatchNorm2d(num_features=128),\n",
    "            torch.nn.ReLU(),\n",
    "            # 6x6 => 3x3\n",
    "            torch.nn.MaxPool2d(kernel_size=2, stride=2),\n",
    "            # 3x3x128 => 1152\n",
    "            torch.nn.Flatten(),\n",
    "            torch.nn.Linear(in_features=1152, out_features=512),\n",
    "            torch.nn.BatchNorm1d(num_features=512),\n",
    "            torch.nn.ReLU(),\n",
    "            torch.nn.Dropout(0.5),\n",
    "            torch.nn.Linear(in_features=512, out_features=256),\n",
    "            torch.nn.ReLU(),\n",
    "            torch.nn.Dropout(0.5),\n",
    "            torch.nn.Linear(in_features=256, out_features=200),\n",
    "        )\n",
    "\n",
    "    def forward(self, x):\n",
    "        return self.layers(x)\n",
    "\n",
    "model = AlexNet()\n",
    "model = model.to(utils.device)\n",
    "model"
   ]
  },
  {
   "cell_type": "code",
   "execution_count": 4,
   "metadata": {},
   "outputs": [],
   "source": [
    "loss_fn = torch.nn.CrossEntropyLoss()\n",
    "optim = torch.optim.Adam(model.parameters())"
   ]
  },
  {
   "cell_type": "code",
   "execution_count": 5,
   "metadata": {},
   "outputs": [
    {
     "name": "stderr",
     "output_type": "stream",
     "text": [
      "100%|██████████| 1407/1407 [00:15<00:00, 93.74it/s] \n",
      "100%|██████████| 157/157 [00:01<00:00, 147.86it/s]\n"
     ]
    },
    {
     "name": "stdout",
     "output_type": "stream",
     "text": [
      "Epoch 1/1000: train_loss=4.8349, train_accuracy=0.0381, val_loss=4.5814, val_accuracy=0.0636\n",
      "Saving params from epoch 1. Best loss: 4.5814\n"
     ]
    },
    {
     "name": "stderr",
     "output_type": "stream",
     "text": [
      "100%|██████████| 1407/1407 [00:14<00:00, 95.47it/s] \n",
      "100%|██████████| 157/157 [00:01<00:00, 150.78it/s]\n"
     ]
    },
    {
     "name": "stdout",
     "output_type": "stream",
     "text": [
      "Epoch 2/1000: train_loss=4.3548, train_accuracy=0.0840, val_loss=4.1244, val_accuracy=0.1108\n",
      "Saving params from epoch 2. Best loss: 4.1244\n"
     ]
    },
    {
     "name": "stderr",
     "output_type": "stream",
     "text": [
      "100%|██████████| 1407/1407 [00:15<00:00, 91.14it/s]\n",
      "100%|██████████| 157/157 [00:01<00:00, 143.79it/s]\n"
     ]
    },
    {
     "name": "stdout",
     "output_type": "stream",
     "text": [
      "Epoch 3/1000: train_loss=4.1358, train_accuracy=0.1103, val_loss=4.1522, val_accuracy=0.1213\n"
     ]
    },
    {
     "name": "stderr",
     "output_type": "stream",
     "text": [
      "100%|██████████| 1407/1407 [00:15<00:00, 93.06it/s] \n",
      "100%|██████████| 157/157 [00:01<00:00, 146.41it/s]\n"
     ]
    },
    {
     "name": "stdout",
     "output_type": "stream",
     "text": [
      "Epoch 4/1000: train_loss=3.9992, train_accuracy=0.1296, val_loss=3.8727, val_accuracy=0.1548\n",
      "Saving params from epoch 4. Best loss: 3.8727\n"
     ]
    },
    {
     "name": "stderr",
     "output_type": "stream",
     "text": [
      "100%|██████████| 1407/1407 [00:15<00:00, 91.46it/s] \n",
      "100%|██████████| 157/157 [00:01<00:00, 142.54it/s]\n"
     ]
    },
    {
     "name": "stdout",
     "output_type": "stream",
     "text": [
      "Epoch 5/1000: train_loss=3.8968, train_accuracy=0.1444, val_loss=3.7767, val_accuracy=0.1656\n",
      "Saving params from epoch 5. Best loss: 3.7767\n"
     ]
    },
    {
     "name": "stderr",
     "output_type": "stream",
     "text": [
      "100%|██████████| 1407/1407 [00:16<00:00, 84.34it/s]\n",
      "100%|██████████| 157/157 [00:01<00:00, 122.70it/s]\n"
     ]
    },
    {
     "name": "stdout",
     "output_type": "stream",
     "text": [
      "Epoch 6/1000: train_loss=3.8101, train_accuracy=0.1586, val_loss=3.5883, val_accuracy=0.1968\n",
      "Saving params from epoch 6. Best loss: 3.5883\n"
     ]
    },
    {
     "name": "stderr",
     "output_type": "stream",
     "text": [
      "100%|██████████| 1407/1407 [00:15<00:00, 90.19it/s]\n",
      "100%|██████████| 157/157 [00:02<00:00, 74.21it/s] \n"
     ]
    },
    {
     "name": "stdout",
     "output_type": "stream",
     "text": [
      "Epoch 7/1000: train_loss=3.7344, train_accuracy=0.1710, val_loss=3.6600, val_accuracy=0.1893\n"
     ]
    },
    {
     "name": "stderr",
     "output_type": "stream",
     "text": [
      "100%|██████████| 1407/1407 [00:15<00:00, 92.15it/s]\n",
      "100%|██████████| 157/157 [00:01<00:00, 147.01it/s]\n"
     ]
    },
    {
     "name": "stdout",
     "output_type": "stream",
     "text": [
      "Epoch 8/1000: train_loss=3.6682, train_accuracy=0.1798, val_loss=3.7133, val_accuracy=0.1835\n"
     ]
    },
    {
     "name": "stderr",
     "output_type": "stream",
     "text": [
      "100%|██████████| 1407/1407 [00:14<00:00, 94.42it/s] \n",
      "100%|██████████| 157/157 [00:01<00:00, 143.88it/s]\n"
     ]
    },
    {
     "name": "stdout",
     "output_type": "stream",
     "text": [
      "Epoch 9/1000: train_loss=3.5976, train_accuracy=0.1919, val_loss=3.5438, val_accuracy=0.2117\n",
      "Saving params from epoch 9. Best loss: 3.5438\n"
     ]
    },
    {
     "name": "stderr",
     "output_type": "stream",
     "text": [
      "100%|██████████| 1407/1407 [00:14<00:00, 94.91it/s]\n",
      "100%|██████████| 157/157 [00:01<00:00, 142.83it/s]\n"
     ]
    },
    {
     "name": "stdout",
     "output_type": "stream",
     "text": [
      "Epoch 10/1000: train_loss=3.5406, train_accuracy=0.2023, val_loss=3.4995, val_accuracy=0.2170\n",
      "Saving params from epoch 10. Best loss: 3.4995\n"
     ]
    },
    {
     "name": "stderr",
     "output_type": "stream",
     "text": [
      "100%|██████████| 1407/1407 [00:14<00:00, 95.13it/s]\n",
      "100%|██████████| 157/157 [00:01<00:00, 145.39it/s]\n"
     ]
    },
    {
     "name": "stdout",
     "output_type": "stream",
     "text": [
      "Epoch 11/1000: train_loss=3.4856, train_accuracy=0.2101, val_loss=3.4766, val_accuracy=0.2264\n",
      "Saving params from epoch 11. Best loss: 3.4766\n"
     ]
    },
    {
     "name": "stderr",
     "output_type": "stream",
     "text": [
      "100%|██████████| 1407/1407 [00:15<00:00, 93.18it/s] \n",
      "100%|██████████| 157/157 [00:01<00:00, 142.59it/s]\n"
     ]
    },
    {
     "name": "stdout",
     "output_type": "stream",
     "text": [
      "Epoch 12/1000: train_loss=3.4225, train_accuracy=0.2217, val_loss=3.4578, val_accuracy=0.2277\n",
      "Saving params from epoch 12. Best loss: 3.4578\n"
     ]
    },
    {
     "name": "stderr",
     "output_type": "stream",
     "text": [
      "100%|██████████| 1407/1407 [00:15<00:00, 93.48it/s]\n",
      "100%|██████████| 157/157 [00:01<00:00, 148.33it/s]\n"
     ]
    },
    {
     "name": "stdout",
     "output_type": "stream",
     "text": [
      "Epoch 13/1000: train_loss=3.3844, train_accuracy=0.2268, val_loss=3.4157, val_accuracy=0.2352\n",
      "Saving params from epoch 13. Best loss: 3.4157\n"
     ]
    },
    {
     "name": "stderr",
     "output_type": "stream",
     "text": [
      "100%|██████████| 1407/1407 [00:14<00:00, 95.02it/s] \n",
      "100%|██████████| 157/157 [00:01<00:00, 147.11it/s]\n"
     ]
    },
    {
     "name": "stdout",
     "output_type": "stream",
     "text": [
      "Epoch 14/1000: train_loss=3.3285, train_accuracy=0.2374, val_loss=3.3920, val_accuracy=0.2421\n",
      "Saving params from epoch 14. Best loss: 3.3920\n"
     ]
    },
    {
     "name": "stderr",
     "output_type": "stream",
     "text": [
      "100%|██████████| 1407/1407 [00:14<00:00, 93.93it/s] \n",
      "100%|██████████| 157/157 [00:01<00:00, 147.16it/s]\n"
     ]
    },
    {
     "name": "stdout",
     "output_type": "stream",
     "text": [
      "Epoch 15/1000: train_loss=3.2764, train_accuracy=0.2454, val_loss=3.4895, val_accuracy=0.2278\n"
     ]
    },
    {
     "name": "stderr",
     "output_type": "stream",
     "text": [
      "100%|██████████| 1407/1407 [00:14<00:00, 94.22it/s]\n",
      "100%|██████████| 157/157 [00:01<00:00, 142.16it/s]\n"
     ]
    },
    {
     "name": "stdout",
     "output_type": "stream",
     "text": [
      "Epoch 16/1000: train_loss=3.2319, train_accuracy=0.2534, val_loss=3.4722, val_accuracy=0.2326\n"
     ]
    },
    {
     "name": "stderr",
     "output_type": "stream",
     "text": [
      "100%|██████████| 1407/1407 [00:15<00:00, 93.37it/s]\n",
      "100%|██████████| 157/157 [00:01<00:00, 131.44it/s]\n"
     ]
    },
    {
     "name": "stdout",
     "output_type": "stream",
     "text": [
      "Epoch 17/1000: train_loss=3.1750, train_accuracy=0.2592, val_loss=3.3819, val_accuracy=0.2471\n",
      "Saving params from epoch 17. Best loss: 3.3819\n"
     ]
    },
    {
     "name": "stderr",
     "output_type": "stream",
     "text": [
      "100%|██████████| 1407/1407 [00:15<00:00, 88.81it/s]\n",
      "100%|██████████| 157/157 [00:01<00:00, 135.93it/s]\n"
     ]
    },
    {
     "name": "stdout",
     "output_type": "stream",
     "text": [
      "Epoch 18/1000: train_loss=3.1384, train_accuracy=0.2651, val_loss=3.3418, val_accuracy=0.2507\n",
      "Saving params from epoch 18. Best loss: 3.3418\n"
     ]
    },
    {
     "name": "stderr",
     "output_type": "stream",
     "text": [
      "100%|██████████| 1407/1407 [00:16<00:00, 87.50it/s]\n",
      "100%|██████████| 157/157 [00:01<00:00, 134.13it/s]\n"
     ]
    },
    {
     "name": "stdout",
     "output_type": "stream",
     "text": [
      "Epoch 19/1000: train_loss=3.0964, train_accuracy=0.2743, val_loss=3.3914, val_accuracy=0.2518\n"
     ]
    },
    {
     "name": "stderr",
     "output_type": "stream",
     "text": [
      "100%|██████████| 1407/1407 [00:15<00:00, 89.45it/s]\n",
      "100%|██████████| 157/157 [00:01<00:00, 134.47it/s]\n"
     ]
    },
    {
     "name": "stdout",
     "output_type": "stream",
     "text": [
      "Epoch 20/1000: train_loss=3.0488, train_accuracy=0.2802, val_loss=3.4478, val_accuracy=0.2373\n"
     ]
    },
    {
     "name": "stderr",
     "output_type": "stream",
     "text": [
      "100%|██████████| 1407/1407 [00:16<00:00, 86.73it/s]\n",
      "100%|██████████| 157/157 [00:01<00:00, 123.51it/s]\n"
     ]
    },
    {
     "name": "stdout",
     "output_type": "stream",
     "text": [
      "Epoch 21/1000: train_loss=3.0146, train_accuracy=0.2856, val_loss=3.4235, val_accuracy=0.2431\n"
     ]
    },
    {
     "name": "stderr",
     "output_type": "stream",
     "text": [
      "100%|██████████| 1407/1407 [00:16<00:00, 87.43it/s]\n",
      "100%|██████████| 157/157 [00:01<00:00, 146.70it/s]\n"
     ]
    },
    {
     "name": "stdout",
     "output_type": "stream",
     "text": [
      "Epoch 22/1000: train_loss=2.9711, train_accuracy=0.2927, val_loss=3.4173, val_accuracy=0.2465\n",
      "Loading model params from epoch 18\n"
     ]
    }
   ],
   "source": [
    "hist = utils.train_model(model, train_dl, valid_dl, loss_fn, optim, \n",
    "                         tensorboard_dir='../runs/01-alexnet', metrics=[utils.metric_accuracy],\n",
    "                         epochs=1000,\n",
    "                         patience=4)"
   ]
  },
  {
   "cell_type": "code",
   "execution_count": 8,
   "metadata": {},
   "outputs": [
    {
     "data": {
      "text/plain": [
       "{'loss': 3.291606974029541, 'accuracy': 0.2564}"
      ]
     },
     "execution_count": 8,
     "metadata": {},
     "output_type": "execute_result"
    }
   ],
   "source": [
    "utils.evaluate_model(model, test_dl, loss_fn, metrics=[utils.metric_accuracy])"
   ]
  },
  {
   "cell_type": "code",
   "execution_count": 9,
   "metadata": {},
   "outputs": [
    {
     "data": {
      "image/png": "[encoded data removed]",
      "text/plain": [
       "<Figure size 1200x300 with 2 Axes>"
      ]
     },
     "metadata": {},
     "output_type": "display_data"
    }
   ],
   "source": [
    "utils.plot_metrics(hist)"
   ]
  }
 ],
 "metadata": {
  "kernelspec": {
   "display_name": "torch",
   "language": "python",
   "name": "python3"
  },
  "language_info": {
   "codemirror_mode": {
    "name": "ipython",
    "version": 3
   },
   "file_extension": ".py",
   "mimetype": "text/x-python",
   "name": "python",
   "nbconvert_exporter": "python",
   "pygments_lexer": "ipython3",
   "version": "3.11.4"
  },
  "orig_nbformat": 4
 },
 "nbformat": 4,
 "nbformat_minor": 2
}
