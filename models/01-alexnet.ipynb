{
 "cells": [
  {
   "cell_type": "code",
   "execution_count": 12,
   "metadata": {},
   "outputs": [
    {
     "data": {
      "text/plain": [
       "<module 'utils' from '/home/amitaharoni/workspace/cv-sprint/models/utils.py'>"
      ]
     },
     "execution_count": 12,
     "metadata": {},
     "output_type": "execute_result"
    }
   ],
   "source": [
    "import torch\n",
    "import torch.nn.functional as F\n",
    "import utils\n",
    "from importlib import reload\n",
    "reload(utils)"
   ]
  },
  {
   "cell_type": "code",
   "execution_count": 13,
   "metadata": {},
   "outputs": [],
   "source": [
    "train_dl, valid_dl, test_dl = utils.make_tiny_imagenet_dataloaders()"
   ]
  },
  {
   "cell_type": "code",
   "execution_count": 14,
   "metadata": {},
   "outputs": [
    {
     "data": {
      "text/plain": [
       "AlexNet(\n",
       "  (layers): Sequential(\n",
       "    (0): Conv2d(3, 10, kernel_size=(5, 5), stride=(2, 2))\n",
       "    (1): BatchNorm2d(10, eps=1e-05, momentum=0.1, affine=True, track_running_stats=True)\n",
       "    (2): ReLU()\n",
       "    (3): MaxPool2d(kernel_size=2, stride=2, padding=0, dilation=1, ceil_mode=False)\n",
       "    (4): Conv2d(10, 32, kernel_size=(3, 3), stride=(1, 1))\n",
       "    (5): BatchNorm2d(32, eps=1e-05, momentum=0.1, affine=True, track_running_stats=True)\n",
       "    (6): ReLU()\n",
       "    (7): MaxPool2d(kernel_size=2, stride=2, padding=0, dilation=1, ceil_mode=False)\n",
       "    (8): Conv2d(32, 64, kernel_size=(3, 3), stride=(1, 1), padding=same)\n",
       "    (9): BatchNorm2d(64, eps=1e-05, momentum=0.1, affine=True, track_running_stats=True)\n",
       "    (10): ReLU()\n",
       "    (11): Conv2d(64, 96, kernel_size=(3, 3), stride=(1, 1), padding=same)\n",
       "    (12): BatchNorm2d(96, eps=1e-05, momentum=0.1, affine=True, track_running_stats=True)\n",
       "    (13): ReLU()\n",
       "    (14): Conv2d(96, 128, kernel_size=(3, 3), stride=(1, 1), padding=same)\n",
       "    (15): BatchNorm2d(128, eps=1e-05, momentum=0.1, affine=True, track_running_stats=True)\n",
       "    (16): ReLU()\n",
       "    (17): MaxPool2d(kernel_size=2, stride=2, padding=0, dilation=1, ceil_mode=False)\n",
       "    (18): Flatten(start_dim=1, end_dim=-1)\n",
       "    (19): Linear(in_features=1152, out_features=512, bias=True)\n",
       "    (20): BatchNorm1d(512, eps=1e-05, momentum=0.1, affine=True, track_running_stats=True)\n",
       "    (21): ReLU()\n",
       "    (22): Dropout(p=0.2, inplace=False)\n",
       "    (23): Linear(in_features=512, out_features=256, bias=True)\n",
       "    (24): ReLU()\n",
       "    (25): Dropout(p=0.2, inplace=False)\n",
       "    (26): Linear(in_features=256, out_features=200, bias=True)\n",
       "  )\n",
       ")"
      ]
     },
     "execution_count": 14,
     "metadata": {},
     "output_type": "execute_result"
    }
   ],
   "source": [
    "class AlexNet(torch.nn.Module):\n",
    "    def __init__(self):\n",
    "        super().__init__()\n",
    "        self.layers = torch.nn.Sequential(\n",
    "            # 64x64 => 30x30\n",
    "            torch.nn.Conv2d(in_channels=3, out_channels=10, kernel_size=5, stride=2),\n",
    "            torch.nn.BatchNorm2d(num_features=10),\n",
    "            torch.nn.ReLU(),\n",
    "            # 30x30 => 15x15\n",
    "            torch.nn.MaxPool2d(kernel_size=2, stride=2),\n",
    "            # 15x15 => 13x13\n",
    "            torch.nn.Conv2d(in_channels=10, out_channels=32, kernel_size=3),\n",
    "            torch.nn.BatchNorm2d(num_features=32),\n",
    "            torch.nn.ReLU(),\n",
    "            # 13x13 => 6x6\n",
    "            torch.nn.MaxPool2d(kernel_size=2, stride=2),\n",
    "            torch.nn.Conv2d(in_channels=32, out_channels=64, kernel_size=3, padding='same'),\n",
    "            torch.nn.BatchNorm2d(num_features=64),\n",
    "            torch.nn.ReLU(),\n",
    "            torch.nn.Conv2d(in_channels=64, out_channels=96, kernel_size=3, padding='same'),\n",
    "            torch.nn.BatchNorm2d(num_features=96),\n",
    "            torch.nn.ReLU(),\n",
    "            torch.nn.Conv2d(in_channels=96, out_channels=128, kernel_size=3, padding='same'),\n",
    "            torch.nn.BatchNorm2d(num_features=128),\n",
    "            torch.nn.ReLU(),\n",
    "            # 6x6 => 3x3\n",
    "            torch.nn.MaxPool2d(kernel_size=2, stride=2),\n",
    "            # 3x3x128 => 1152\n",
    "            torch.nn.Flatten(),\n",
    "            torch.nn.Linear(in_features=1152, out_features=512),\n",
    "            torch.nn.BatchNorm1d(num_features=512),\n",
    "            torch.nn.ReLU(),\n",
    "            torch.nn.Dropout(0.2),\n",
    "            torch.nn.Linear(in_features=512, out_features=256),\n",
    "            torch.nn.ReLU(),\n",
    "            torch.nn.Dropout(0.2),\n",
    "            torch.nn.Linear(in_features=256, out_features=200),\n",
    "        )\n",
    "\n",
    "    def forward(self, x):\n",
    "        return self.layers(x)\n",
    "\n",
    "model = AlexNet()\n",
    "model = model.to(utils.device)\n",
    "model"
   ]
  },
  {
   "cell_type": "code",
   "execution_count": 15,
   "metadata": {},
   "outputs": [],
   "source": [
    "loss_fn = torch.nn.CrossEntropyLoss()\n",
    "optim = torch.optim.Adam(model.parameters())"
   ]
  },
  {
   "cell_type": "code",
   "execution_count": 16,
   "metadata": {},
   "outputs": [
    {
     "name": "stderr",
     "output_type": "stream",
     "text": [
      "  0%|          | 0/1407 [00:00<?, ?it/s]"
     ]
    },
    {
     "name": "stderr",
     "output_type": "stream",
     "text": [
      "100%|██████████| 1407/1407 [00:15<00:00, 92.97it/s] \n",
      "100%|██████████| 157/157 [00:01<00:00, 140.41it/s]\n"
     ]
    },
    {
     "name": "stdout",
     "output_type": "stream",
     "text": [
      "Epoch 1/1000: train_loss=4.5548, train_accuracy=0.0688, val_loss=4.3401, val_accuracy=0.0940\n",
      "Saving params from epoch 1. Best loss: 4.3401\n"
     ]
    },
    {
     "name": "stderr",
     "output_type": "stream",
     "text": [
      "100%|██████████| 1407/1407 [00:14<00:00, 94.26it/s] \n",
      "100%|██████████| 157/157 [00:01<00:00, 149.26it/s]\n"
     ]
    },
    {
     "name": "stdout",
     "output_type": "stream",
     "text": [
      "Epoch 2/1000: train_loss=3.9921, train_accuracy=0.1352, val_loss=4.1355, val_accuracy=0.1187\n",
      "Saving params from epoch 2. Best loss: 4.1355\n"
     ]
    },
    {
     "name": "stderr",
     "output_type": "stream",
     "text": [
      "100%|██████████| 1407/1407 [00:14<00:00, 94.36it/s]\n",
      "100%|██████████| 157/157 [00:01<00:00, 144.01it/s]\n"
     ]
    },
    {
     "name": "stdout",
     "output_type": "stream",
     "text": [
      "Epoch 3/1000: train_loss=3.7343, train_accuracy=0.1730, val_loss=3.8385, val_accuracy=0.1647\n",
      "Saving params from epoch 3. Best loss: 3.8385\n"
     ]
    },
    {
     "name": "stderr",
     "output_type": "stream",
     "text": [
      "100%|██████████| 1407/1407 [00:15<00:00, 92.69it/s] \n",
      "100%|██████████| 157/157 [00:01<00:00, 133.71it/s]\n"
     ]
    },
    {
     "name": "stdout",
     "output_type": "stream",
     "text": [
      "Epoch 4/1000: train_loss=3.5577, train_accuracy=0.1995, val_loss=3.6613, val_accuracy=0.1891\n",
      "Saving params from epoch 4. Best loss: 3.6613\n"
     ]
    },
    {
     "name": "stderr",
     "output_type": "stream",
     "text": [
      "100%|██████████| 1407/1407 [00:15<00:00, 93.60it/s] \n",
      "100%|██████████| 157/157 [00:01<00:00, 140.31it/s]\n"
     ]
    },
    {
     "name": "stdout",
     "output_type": "stream",
     "text": [
      "Epoch 5/1000: train_loss=3.4210, train_accuracy=0.2236, val_loss=3.4969, val_accuracy=0.2197\n",
      "Saving params from epoch 5. Best loss: 3.4969\n"
     ]
    },
    {
     "name": "stderr",
     "output_type": "stream",
     "text": [
      "100%|██████████| 1407/1407 [00:14<00:00, 95.78it/s] \n",
      "100%|██████████| 157/157 [00:01<00:00, 140.79it/s]\n"
     ]
    },
    {
     "name": "stdout",
     "output_type": "stream",
     "text": [
      "Epoch 6/1000: train_loss=3.3044, train_accuracy=0.2434, val_loss=3.5060, val_accuracy=0.2208\n"
     ]
    },
    {
     "name": "stderr",
     "output_type": "stream",
     "text": [
      "100%|██████████| 1407/1407 [00:15<00:00, 91.10it/s]\n",
      "100%|██████████| 157/157 [00:01<00:00, 134.69it/s]\n"
     ]
    },
    {
     "name": "stdout",
     "output_type": "stream",
     "text": [
      "Epoch 7/1000: train_loss=3.1939, train_accuracy=0.2626, val_loss=3.4153, val_accuracy=0.2319\n",
      "Saving params from epoch 7. Best loss: 3.4153\n"
     ]
    },
    {
     "name": "stderr",
     "output_type": "stream",
     "text": [
      "100%|██████████| 1407/1407 [00:16<00:00, 86.85it/s]\n",
      "100%|██████████| 157/157 [00:01<00:00, 124.72it/s]\n"
     ]
    },
    {
     "name": "stdout",
     "output_type": "stream",
     "text": [
      "Epoch 8/1000: train_loss=3.1023, train_accuracy=0.2766, val_loss=3.3736, val_accuracy=0.2422\n",
      "Saving params from epoch 8. Best loss: 3.3736\n"
     ]
    },
    {
     "name": "stderr",
     "output_type": "stream",
     "text": [
      "100%|██████████| 1407/1407 [00:16<00:00, 86.85it/s]\n",
      "100%|██████████| 157/157 [00:01<00:00, 143.14it/s]\n"
     ]
    },
    {
     "name": "stdout",
     "output_type": "stream",
     "text": [
      "Epoch 9/1000: train_loss=2.9971, train_accuracy=0.2942, val_loss=3.3853, val_accuracy=0.2414\n"
     ]
    },
    {
     "name": "stderr",
     "output_type": "stream",
     "text": [
      "100%|██████████| 1407/1407 [00:15<00:00, 88.97it/s]\n",
      "100%|██████████| 157/157 [00:01<00:00, 139.50it/s]\n"
     ]
    },
    {
     "name": "stdout",
     "output_type": "stream",
     "text": [
      "Epoch 10/1000: train_loss=2.9023, train_accuracy=0.3107, val_loss=3.4974, val_accuracy=0.2320\n"
     ]
    },
    {
     "name": "stderr",
     "output_type": "stream",
     "text": [
      "100%|██████████| 1407/1407 [00:16<00:00, 85.85it/s]\n",
      "100%|██████████| 157/157 [00:01<00:00, 137.85it/s]\n"
     ]
    },
    {
     "name": "stdout",
     "output_type": "stream",
     "text": [
      "Epoch 11/1000: train_loss=2.8069, train_accuracy=0.3266, val_loss=3.3407, val_accuracy=0.2519\n",
      "Saving params from epoch 11. Best loss: 3.3407\n"
     ]
    },
    {
     "name": "stderr",
     "output_type": "stream",
     "text": [
      "100%|██████████| 1407/1407 [00:15<00:00, 89.16it/s]\n",
      "100%|██████████| 157/157 [00:01<00:00, 136.55it/s]\n"
     ]
    },
    {
     "name": "stdout",
     "output_type": "stream",
     "text": [
      "Epoch 12/1000: train_loss=2.7183, train_accuracy=0.3429, val_loss=3.3314, val_accuracy=0.2559\n",
      "Saving params from epoch 12. Best loss: 3.3314\n"
     ]
    },
    {
     "name": "stderr",
     "output_type": "stream",
     "text": [
      "100%|██████████| 1407/1407 [00:16<00:00, 83.21it/s]\n",
      "100%|██████████| 157/157 [00:01<00:00, 143.65it/s]\n"
     ]
    },
    {
     "name": "stdout",
     "output_type": "stream",
     "text": [
      "Epoch 13/1000: train_loss=2.6295, train_accuracy=0.3581, val_loss=3.3085, val_accuracy=0.2659\n",
      "Saving params from epoch 13. Best loss: 3.3085\n"
     ]
    },
    {
     "name": "stderr",
     "output_type": "stream",
     "text": [
      "100%|██████████| 1407/1407 [00:15<00:00, 90.05it/s]\n",
      "100%|██████████| 157/157 [00:01<00:00, 136.34it/s]\n"
     ]
    },
    {
     "name": "stdout",
     "output_type": "stream",
     "text": [
      "Epoch 14/1000: train_loss=2.5422, train_accuracy=0.3749, val_loss=3.4827, val_accuracy=0.2442\n"
     ]
    },
    {
     "name": "stderr",
     "output_type": "stream",
     "text": [
      "100%|██████████| 1407/1407 [00:15<00:00, 89.07it/s]\n",
      "100%|██████████| 157/157 [00:01<00:00, 131.51it/s]\n"
     ]
    },
    {
     "name": "stdout",
     "output_type": "stream",
     "text": [
      "Epoch 15/1000: train_loss=2.4592, train_accuracy=0.3862, val_loss=3.3528, val_accuracy=0.2598\n"
     ]
    },
    {
     "name": "stderr",
     "output_type": "stream",
     "text": [
      "100%|██████████| 1407/1407 [00:15<00:00, 93.51it/s]\n",
      "100%|██████████| 157/157 [00:01<00:00, 133.55it/s]\n"
     ]
    },
    {
     "name": "stdout",
     "output_type": "stream",
     "text": [
      "Epoch 16/1000: train_loss=2.3861, train_accuracy=0.4026, val_loss=3.3709, val_accuracy=0.2646\n"
     ]
    },
    {
     "name": "stderr",
     "output_type": "stream",
     "text": [
      "100%|██████████| 1407/1407 [00:15<00:00, 93.22it/s] \n",
      "100%|██████████| 157/157 [00:01<00:00, 139.82it/s]\n"
     ]
    },
    {
     "name": "stdout",
     "output_type": "stream",
     "text": [
      "Epoch 17/1000: train_loss=2.3027, train_accuracy=0.4173, val_loss=3.4957, val_accuracy=0.2494\n"
     ]
    },
    {
     "name": "stderr",
     "output_type": "stream",
     "text": [
      "100%|██████████| 1407/1407 [00:15<00:00, 92.89it/s] \n",
      "100%|██████████| 157/157 [00:01<00:00, 135.49it/s]\n"
     ]
    },
    {
     "name": "stdout",
     "output_type": "stream",
     "text": [
      "Epoch 18/1000: train_loss=2.2311, train_accuracy=0.4292, val_loss=3.4699, val_accuracy=0.2546\n"
     ]
    },
    {
     "name": "stderr",
     "output_type": "stream",
     "text": [
      "100%|██████████| 1407/1407 [00:15<00:00, 93.36it/s] \n",
      "100%|██████████| 157/157 [00:01<00:00, 131.33it/s]\n"
     ]
    },
    {
     "name": "stdout",
     "output_type": "stream",
     "text": [
      "Epoch 19/1000: train_loss=2.1690, train_accuracy=0.4431, val_loss=3.5004, val_accuracy=0.2534\n"
     ]
    },
    {
     "name": "stderr",
     "output_type": "stream",
     "text": [
      "100%|██████████| 1407/1407 [00:15<00:00, 91.50it/s]\n",
      "100%|██████████| 157/157 [00:01<00:00, 130.66it/s]\n"
     ]
    },
    {
     "name": "stdout",
     "output_type": "stream",
     "text": [
      "Epoch 20/1000: train_loss=2.0999, train_accuracy=0.4541, val_loss=3.5198, val_accuracy=0.2600\n"
     ]
    },
    {
     "name": "stderr",
     "output_type": "stream",
     "text": [
      "100%|██████████| 1407/1407 [00:15<00:00, 92.59it/s]\n",
      "100%|██████████| 157/157 [00:01<00:00, 137.22it/s]\n"
     ]
    },
    {
     "name": "stdout",
     "output_type": "stream",
     "text": [
      "Epoch 21/1000: train_loss=2.0353, train_accuracy=0.4678, val_loss=3.5706, val_accuracy=0.2549\n"
     ]
    },
    {
     "name": "stderr",
     "output_type": "stream",
     "text": [
      "100%|██████████| 1407/1407 [00:15<00:00, 91.40it/s]\n",
      "100%|██████████| 157/157 [00:01<00:00, 141.00it/s]\n"
     ]
    },
    {
     "name": "stdout",
     "output_type": "stream",
     "text": [
      "Epoch 22/1000: train_loss=1.9742, train_accuracy=0.4819, val_loss=3.6380, val_accuracy=0.2522\n"
     ]
    },
    {
     "name": "stderr",
     "output_type": "stream",
     "text": [
      "100%|██████████| 1407/1407 [00:14<00:00, 94.64it/s]\n",
      "100%|██████████| 157/157 [00:01<00:00, 137.58it/s]\n"
     ]
    },
    {
     "name": "stdout",
     "output_type": "stream",
     "text": [
      "Epoch 23/1000: train_loss=1.9297, train_accuracy=0.4888, val_loss=3.7518, val_accuracy=0.2454\n",
      "Loading model params from epoch 13\n"
     ]
    },
    {
     "data": {
      "text/plain": [
       "AlexNet(\n",
       "  (layers): Sequential(\n",
       "    (0): Conv2d(3, 10, kernel_size=(5, 5), stride=(2, 2))\n",
       "    (1): BatchNorm2d(10, eps=1e-05, momentum=0.1, affine=True, track_running_stats=True)\n",
       "    (2): ReLU()\n",
       "    (3): MaxPool2d(kernel_size=2, stride=2, padding=0, dilation=1, ceil_mode=False)\n",
       "    (4): Conv2d(10, 32, kernel_size=(3, 3), stride=(1, 1))\n",
       "    (5): BatchNorm2d(32, eps=1e-05, momentum=0.1, affine=True, track_running_stats=True)\n",
       "    (6): ReLU()\n",
       "    (7): MaxPool2d(kernel_size=2, stride=2, padding=0, dilation=1, ceil_mode=False)\n",
       "    (8): Conv2d(32, 64, kernel_size=(3, 3), stride=(1, 1), padding=same)\n",
       "    (9): BatchNorm2d(64, eps=1e-05, momentum=0.1, affine=True, track_running_stats=True)\n",
       "    (10): ReLU()\n",
       "    (11): Conv2d(64, 96, kernel_size=(3, 3), stride=(1, 1), padding=same)\n",
       "    (12): BatchNorm2d(96, eps=1e-05, momentum=0.1, affine=True, track_running_stats=True)\n",
       "    (13): ReLU()\n",
       "    (14): Conv2d(96, 128, kernel_size=(3, 3), stride=(1, 1), padding=same)\n",
       "    (15): BatchNorm2d(128, eps=1e-05, momentum=0.1, affine=True, track_running_stats=True)\n",
       "    (16): ReLU()\n",
       "    (17): MaxPool2d(kernel_size=2, stride=2, padding=0, dilation=1, ceil_mode=False)\n",
       "    (18): Flatten(start_dim=1, end_dim=-1)\n",
       "    (19): Linear(in_features=1152, out_features=512, bias=True)\n",
       "    (20): BatchNorm1d(512, eps=1e-05, momentum=0.1, affine=True, track_running_stats=True)\n",
       "    (21): ReLU()\n",
       "    (22): Dropout(p=0.2, inplace=False)\n",
       "    (23): Linear(in_features=512, out_features=256, bias=True)\n",
       "    (24): ReLU()\n",
       "    (25): Dropout(p=0.2, inplace=False)\n",
       "    (26): Linear(in_features=256, out_features=200, bias=True)\n",
       "  )\n",
       ")"
      ]
     },
     "execution_count": 16,
     "metadata": {},
     "output_type": "execute_result"
    }
   ],
   "source": [
    "utils.train_model(model, train_dl, valid_dl, loss_fn, optim, \n",
    "                  tensorboard_dir='../runs/01-alexnet', metrics=[utils.metric_accuracy],\n",
    "                  epochs=1000,\n",
    "                  patience=10)"
   ]
  },
  {
   "cell_type": "code",
   "execution_count": 17,
   "metadata": {},
   "outputs": [
    {
     "data": {
      "text/plain": [
       "{'loss': 3.276470802307129, 'accuracy': 0.268}"
      ]
     },
     "execution_count": 17,
     "metadata": {},
     "output_type": "execute_result"
    }
   ],
   "source": [
    "utils.evaluate_model(model, test_dl, loss_fn, metrics=[utils.metric_accuracy])"
   ]
  }
 ],
 "metadata": {
  "kernelspec": {
   "display_name": "torch",
   "language": "python",
   "name": "python3"
  },
  "language_info": {
   "codemirror_mode": {
    "name": "ipython",
    "version": 3
   },
   "file_extension": ".py",
   "mimetype": "text/x-python",
   "name": "python",
   "nbconvert_exporter": "python",
   "pygments_lexer": "ipython3",
   "version": "3.11.4"
  },
  "orig_nbformat": 4
 },
 "nbformat": 4,
 "nbformat_minor": 2
}
