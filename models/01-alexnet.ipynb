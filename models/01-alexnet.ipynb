{
 "cells": [
  {
   "cell_type": "code",
   "execution_count": 23,
   "metadata": {},
   "outputs": [
    {
     "data": {
      "text/plain": [
       "<module 'utils' from '/home/amitaharoni/workspace/cv-sprint/models/utils.py'>"
      ]
     },
     "execution_count": 23,
     "metadata": {},
     "output_type": "execute_result"
    }
   ],
   "source": [
    "import torch\n",
    "import torch.nn.functional as F\n",
    "import utils\n",
    "from importlib import reload\n",
    "reload(utils)"
   ]
  },
  {
   "cell_type": "code",
   "execution_count": 24,
   "metadata": {},
   "outputs": [],
   "source": [
    "train_dl, valid_dl, test_dl = utils.make_tiny_imagenet_dataloaders()"
   ]
  },
  {
   "cell_type": "code",
   "execution_count": 25,
   "metadata": {},
   "outputs": [
    {
     "data": {
      "text/plain": [
       "AlexNet(\n",
       "  (layers): Sequential(\n",
       "    (0): Conv2d(3, 10, kernel_size=(5, 5), stride=(2, 2))\n",
       "    (1): BatchNorm2d(10, eps=1e-05, momentum=0.1, affine=True, track_running_stats=True)\n",
       "    (2): ReLU()\n",
       "    (3): MaxPool2d(kernel_size=2, stride=2, padding=0, dilation=1, ceil_mode=False)\n",
       "    (4): Conv2d(10, 32, kernel_size=(3, 3), stride=(1, 1))\n",
       "    (5): BatchNorm2d(32, eps=1e-05, momentum=0.1, affine=True, track_running_stats=True)\n",
       "    (6): ReLU()\n",
       "    (7): MaxPool2d(kernel_size=2, stride=2, padding=0, dilation=1, ceil_mode=False)\n",
       "    (8): Conv2d(32, 64, kernel_size=(3, 3), stride=(1, 1), padding=same)\n",
       "    (9): BatchNorm2d(64, eps=1e-05, momentum=0.1, affine=True, track_running_stats=True)\n",
       "    (10): ReLU()\n",
       "    (11): Conv2d(64, 96, kernel_size=(3, 3), stride=(1, 1), padding=same)\n",
       "    (12): BatchNorm2d(96, eps=1e-05, momentum=0.1, affine=True, track_running_stats=True)\n",
       "    (13): ReLU()\n",
       "    (14): Conv2d(96, 128, kernel_size=(3, 3), stride=(1, 1), padding=same)\n",
       "    (15): BatchNorm2d(128, eps=1e-05, momentum=0.1, affine=True, track_running_stats=True)\n",
       "    (16): ReLU()\n",
       "    (17): MaxPool2d(kernel_size=2, stride=2, padding=0, dilation=1, ceil_mode=False)\n",
       "    (18): Flatten(start_dim=1, end_dim=-1)\n",
       "    (19): Linear(in_features=1152, out_features=512, bias=True)\n",
       "    (20): BatchNorm1d(512, eps=1e-05, momentum=0.1, affine=True, track_running_stats=True)\n",
       "    (21): ReLU()\n",
       "    (22): Dropout(p=0.2, inplace=False)\n",
       "    (23): Linear(in_features=512, out_features=256, bias=True)\n",
       "    (24): ReLU()\n",
       "    (25): Dropout(p=0.2, inplace=False)\n",
       "    (26): Linear(in_features=256, out_features=200, bias=True)\n",
       "  )\n",
       ")"
      ]
     },
     "execution_count": 25,
     "metadata": {},
     "output_type": "execute_result"
    }
   ],
   "source": [
    "class AlexNet(torch.nn.Module):\n",
    "    def __init__(self):\n",
    "        super().__init__()\n",
    "        self.layers = torch.nn.Sequential(\n",
    "            # 64x64 => 30x30\n",
    "            torch.nn.Conv2d(in_channels=3, out_channels=10, kernel_size=5, stride=2),\n",
    "            torch.nn.BatchNorm2d(num_features=10),\n",
    "            torch.nn.ReLU(),\n",
    "            # 30x30 => 15x15\n",
    "            torch.nn.MaxPool2d(kernel_size=2, stride=2),\n",
    "            # 15x15 => 13x13\n",
    "            torch.nn.Conv2d(in_channels=10, out_channels=32, kernel_size=3),\n",
    "            torch.nn.BatchNorm2d(num_features=32),\n",
    "            torch.nn.ReLU(),\n",
    "            # 13x13 => 6x6\n",
    "            torch.nn.MaxPool2d(kernel_size=2, stride=2),\n",
    "            torch.nn.Conv2d(in_channels=32, out_channels=64, kernel_size=3, padding='same'),\n",
    "            torch.nn.BatchNorm2d(num_features=64),\n",
    "            torch.nn.ReLU(),\n",
    "            torch.nn.Conv2d(in_channels=64, out_channels=96, kernel_size=3, padding='same'),\n",
    "            torch.nn.BatchNorm2d(num_features=96),\n",
    "            torch.nn.ReLU(),\n",
    "            torch.nn.Conv2d(in_channels=96, out_channels=128, kernel_size=3, padding='same'),\n",
    "            torch.nn.BatchNorm2d(num_features=128),\n",
    "            torch.nn.ReLU(),\n",
    "            # 6x6 => 3x3\n",
    "            torch.nn.MaxPool2d(kernel_size=2, stride=2),\n",
    "            # 3x3x128 => 1152\n",
    "            torch.nn.Flatten(),\n",
    "            torch.nn.Linear(in_features=1152, out_features=512),\n",
    "            torch.nn.BatchNorm1d(num_features=512),\n",
    "            torch.nn.ReLU(),\n",
    "            torch.nn.Dropout(0.2),\n",
    "            torch.nn.Linear(in_features=512, out_features=256),\n",
    "            torch.nn.ReLU(),\n",
    "            torch.nn.Dropout(0.2),\n",
    "            torch.nn.Linear(in_features=256, out_features=200),\n",
    "        )\n",
    "\n",
    "    def forward(self, x):\n",
    "        return self.layers(x)\n",
    "\n",
    "model = AlexNet()\n",
    "model = model.to(utils.device)\n",
    "model"
   ]
  },
  {
   "cell_type": "code",
   "execution_count": 26,
   "metadata": {},
   "outputs": [],
   "source": [
    "loss_fn = torch.nn.CrossEntropyLoss()\n",
    "optim = torch.optim.Adam(model.parameters())"
   ]
  },
  {
   "cell_type": "code",
   "execution_count": 27,
   "metadata": {},
   "outputs": [
    {
     "name": "stderr",
     "output_type": "stream",
     "text": [
      "  0%|          | 0/1407 [00:00<?, ?it/s]"
     ]
    },
    {
     "name": "stderr",
     "output_type": "stream",
     "text": [
      "100%|██████████| 1407/1407 [00:15<00:00, 89.59it/s]\n",
      "100%|██████████| 157/157 [00:01<00:00, 131.12it/s]\n"
     ]
    },
    {
     "name": "stdout",
     "output_type": "stream",
     "text": [
      "Epoch 1/1000: train_loss=4.5439, train_accuracy=0.0698, val_loss=4.1918, val_accuracy=0.1063\n",
      "Saving params from epoch 1. Best loss: 4.1918\n"
     ]
    },
    {
     "name": "stderr",
     "output_type": "stream",
     "text": [
      "100%|██████████| 1407/1407 [00:15<00:00, 93.42it/s] \n",
      "100%|██████████| 157/157 [00:01<00:00, 143.43it/s]\n"
     ]
    },
    {
     "name": "stdout",
     "output_type": "stream",
     "text": [
      "Epoch 2/1000: train_loss=3.9674, train_accuracy=0.1392, val_loss=3.8893, val_accuracy=0.1558\n",
      "Saving params from epoch 2. Best loss: 3.8893\n"
     ]
    },
    {
     "name": "stderr",
     "output_type": "stream",
     "text": [
      "100%|██████████| 1407/1407 [00:14<00:00, 94.05it/s] \n",
      "100%|██████████| 157/157 [00:01<00:00, 140.25it/s]\n"
     ]
    },
    {
     "name": "stdout",
     "output_type": "stream",
     "text": [
      "Epoch 3/1000: train_loss=3.7175, train_accuracy=0.1764, val_loss=3.8558, val_accuracy=0.1627\n",
      "Saving params from epoch 3. Best loss: 3.8558\n"
     ]
    },
    {
     "name": "stderr",
     "output_type": "stream",
     "text": [
      "100%|██████████| 1407/1407 [00:15<00:00, 91.47it/s] \n",
      "100%|██████████| 157/157 [00:01<00:00, 144.46it/s]\n"
     ]
    },
    {
     "name": "stdout",
     "output_type": "stream",
     "text": [
      "Epoch 4/1000: train_loss=3.5478, train_accuracy=0.2005, val_loss=3.5830, val_accuracy=0.2013\n",
      "Saving params from epoch 4. Best loss: 3.5830\n"
     ]
    },
    {
     "name": "stderr",
     "output_type": "stream",
     "text": [
      "100%|██████████| 1407/1407 [00:14<00:00, 94.00it/s] \n",
      "100%|██████████| 157/157 [00:01<00:00, 107.22it/s]\n"
     ]
    },
    {
     "name": "stdout",
     "output_type": "stream",
     "text": [
      "Epoch 5/1000: train_loss=3.4080, train_accuracy=0.2263, val_loss=3.5960, val_accuracy=0.1998\n"
     ]
    },
    {
     "name": "stderr",
     "output_type": "stream",
     "text": [
      "100%|██████████| 1407/1407 [00:15<00:00, 92.47it/s]\n",
      "100%|██████████| 157/157 [00:01<00:00, 135.39it/s]\n"
     ]
    },
    {
     "name": "stdout",
     "output_type": "stream",
     "text": [
      "Epoch 6/1000: train_loss=3.2871, train_accuracy=0.2465, val_loss=3.4840, val_accuracy=0.2200\n",
      "Saving params from epoch 6. Best loss: 3.4840\n"
     ]
    },
    {
     "name": "stderr",
     "output_type": "stream",
     "text": [
      "100%|██████████| 1407/1407 [00:15<00:00, 88.19it/s]\n",
      "100%|██████████| 157/157 [00:01<00:00, 133.98it/s]\n"
     ]
    },
    {
     "name": "stdout",
     "output_type": "stream",
     "text": [
      "Epoch 7/1000: train_loss=3.1739, train_accuracy=0.2644, val_loss=3.5345, val_accuracy=0.2228\n"
     ]
    },
    {
     "name": "stderr",
     "output_type": "stream",
     "text": [
      "100%|██████████| 1407/1407 [00:15<00:00, 93.49it/s] \n",
      "100%|██████████| 157/157 [00:01<00:00, 136.12it/s]\n"
     ]
    },
    {
     "name": "stdout",
     "output_type": "stream",
     "text": [
      "Epoch 8/1000: train_loss=3.0749, train_accuracy=0.2803, val_loss=3.3317, val_accuracy=0.2534\n",
      "Saving params from epoch 8. Best loss: 3.3317\n"
     ]
    },
    {
     "name": "stderr",
     "output_type": "stream",
     "text": [
      "100%|██████████| 1407/1407 [00:15<00:00, 93.69it/s] \n",
      "100%|██████████| 157/157 [00:01<00:00, 133.91it/s]\n"
     ]
    },
    {
     "name": "stdout",
     "output_type": "stream",
     "text": [
      "Epoch 9/1000: train_loss=2.9698, train_accuracy=0.3001, val_loss=3.2180, val_accuracy=0.2649\n",
      "Saving params from epoch 9. Best loss: 3.2180\n"
     ]
    },
    {
     "name": "stderr",
     "output_type": "stream",
     "text": [
      "100%|██████████| 1407/1407 [00:15<00:00, 92.37it/s]\n",
      "100%|██████████| 157/157 [00:01<00:00, 137.92it/s]\n"
     ]
    },
    {
     "name": "stdout",
     "output_type": "stream",
     "text": [
      "Epoch 10/1000: train_loss=2.8724, train_accuracy=0.3167, val_loss=3.2414, val_accuracy=0.2697\n"
     ]
    },
    {
     "name": "stderr",
     "output_type": "stream",
     "text": [
      "100%|██████████| 1407/1407 [00:16<00:00, 86.91it/s]\n",
      "100%|██████████| 157/157 [00:01<00:00, 121.66it/s]\n"
     ]
    },
    {
     "name": "stdout",
     "output_type": "stream",
     "text": [
      "Epoch 11/1000: train_loss=2.7748, train_accuracy=0.3339, val_loss=3.2608, val_accuracy=0.2630\n"
     ]
    },
    {
     "name": "stderr",
     "output_type": "stream",
     "text": [
      "100%|██████████| 1407/1407 [00:16<00:00, 87.27it/s]\n",
      "100%|██████████| 157/157 [00:01<00:00, 135.96it/s]\n"
     ]
    },
    {
     "name": "stdout",
     "output_type": "stream",
     "text": [
      "Epoch 12/1000: train_loss=2.6775, train_accuracy=0.3491, val_loss=3.2756, val_accuracy=0.2683\n"
     ]
    },
    {
     "name": "stderr",
     "output_type": "stream",
     "text": [
      "100%|██████████| 1407/1407 [00:15<00:00, 91.16it/s] \n",
      "100%|██████████| 157/157 [00:01<00:00, 129.34it/s]\n"
     ]
    },
    {
     "name": "stdout",
     "output_type": "stream",
     "text": [
      "Epoch 13/1000: train_loss=2.5954, train_accuracy=0.3638, val_loss=3.3285, val_accuracy=0.2693\n"
     ]
    },
    {
     "name": "stderr",
     "output_type": "stream",
     "text": [
      "100%|██████████| 1407/1407 [00:15<00:00, 88.65it/s]\n",
      "100%|██████████| 157/157 [00:01<00:00, 128.48it/s]\n"
     ]
    },
    {
     "name": "stdout",
     "output_type": "stream",
     "text": [
      "Epoch 14/1000: train_loss=2.5146, train_accuracy=0.3794, val_loss=3.3199, val_accuracy=0.2709\n"
     ]
    },
    {
     "name": "stderr",
     "output_type": "stream",
     "text": [
      "100%|██████████| 1407/1407 [00:17<00:00, 81.26it/s]\n",
      "100%|██████████| 157/157 [00:01<00:00, 125.13it/s]\n"
     ]
    },
    {
     "name": "stdout",
     "output_type": "stream",
     "text": [
      "Epoch 15/1000: train_loss=2.4261, train_accuracy=0.3953, val_loss=3.4145, val_accuracy=0.2614\n"
     ]
    },
    {
     "name": "stderr",
     "output_type": "stream",
     "text": [
      "100%|██████████| 1407/1407 [00:15<00:00, 89.62it/s]\n",
      "100%|██████████| 157/157 [00:01<00:00, 138.39it/s]\n"
     ]
    },
    {
     "name": "stdout",
     "output_type": "stream",
     "text": [
      "Epoch 16/1000: train_loss=2.3470, train_accuracy=0.4090, val_loss=3.3958, val_accuracy=0.2672\n"
     ]
    },
    {
     "name": "stderr",
     "output_type": "stream",
     "text": [
      "100%|██████████| 1407/1407 [00:15<00:00, 93.28it/s] \n",
      "100%|██████████| 157/157 [00:01<00:00, 134.93it/s]\n"
     ]
    },
    {
     "name": "stdout",
     "output_type": "stream",
     "text": [
      "Epoch 17/1000: train_loss=2.2700, train_accuracy=0.4255, val_loss=3.3993, val_accuracy=0.2710\n"
     ]
    },
    {
     "name": "stderr",
     "output_type": "stream",
     "text": [
      "100%|██████████| 1407/1407 [00:15<00:00, 91.78it/s] \n",
      "100%|██████████| 157/157 [00:01<00:00, 132.12it/s]\n"
     ]
    },
    {
     "name": "stdout",
     "output_type": "stream",
     "text": [
      "Epoch 18/1000: train_loss=2.1927, train_accuracy=0.4375, val_loss=3.5144, val_accuracy=0.2668\n"
     ]
    },
    {
     "name": "stderr",
     "output_type": "stream",
     "text": [
      "100%|██████████| 1407/1407 [00:16<00:00, 87.50it/s]\n",
      "100%|██████████| 157/157 [00:01<00:00, 120.70it/s]"
     ]
    },
    {
     "name": "stdout",
     "output_type": "stream",
     "text": [
      "Epoch 19/1000: train_loss=2.1301, train_accuracy=0.4512, val_loss=3.5575, val_accuracy=0.2539\n",
      "Loading model params from epoch 9\n"
     ]
    },
    {
     "name": "stderr",
     "output_type": "stream",
     "text": [
      "\n"
     ]
    }
   ],
   "source": [
    "hist = utils.train_model(model, train_dl, valid_dl, loss_fn, optim, \n",
    "                         tensorboard_dir='../runs/01-alexnet', metrics=[utils.metric_accuracy],\n",
    "                         epochs=1000,\n",
    "                         patience=4)"
   ]
  },
  {
   "cell_type": "code",
   "execution_count": 28,
   "metadata": {},
   "outputs": [
    {
     "data": {
      "text/plain": [
       "{'loss': 3.2410509719848632, 'accuracy': 0.2708}"
      ]
     },
     "execution_count": 28,
     "metadata": {},
     "output_type": "execute_result"
    }
   ],
   "source": [
    "utils.evaluate_model(model, test_dl, loss_fn, metrics=[utils.metric_accuracy])"
   ]
  },
  {
   "cell_type": "code",
   "execution_count": 44,
   "metadata": {},
   "outputs": [
    {
     "data": {
      "image/png": "[encoded data removed]",
      "text/plain": [
       "<Figure size 600x300 with 1 Axes>"
      ]
     },
     "metadata": {},
     "output_type": "display_data"
    }
   ],
   "source": [
    "import matplotlib.pyplot as plt\n",
    "\n",
    "fig, ax = plt.subplots(figsize=(6, 3))\n",
    "ax.plot(hist['epoch'], hist['val_accuracy'], label='val_accuracy')\n",
    "ax.plot(hist['epoch'], hist['train_accuracy'], label='train_accuracy')\n",
    "ax.legend(loc='upper left')\n",
    "ax.set_xticks(hist['epoch'])\n",
    "ax.grid()\n",
    "plt.show()"
   ]
  }
 ],
 "metadata": {
  "kernelspec": {
   "display_name": "torch",
   "language": "python",
   "name": "python3"
  },
  "language_info": {
   "codemirror_mode": {
    "name": "ipython",
    "version": 3
   },
   "file_extension": ".py",
   "mimetype": "text/x-python",
   "name": "python",
   "nbconvert_exporter": "python",
   "pygments_lexer": "ipython3",
   "version": "3.11.4"
  },
  "orig_nbformat": 4
 },
 "nbformat": 4,
 "nbformat_minor": 2
}
