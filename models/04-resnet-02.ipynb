{
 "cells": [
  {
   "cell_type": "code",
   "execution_count": 1,
   "metadata": {},
   "outputs": [],
   "source": [
    "import matplotlib.pyplot as plt\n",
    "import numpy as np\n",
    "\n",
    "import torch\n",
    "from torch import nn\n",
    "import torch.nn.functional as F\n",
    "from torchvision.models import resnet18, resnet50, ResNet18_Weights, ResNet50_Weights\n",
    "\n",
    "import utils\n",
    "from importlib import reload\n",
    "reload(utils)\n",
    "utils.set_namespace('04-resnet')"
   ]
  },
  {
   "cell_type": "code",
   "execution_count": 2,
   "metadata": {},
   "outputs": [
    {
     "data": {
      "text/plain": [
       "(90000, 10000, 10000, 200)"
      ]
     },
     "execution_count": 2,
     "metadata": {},
     "output_type": "execute_result"
    }
   ],
   "source": [
    "train_dl, valid_dl, test_dl, classes = utils.make_tiny_imagenet_dataloaders()\n",
    "len(train_dl.dataset), len(valid_dl.dataset), len(test_dl.dataset), len(classes)"
   ]
  },
  {
   "cell_type": "code",
   "execution_count": 3,
   "metadata": {},
   "outputs": [],
   "source": [
    "class ResNet18Transfer(nn.Module):\n",
    "    def __init__(self):\n",
    "        super().__init__()\n",
    "        self.pretrained = resnet18(weights=ResNet18_Weights.DEFAULT).to(utils.device)\n",
    "        self.pretrained.fc = nn.Sequential(\n",
    "            nn.Dropout(0.5),\n",
    "            nn.Linear(512, 200)\n",
    "        )\n",
    "\n",
    "    def forward(self, x):\n",
    "        x = self.pretrained(x)\n",
    "        return x"
   ]
  },
  {
   "cell_type": "code",
   "execution_count": 4,
   "metadata": {},
   "outputs": [
    {
     "name": "stdout",
     "output_type": "stream",
     "text": [
      "Loaded model resnet-18-transfer-02 from checkpoint. epoch=14, step=19698. train_loss=1.4097, train_accuracy=0.6539, val_loss=1.9941, val_accuracy=0.5214\n",
      "resnet-18-transfer-02 registered.\n",
      "Trainable params: 11.3 M. Untrainable params: 0.00. Buffers: 12.0 k.\n",
      "Skipped compilation\n"
     ]
    },
    {
     "data": {
      "text/plain": [
       "{'model_name': 'resnet-18-transfer-02',\n",
       " 'description': 'Fresh transfer learning from ResNet18 by overriding the last fc layer, batch size 64',\n",
       " 'persisted': True,\n",
       " 'compiled': True,\n",
       " 'optimizer_cls': <class 'torch.optim.adam.Adam'>,\n",
       " 'optimizer_args': {'lr': 1e-05},\n",
       " 'loss_fn_cls': <class 'torch.nn.modules.loss.CrossEntropyLoss'>,\n",
       " 'loss_fn_args': {},\n",
       " 'scheduler_cls': <class 'NoneType'>,\n",
       " 'scheduler_args': None,\n",
       " 'epoch': 14,\n",
       " 'step': 19698,\n",
       " 'metrics': {'train_loss': 1.4097231893751356,\n",
       "             'train_accuracy': 0.6539,\n",
       "             'val_loss': 1.9940666374206544,\n",
       "             'val_accuracy': 0.5214}}"
      ]
     },
     "execution_count": 4,
     "metadata": {},
     "output_type": "execute_result"
    }
   ],
   "source": [
    "# utils.delete_model('resnet-18-transfer-02')\n",
    "model1 = utils.register_model(\n",
    "    'resnet-18-transfer-02', \n",
    "    ResNet18Transfer(), \n",
    "    'Fresh transfer learning from ResNet18 by overriding the last fc layer, batch size 64')\n",
    "model1.setup(optimizer_cls=torch.optim.Adam, optimizer_args=dict(lr=1e-5), loss_fn_cls=torch.nn.CrossEntropyLoss)"
   ]
  },
  {
   "cell_type": "code",
   "execution_count": 44,
   "metadata": {},
   "outputs": [
    {
     "name": "stdout",
     "output_type": "stream",
     "text": [
      "Initial val_loss: 5.9215\n"
     ]
    },
    {
     "name": "stderr",
     "output_type": "stream",
     "text": [
      "100%|██████████| 1407/1407 [00:37<00:00, 37.10it/s]\n",
      "100%|██████████| 157/157 [00:01<00:00, 91.02it/s] \n"
     ]
    },
    {
     "name": "stdout",
     "output_type": "stream",
     "text": [
      "Epoch 1/1000: train_loss=5.3889, train_accuracy=0.0295, val_loss=4.4145, val_accuracy=0.1478\n",
      "Saved checkpoint for resnet-18-transfer-02. epoch=1, step=1407. train_loss=5.3889, train_accuracy=0.0295, val_loss=4.4145, val_accuracy=0.1478\n"
     ]
    },
    {
     "name": "stderr",
     "output_type": "stream",
     "text": [
      "100%|██████████| 1407/1407 [00:37<00:00, 37.84it/s]\n",
      "100%|██████████| 157/157 [00:01<00:00, 93.96it/s] \n"
     ]
    },
    {
     "name": "stdout",
     "output_type": "stream",
     "text": [
      "Epoch 2/1000: train_loss=4.2590, train_accuracy=0.1359, val_loss=3.4682, val_accuracy=0.2830\n",
      "Saved checkpoint for resnet-18-transfer-02. epoch=2, step=2814. train_loss=4.2590, train_accuracy=0.1359, val_loss=3.4682, val_accuracy=0.2830\n"
     ]
    },
    {
     "name": "stderr",
     "output_type": "stream",
     "text": [
      "100%|██████████| 1407/1407 [00:37<00:00, 37.24it/s]\n",
      "100%|██████████| 157/157 [00:01<00:00, 88.81it/s]\n"
     ]
    },
    {
     "name": "stdout",
     "output_type": "stream",
     "text": [
      "Epoch 3/1000: train_loss=3.5215, train_accuracy=0.2446, val_loss=2.9550, val_accuracy=0.3626\n",
      "Saved checkpoint for resnet-18-transfer-02. epoch=3, step=4221. train_loss=3.5215, train_accuracy=0.2446, val_loss=2.9550, val_accuracy=0.3626\n"
     ]
    },
    {
     "name": "stderr",
     "output_type": "stream",
     "text": [
      "100%|██████████| 1407/1407 [00:37<00:00, 37.57it/s]\n",
      "100%|██████████| 157/157 [00:01<00:00, 91.79it/s] \n"
     ]
    },
    {
     "name": "stdout",
     "output_type": "stream",
     "text": [
      "Epoch 4/1000: train_loss=3.0543, train_accuracy=0.3219, val_loss=2.6366, val_accuracy=0.4076\n",
      "Saved checkpoint for resnet-18-transfer-02. epoch=4, step=5628. train_loss=3.0543, train_accuracy=0.3219, val_loss=2.6366, val_accuracy=0.4076\n"
     ]
    },
    {
     "name": "stderr",
     "output_type": "stream",
     "text": [
      "100%|██████████| 1407/1407 [00:37<00:00, 37.43it/s]\n",
      "100%|██████████| 157/157 [00:01<00:00, 92.23it/s] \n"
     ]
    },
    {
     "name": "stdout",
     "output_type": "stream",
     "text": [
      "Epoch 5/1000: train_loss=2.7321, train_accuracy=0.3784, val_loss=2.4481, val_accuracy=0.4367\n",
      "Saved checkpoint for resnet-18-transfer-02. epoch=5, step=7035. train_loss=2.7321, train_accuracy=0.3784, val_loss=2.4481, val_accuracy=0.4367\n"
     ]
    },
    {
     "name": "stderr",
     "output_type": "stream",
     "text": [
      "100%|██████████| 1407/1407 [00:37<00:00, 37.42it/s]\n",
      "100%|██████████| 157/157 [00:01<00:00, 89.81it/s] \n"
     ]
    },
    {
     "name": "stdout",
     "output_type": "stream",
     "text": [
      "Epoch 6/1000: train_loss=2.4881, train_accuracy=0.4241, val_loss=2.3104, val_accuracy=0.4619\n",
      "Saved checkpoint for resnet-18-transfer-02. epoch=6, step=8442. train_loss=2.4881, train_accuracy=0.4241, val_loss=2.3104, val_accuracy=0.4619\n"
     ]
    },
    {
     "name": "stderr",
     "output_type": "stream",
     "text": [
      "100%|██████████| 1407/1407 [00:38<00:00, 36.64it/s]\n",
      "100%|██████████| 157/157 [00:01<00:00, 88.20it/s] \n"
     ]
    },
    {
     "name": "stdout",
     "output_type": "stream",
     "text": [
      "Epoch 7/1000: train_loss=2.2917, train_accuracy=0.4645, val_loss=2.2187, val_accuracy=0.4804\n",
      "Saved checkpoint for resnet-18-transfer-02. epoch=7, step=9849. train_loss=2.2917, train_accuracy=0.4645, val_loss=2.2187, val_accuracy=0.4804\n"
     ]
    },
    {
     "name": "stderr",
     "output_type": "stream",
     "text": [
      "100%|██████████| 1407/1407 [00:38<00:00, 36.52it/s]\n",
      "100%|██████████| 157/157 [00:01<00:00, 87.36it/s] \n"
     ]
    },
    {
     "name": "stdout",
     "output_type": "stream",
     "text": [
      "Epoch 8/1000: train_loss=2.1263, train_accuracy=0.4993, val_loss=2.1484, val_accuracy=0.4880\n",
      "Saved checkpoint for resnet-18-transfer-02. epoch=8, step=11256. train_loss=2.1263, train_accuracy=0.4993, val_loss=2.1484, val_accuracy=0.4880\n"
     ]
    },
    {
     "name": "stderr",
     "output_type": "stream",
     "text": [
      "100%|██████████| 1407/1407 [00:38<00:00, 36.93it/s]\n",
      "100%|██████████| 157/157 [00:01<00:00, 90.00it/s] \n"
     ]
    },
    {
     "name": "stdout",
     "output_type": "stream",
     "text": [
      "Epoch 9/1000: train_loss=1.9798, train_accuracy=0.5288, val_loss=2.1039, val_accuracy=0.4973\n",
      "Saved checkpoint for resnet-18-transfer-02. epoch=9, step=12663. train_loss=1.9798, train_accuracy=0.5288, val_loss=2.1039, val_accuracy=0.4973\n"
     ]
    },
    {
     "name": "stderr",
     "output_type": "stream",
     "text": [
      "100%|██████████| 1407/1407 [00:38<00:00, 36.18it/s]\n",
      "100%|██████████| 157/157 [00:01<00:00, 90.29it/s] \n"
     ]
    },
    {
     "name": "stdout",
     "output_type": "stream",
     "text": [
      "Epoch 10/1000: train_loss=1.8534, train_accuracy=0.5544, val_loss=2.0638, val_accuracy=0.5050\n",
      "Saved checkpoint for resnet-18-transfer-02. epoch=10, step=14070. train_loss=1.8534, train_accuracy=0.5544, val_loss=2.0638, val_accuracy=0.5050\n"
     ]
    },
    {
     "name": "stderr",
     "output_type": "stream",
     "text": [
      "100%|██████████| 1407/1407 [00:38<00:00, 36.86it/s]\n",
      "100%|██████████| 157/157 [00:01<00:00, 91.23it/s] \n"
     ]
    },
    {
     "name": "stdout",
     "output_type": "stream",
     "text": [
      "Epoch 11/1000: train_loss=1.7318, train_accuracy=0.5811, val_loss=2.0416, val_accuracy=0.5102\n",
      "Saved checkpoint for resnet-18-transfer-02. epoch=11, step=15477. train_loss=1.7318, train_accuracy=0.5811, val_loss=2.0416, val_accuracy=0.5102\n"
     ]
    },
    {
     "name": "stderr",
     "output_type": "stream",
     "text": [
      "100%|██████████| 1407/1407 [00:37<00:00, 37.51it/s]\n",
      "100%|██████████| 157/157 [00:01<00:00, 89.32it/s] \n"
     ]
    },
    {
     "name": "stdout",
     "output_type": "stream",
     "text": [
      "Epoch 12/1000: train_loss=1.6170, train_accuracy=0.6085, val_loss=2.0201, val_accuracy=0.5166\n",
      "Saved checkpoint for resnet-18-transfer-02. epoch=12, step=16884. train_loss=1.6170, train_accuracy=0.6085, val_loss=2.0201, val_accuracy=0.5166\n"
     ]
    },
    {
     "name": "stderr",
     "output_type": "stream",
     "text": [
      "100%|██████████| 1407/1407 [00:37<00:00, 37.73it/s]\n",
      "100%|██████████| 157/157 [00:01<00:00, 89.12it/s] \n"
     ]
    },
    {
     "name": "stdout",
     "output_type": "stream",
     "text": [
      "Epoch 13/1000: train_loss=1.5114, train_accuracy=0.6328, val_loss=2.0047, val_accuracy=0.5196\n",
      "Saved checkpoint for resnet-18-transfer-02. epoch=13, step=18291. train_loss=1.5114, train_accuracy=0.6328, val_loss=2.0047, val_accuracy=0.5196\n"
     ]
    },
    {
     "name": "stderr",
     "output_type": "stream",
     "text": [
      "100%|██████████| 1407/1407 [00:37<00:00, 37.32it/s]\n",
      "100%|██████████| 157/157 [00:02<00:00, 72.21it/s]\n"
     ]
    },
    {
     "name": "stdout",
     "output_type": "stream",
     "text": [
      "Epoch 14/1000: train_loss=1.4097, train_accuracy=0.6539, val_loss=1.9941, val_accuracy=0.5214\n",
      "Saved checkpoint for resnet-18-transfer-02. epoch=14, step=19698. train_loss=1.4097, train_accuracy=0.6539, val_loss=1.9941, val_accuracy=0.5214\n"
     ]
    },
    {
     "name": "stderr",
     "output_type": "stream",
     "text": [
      "100%|██████████| 1407/1407 [00:37<00:00, 37.24it/s]\n",
      "100%|██████████| 157/157 [00:01<00:00, 88.42it/s] \n"
     ]
    },
    {
     "name": "stdout",
     "output_type": "stream",
     "text": [
      "Epoch 15/1000: train_loss=1.3121, train_accuracy=0.6777, val_loss=2.0054, val_accuracy=0.5217\n"
     ]
    },
    {
     "name": "stderr",
     "output_type": "stream",
     "text": [
      "100%|██████████| 1407/1407 [00:37<00:00, 37.32it/s]\n",
      "100%|██████████| 157/157 [00:01<00:00, 87.52it/s] \n"
     ]
    },
    {
     "name": "stdout",
     "output_type": "stream",
     "text": [
      "Epoch 16/1000: train_loss=1.2181, train_accuracy=0.7006, val_loss=2.0024, val_accuracy=0.5250\n"
     ]
    },
    {
     "name": "stderr",
     "output_type": "stream",
     "text": [
      "100%|██████████| 1407/1407 [00:36<00:00, 38.71it/s]\n",
      "100%|██████████| 157/157 [00:01<00:00, 95.26it/s] \n"
     ]
    },
    {
     "name": "stdout",
     "output_type": "stream",
     "text": [
      "Epoch 17/1000: train_loss=1.1340, train_accuracy=0.7214, val_loss=2.0072, val_accuracy=0.5217\n"
     ]
    },
    {
     "name": "stderr",
     "output_type": "stream",
     "text": [
      "100%|██████████| 1407/1407 [00:37<00:00, 37.74it/s]\n",
      "100%|██████████| 157/157 [00:01<00:00, 92.16it/s] \n"
     ]
    },
    {
     "name": "stdout",
     "output_type": "stream",
     "text": [
      "Epoch 18/1000: train_loss=1.0443, train_accuracy=0.7442, val_loss=2.0086, val_accuracy=0.5222\n",
      "Loaded model resnet-18-transfer-02 from checkpoint. epoch=14, step=19698. train_loss=1.4097, train_accuracy=0.6539, val_loss=1.9941, val_accuracy=0.5214\n"
     ]
    },
    {
     "data": {
      "image/png": "[encoded data removed]",
      "text/plain": [
       "<Figure size 1200x300 with 2 Axes>"
      ]
     },
     "metadata": {},
     "output_type": "display_data"
    }
   ],
   "source": [
    "hist = model1.train(train_dl, valid_dl, epochs=1000, patience=4, metrics=[utils.metric_accuracy])\n",
    "utils.plot_metrics(hist)"
   ]
  },
  {
   "cell_type": "code",
   "execution_count": 34,
   "metadata": {},
   "outputs": [
    {
     "data": {
      "text/plain": [
       "{'loss': 1.992439828491211, 'accuracy': 0.522}"
      ]
     },
     "execution_count": 34,
     "metadata": {},
     "output_type": "execute_result"
    }
   ],
   "source": [
    "# model1.load_checkpoint()\n",
    "model1.evaluate(test_dl, metrics=[utils.metric_accuracy])"
   ]
  },
  {
   "cell_type": "code",
   "execution_count": 35,
   "metadata": {},
   "outputs": [
    {
     "data": {
      "text/plain": [
       "0.5222"
      ]
     },
     "execution_count": 35,
     "metadata": {},
     "output_type": "execute_result"
    }
   ],
   "source": [
    "def mc_accuracy(model, dataloader, n_samples=10):\n",
    "    model.eval()\n",
    "    def enable_dropout(m):\n",
    "        if type(m) == torch.nn.Dropout:\n",
    "            m.train()\n",
    "\n",
    "    model.apply(enable_dropout)\n",
    "    with torch.no_grad():\n",
    "        correct = 0\n",
    "        total = 0\n",
    "        for x, y_true in dataloader:\n",
    "            x, y_true = x.to(utils.device), y_true.to(utils.device)\n",
    "            predictions = []\n",
    "            for _ in range(n_samples):\n",
    "                y_pred_mc = model(x).argmax(dim=1)\n",
    "                predictions.append(y_pred_mc)\n",
    "            predictions = torch.stack(predictions, dim=1)\n",
    "            y_pred = predictions.mode(dim=1).values\n",
    "            correct += (y_pred == y_true).sum().item()\n",
    "            total += y_pred.size(0)\n",
    "        model.eval()\n",
    "        return correct / total\n",
    "\n",
    "    \n",
    "mc_accuracy(model1.model, test_dl, 100)\n"
   ]
  },
  {
   "cell_type": "code",
   "execution_count": 80,
   "metadata": {},
   "outputs": [
    {
     "data": {
      "text/plain": [
       "tensor([[ 49,  21,  48,  44,  49,  21,  49,  21,  32,  21],\n",
       "        [ 35,  35, 194, 194,  35,  35,  35,  35, 194,  35],\n",
       "        [114,  16,  20,  16,  20,  20,  16,  20, 170,  20],\n",
       "        [ 70,  70, 195, 157, 195,  69,  57,  70,  70,  73],\n",
       "        [ 59, 106,  59,  61,  59, 107, 107, 126, 126, 126],\n",
       "        [ 31,  31,  31,  31,  31, 159, 154,  26,  31,  31],\n",
       "        [196, 196,  12, 137,  73, 137,  36,  32, 196,  36],\n",
       "        [169, 196, 122, 169, 169,  91, 169, 114, 122, 171],\n",
       "        [ 88, 150,  57, 178, 184, 184, 184,  75, 184, 184],\n",
       "        [ 61,  85,  61,  73, 124,  81,  61, 124,  63,  61],\n",
       "        [ 66,  66,  66,  94,  66,  72,  94,  94,  17,  66],\n",
       "        [164,  16,  36,  16,  36,  16,   0,  16,   0,  16],\n",
       "        [187,  24,  24, 129,  44,  23,  24,  24,  23,  24],\n",
       "        [147,  68,  68,  68,  68, 112,  68,  68, 112,  52],\n",
       "        [ 35,  40, 175, 194, 184, 194,  37, 194, 196,  58],\n",
       "        [105, 165, 105, 165, 105, 105, 141, 130, 105,  39],\n",
       "        [168, 168, 174, 168, 168,  27, 168, 184, 168,  11],\n",
       "        [164, 177, 192,  91, 160,  91, 192, 192, 178, 121],\n",
       "        [ 42,  43,  21,  20,  43,  43,  21,  20,  21, 171],\n",
       "        [190,  13,  13, 190, 190, 120, 157, 190, 190, 190],\n",
       "        [111, 110, 120, 120, 110, 110, 110, 110, 120, 110],\n",
       "        [166, 152, 148, 148, 152, 148, 148, 148, 148, 148],\n",
       "        [106, 106, 106, 106, 106, 193, 106,  57, 106, 103],\n",
       "        [180, 180, 180, 180, 181, 180, 180, 180, 180, 195],\n",
       "        [118, 133,  57,  57,  57, 194, 194, 102,  70, 194],\n",
       "        [ 16,  66,  16,  66, 168,  16,  16,  16,  66,  16],\n",
       "        [ 16, 137,  30, 137,  42, 137,  16,  30,  49,  16],\n",
       "        [126, 126, 126, 126, 126, 147, 126, 126,  61, 126],\n",
       "        [141, 161,  12, 161,  88, 148, 161, 148,  37, 161],\n",
       "        [145, 127, 145, 168, 145, 145, 164, 137, 187, 173],\n",
       "        [ 63, 194, 194,  73,  73,  63, 169, 194, 151, 129],\n",
       "        [ 25, 187,  22, 187,  22, 187,  25,  22,  22, 187],\n",
       "        [139, 139, 139, 139, 139, 139, 139, 139, 139, 139],\n",
       "        [ 26,  48,  48,  24,  26,  26,  26,  44,  91,  26],\n",
       "        [198, 198, 195, 195, 195, 195, 198, 195, 196, 195],\n",
       "        [139, 111, 139, 137,  98,  11, 165, 137,  98,  98],\n",
       "        [144, 145, 145, 150, 150, 109, 144,  69, 145, 145],\n",
       "        [137,  98,  98, 126, 101, 117,  29,  98, 126, 117],\n",
       "        [176, 176, 176,   0, 176, 179,   0, 150, 176, 176],\n",
       "        [147, 112, 147, 147, 112, 112, 147, 112, 112, 133],\n",
       "        [  3,   3,   5,   3, 173,   3, 181,   5,   3, 180],\n",
       "        [  6,   6, 105,   6,   6, 138,  72,   6,   6,  72],\n",
       "        [ 43, 187, 187, 187,  43,  43, 187, 187,  43,  43],\n",
       "        [125, 194, 125, 148, 125, 161, 125, 121,  67, 125],\n",
       "        [195, 120,  76, 120, 120, 193, 195,  76,  76,  76],\n",
       "        [114,  76,  76,  42,  42,  42,  42,  76, 114,  76],\n",
       "        [ 76,  76,  67,  76,  76,  76,  76,  76,  76,  76],\n",
       "        [ 81,  81,  31,  48,  63, 164,  48, 164,  24,  24],\n",
       "        [ 48,  48,  79, 186,  30,  30,  30,  79,  37, 174],\n",
       "        [157, 157, 196, 179, 179, 179, 179, 179, 179,  36],\n",
       "        [153,   9, 111,   9, 111,   9,  77, 153,   9,   9],\n",
       "        [  1,   1,   1,   1,   1,   1,   1,   1,   1,   1],\n",
       "        [ 86,  77,  77,  86,  77,  77,  77, 142, 108, 104],\n",
       "        [ 96, 178,  96,   1,  96,   1, 193,   1, 193, 166],\n",
       "        [170,   1,  18,   1,  14,   2, 164,  14, 166, 164],\n",
       "        [197, 197,   1, 197,   1, 197,   1, 197, 197,   1],\n",
       "        [153, 153,  44, 153, 153, 153,  44, 153, 153, 153],\n",
       "        [108,  86, 103, 103, 108, 103, 103, 103,  64,  64],\n",
       "        [ 39,  10,  39,   1,   9,  39,   1,  39,  39,  39],\n",
       "        [ 69,  69,  69,  69,  69,  69, 144,  69,  69,  69],\n",
       "        [113, 150, 134,   1, 134, 134, 134,   1, 150,  54],\n",
       "        [  1,   1,   1,   1,   1,   1,   1,   1,   1,   1],\n",
       "        [197, 186, 110, 166, 166,  19, 116, 110,  67, 110],\n",
       "        [159, 166,  70,  70,  70,  70, 186, 147,  58,  70]], device='cuda:0')"
      ]
     },
     "execution_count": 80,
     "metadata": {},
     "output_type": "execute_result"
    }
   ],
   "source": [
    "x, y_true = next(iter(test_dl))\n",
    "x, y_true = x.to(utils.device), y_true.to(utils.device)\n",
    "y_true = y_true\n",
    "y_pred = None\n",
    "for samples in range(10):\n",
    "    y_pred_mc = model1.model(x)\n",
    "    y_pred_mc = y_pred_mc.argmax(dim=1).unsqueeze(dim=1)\n",
    "    if y_pred is None:\n",
    "        y_pred = y_pred_mc\n",
    "    else:\n",
    "        y_pred = torch.concat([y_pred, y_pred_mc], dim=1)\n",
    "y_pred = y_pred.mode(dim=1).values\n",
    "\n"
   ]
  },
  {
   "cell_type": "code",
   "execution_count": 83,
   "metadata": {},
   "outputs": [],
   "source": [
    "y_pred = y_pred.mode(dim=1).values"
   ]
  },
  {
   "cell_type": "code",
   "execution_count": 87,
   "metadata": {},
   "outputs": [
    {
     "data": {
      "text/plain": [
       "tensor([0, 0, 0, 0, 0, 0, 0, 0, 0, 0, 0, 0, 0, 0, 0, 0, 0, 0, 0, 0, 0, 0, 0, 0,\n",
       "        0, 0, 0, 0, 0, 0, 0, 0, 0, 0, 0, 0, 0, 0, 0, 0, 0, 0, 0, 0, 0, 0, 0, 0,\n",
       "        0, 0, 1, 1, 1, 1, 1, 1, 1, 1, 1, 1, 1, 1, 1, 1], device='cuda:0')"
      ]
     },
     "execution_count": 87,
     "metadata": {},
     "output_type": "execute_result"
    }
   ],
   "source": [
    "# torch.concat([y_pred.unsqueeze(1), y_true.unsqueeze(1)],dim=1)\n",
    "y_true"
   ]
  },
  {
   "cell_type": "code",
   "execution_count": 78,
   "metadata": {},
   "outputs": [
    {
     "name": "stdout",
     "output_type": "stream",
     "text": [
      "tensor([[0, 0, 2, 1, 0, 1, 0, 1, 1, 0],\n",
      "        [1, 0, 0, 1, 2, 1, 2, 0, 1, 0],\n",
      "        [0, 1, 2, 0, 1, 1, 2, 1, 0, 1],\n",
      "        [2, 1, 1, 1, 0, 1, 2, 1, 0, 0],\n",
      "        [2, 0, 1, 0, 2, 2, 0, 0, 1, 2],\n",
      "        [2, 1, 2, 2, 1, 0, 0, 1, 0, 0]])\n",
      "torch.return_types.mode(\n",
      "values=tensor([0, 0, 1, 1, 0, 0]),\n",
      "indices=tensor([9, 9, 9, 7, 7, 9]))\n"
     ]
    },
    {
     "data": {
      "text/plain": [
       "tensor(0)"
      ]
     },
     "execution_count": 78,
     "metadata": {},
     "output_type": "execute_result"
    }
   ],
   "source": [
    "a = torch.randint(3, (6, 10))\n",
    "print(a)\n",
    "print(a.mode(dim=1))\n",
    "torch.sum(a==a - 1)"
   ]
  },
  {
   "cell_type": "code",
   "execution_count": 20,
   "metadata": {},
   "outputs": [
    {
     "name": "stdout",
     "output_type": "stream",
     "text": [
      "Best loss: 1.9436\n"
     ]
    },
    {
     "name": "stderr",
     "output_type": "stream",
     "text": [
      "100%|██████████| 1407/1407 [00:38<00:00, 36.47it/s]\n",
      "100%|██████████| 157/157 [00:01<00:00, 90.32it/s] \n"
     ]
    },
    {
     "name": "stdout",
     "output_type": "stream",
     "text": [
      "Epoch 1/1000: train_loss=0.9958, train_accuracy=0.7613, val_loss=1.8266, val_accuracy=0.5504\n",
      "Saved checkpoint for resnet-18-transfer-01. epoch=3, step=4221. train_loss=0.9958, train_accuracy=0.7613, val_loss=1.8266, val_accuracy=0.5504\n"
     ]
    },
    {
     "name": "stderr",
     "output_type": "stream",
     "text": [
      "100%|██████████| 1407/1407 [00:38<00:00, 36.45it/s]\n",
      "100%|██████████| 157/157 [00:01<00:00, 90.79it/s] \n"
     ]
    },
    {
     "name": "stdout",
     "output_type": "stream",
     "text": [
      "Epoch 2/1000: train_loss=0.8289, train_accuracy=0.8053, val_loss=1.8345, val_accuracy=0.5484\n"
     ]
    },
    {
     "name": "stderr",
     "output_type": "stream",
     "text": [
      "100%|██████████| 1407/1407 [00:38<00:00, 36.87it/s]\n",
      "100%|██████████| 157/157 [00:01<00:00, 85.75it/s]\n"
     ]
    },
    {
     "name": "stdout",
     "output_type": "stream",
     "text": [
      "Epoch 3/1000: train_loss=0.7195, train_accuracy=0.8356, val_loss=1.8377, val_accuracy=0.5520\n"
     ]
    },
    {
     "name": "stderr",
     "output_type": "stream",
     "text": [
      "100%|██████████| 1407/1407 [00:39<00:00, 35.96it/s]\n",
      "100%|██████████| 157/157 [00:01<00:00, 85.45it/s]\n"
     ]
    },
    {
     "name": "stdout",
     "output_type": "stream",
     "text": [
      "Epoch 4/1000: train_loss=0.6249, train_accuracy=0.8630, val_loss=1.8620, val_accuracy=0.5475\n"
     ]
    },
    {
     "name": "stderr",
     "output_type": "stream",
     "text": [
      "100%|██████████| 1407/1407 [00:39<00:00, 35.96it/s]\n",
      "100%|██████████| 157/157 [00:01<00:00, 88.30it/s]\n"
     ]
    },
    {
     "name": "stdout",
     "output_type": "stream",
     "text": [
      "Epoch 5/1000: train_loss=0.5402, train_accuracy=0.8870, val_loss=1.8862, val_accuracy=0.5464\n",
      "Loaded model resnet-18-transfer-01 from checkpoint. epoch=3, step=4221. train_loss=0.9958, train_accuracy=0.7613, val_loss=1.8266, val_accuracy=0.5504\n"
     ]
    },
    {
     "data": {
      "image/png": "[encoded data removed]",
      "text/plain": [
       "<Figure size 1200x300 with 2 Axes>"
      ]
     },
     "metadata": {},
     "output_type": "display_data"
    }
   ],
   "source": [
    "model1.compile(optimizer_cls=torch.optim.Adam, optimizier_args=dict(lr=1e-5, weight_decay=5e-4), loss_fn_cls=torch.nn.CrossEntropyLoss)\n",
    "hist = model1.train(train_dl, valid_dl, epochs=1000, patience=4, metrics=[utils.metric_accuracy])\n",
    "utils.plot_metrics(hist)"
   ]
  },
  {
   "cell_type": "code",
   "execution_count": 22,
   "metadata": {},
   "outputs": [
    {
     "data": {
      "text/plain": [
       "{'loss': 1.8424995349884032, 'accuracy': 0.5477}"
      ]
     },
     "execution_count": 22,
     "metadata": {},
     "output_type": "execute_result"
    }
   ],
   "source": [
    "model1.evaluate(test_dl, metrics=[utils.metric_accuracy])"
   ]
  },
  {
   "cell_type": "markdown",
   "metadata": {},
   "source": [
    "---"
   ]
  },
  {
   "cell_type": "code",
   "execution_count": 14,
   "metadata": {},
   "outputs": [
    {
     "name": "stdout",
     "output_type": "stream",
     "text": [
      "tensor([0])\n",
      "('n01443537', 'goldfish, Carassius auratus')\n"
     ]
    },
    {
     "data": {
      "image/png": "[encoded data removed]",
      "text/plain": [
       "<Figure size 100x100 with 1 Axes>"
      ]
     },
     "metadata": {},
     "output_type": "display_data"
    }
   ],
   "source": [
    "x, y = next(iter(valid_dl))\n",
    "x, y = x[:1], y[:1]\n",
    "\n",
    "fig, ax = plt.subplots(figsize=(1, 1))\n",
    "ax.imshow(np.transpose(x.squeeze(), [1, 2, 0]))\n",
    "print(y)\n",
    "print(classes[y])"
   ]
  },
  {
   "cell_type": "code",
   "execution_count": 15,
   "metadata": {},
   "outputs": [
    {
     "data": {
      "text/plain": [
       "torch.return_types.topk(\n",
       "values=tensor([[3.4151, 3.2630, 2.5056, 1.8423, 1.5935]], device='cuda:0',\n",
       "       grad_fn=<TopkBackward0>),\n",
       "indices=tensor([[43,  0, 42, 28, 14]], device='cuda:0'))"
      ]
     },
     "execution_count": 15,
     "metadata": {},
     "output_type": "execute_result"
    }
   ],
   "source": [
    "model1.model(x.to(utils.device)).topk(5)"
   ]
  },
  {
   "cell_type": "code",
   "execution_count": 16,
   "metadata": {},
   "outputs": [],
   "source": [
    "train_dl, valid_dl, test_dl, classes = utils.make_cifar_dataloaders()"
   ]
  },
  {
   "cell_type": "code",
   "execution_count": 17,
   "metadata": {},
   "outputs": [],
   "source": [
    "# model1 = utils.register_model(\n",
    "#     'resnet-18-transfer-02-cifar', \n",
    "#     ResNet18Transfer(), \n",
    "#     'Transfer learning from ResNet18 by overriding the last fc layer, batch size 64. This time on CIFAR-100.')\n",
    "# model1.setup(optimizer_cls=torch.optim.Adam, optimizer_args=dict(weight_decay=5e-4), loss_fn_cls=torch.nn.CrossEntropyLoss)\n",
    "# print()"
   ]
  }
 ],
 "metadata": {
  "kernelspec": {
   "display_name": "torch",
   "language": "python",
   "name": "python3"
  },
  "language_info": {
   "codemirror_mode": {
    "name": "ipython",
    "version": 3
   },
   "file_extension": ".py",
   "mimetype": "text/x-python",
   "name": "python",
   "nbconvert_exporter": "python",
   "pygments_lexer": "ipython3",
   "version": "3.11.4"
  },
  "orig_nbformat": 4
 },
 "nbformat": 4,
 "nbformat_minor": 2
}
