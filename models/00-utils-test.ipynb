{
 "cells": [
  {
   "cell_type": "code",
   "execution_count": 1,
   "metadata": {},
   "outputs": [],
   "source": [
    "import matplotlib.pyplot as plt\n",
    "\n",
    "import torch\n",
    "import torch.nn.functional as F\n",
    "import utils\n",
    "from importlib import reload\n",
    "reload(utils)\n",
    "utils.set_namespace('00-utils-test')"
   ]
  },
  {
   "cell_type": "code",
   "execution_count": 2,
   "metadata": {},
   "outputs": [
    {
     "name": "stdout",
     "output_type": "stream",
     "text": [
      "Files already downloaded and verified\n",
      "Files already downloaded and verified\n"
     ]
    }
   ],
   "source": [
    "train_dl, valid_dl, test_dl, class_names = utils.make_cifar_dataloaders()"
   ]
  },
  {
   "cell_type": "code",
   "execution_count": 3,
   "metadata": {},
   "outputs": [
    {
     "name": "stdout",
     "output_type": "stream",
     "text": [
      "tulip\n"
     ]
    },
    {
     "data": {
      "image/png": "[encoded data removed]",
      "text/plain": [
       "<Figure size 50x50 with 1 Axes>"
      ]
     },
     "metadata": {},
     "output_type": "display_data"
    }
   ],
   "source": [
    "img, label = next(iter(test_dl))\n",
    "id = 5\n",
    "img = img[id].numpy().transpose([1,2,0])\n",
    "fig, ax = plt.subplots(figsize=(0.5,0.5))\n",
    "ax.imshow(img)\n",
    "print(class_names[label[id]])\n",
    "display()"
   ]
  },
  {
   "cell_type": "code",
   "execution_count": 4,
   "metadata": {},
   "outputs": [],
   "source": [
    "class TestNetwork(torch.nn.Module):\n",
    "    def __init__(self, class_num):\n",
    "        super().__init__()\n",
    "        self.backbone = torch.nn.Sequential(\n",
    "            torch.nn.Conv2d(in_channels=3, out_channels=16, kernel_size=3),\n",
    "            torch.nn.ReLU(),\n",
    "            torch.nn.AdaptiveAvgPool2d(output_size=1),\n",
    "        )\n",
    "        self.head = torch.nn.Linear(in_features=16, out_features=class_num)\n",
    "\n",
    "    def forward(self, x: torch.Tensor):\n",
    "        x = self.backbone(x)\n",
    "        x = x.view(-1, 16)\n",
    "        x = self.head(x)\n",
    "        return x"
   ]
  },
  {
   "cell_type": "code",
   "execution_count": 5,
   "metadata": {},
   "outputs": [
    {
     "name": "stdout",
     "output_type": "stream",
     "text": [
      "Loaded model cifar-model from checkpoint. epoch=10, step=7040. train_loss=4.1746, train_accuracy=0.0654, val_loss=4.1634, val_accuracy=0.0704\n",
      "cifar-model registered.\n",
      "Trainable params: 2.15 k. Untrainable params: 0.00. Buffers: 0.00.\n",
      "Skipped compilation\n"
     ]
    },
    {
     "data": {
      "text/plain": [
       "TestNetwork(\n",
       "  (backbone): Sequential(\n",
       "    (0): Conv2d(3, 16, kernel_size=(3, 3), stride=(1, 1))\n",
       "    (1): ReLU()\n",
       "    (2): AdaptiveAvgPool2d(output_size=1)\n",
       "  )\n",
       "  (head): Linear(in_features=16, out_features=100, bias=True)\n",
       ")"
      ]
     },
     "execution_count": 5,
     "metadata": {},
     "output_type": "execute_result"
    }
   ],
   "source": [
    "cifar_model = utils.register_model('cifar-model', TestNetwork(100), 'Testing CIFAR-100')\n",
    "cifar_model.setup(optimizer_cls=torch.optim.Adam, loss_fn_cls=torch.nn.CrossEntropyLoss)"
   ]
  },
  {
   "cell_type": "code",
   "execution_count": 6,
   "metadata": {},
   "outputs": [
    {
     "name": "stdout",
     "output_type": "stream",
     "text": [
      "Best loss: 4.1792\n"
     ]
    },
    {
     "name": "stderr",
     "output_type": "stream",
     "text": [
      "100%|██████████| 704/704 [00:03<00:00, 224.95it/s]\n",
      "100%|██████████| 79/79 [00:00<00:00, 226.85it/s]\n"
     ]
    },
    {
     "name": "stdout",
     "output_type": "stream",
     "text": [
      "Epoch 1/2: train_loss=4.1641, train_accuracy=0.0655, val_loss=4.1700, val_accuracy=0.0660\n",
      "Saved checkpoint for cifar-model. epoch=11, step=7744. train_loss=4.1641, train_accuracy=0.0655, val_loss=4.1700, val_accuracy=0.0660\n"
     ]
    },
    {
     "name": "stderr",
     "output_type": "stream",
     "text": [
      "100%|██████████| 704/704 [00:02<00:00, 236.92it/s]\n",
      "100%|██████████| 79/79 [00:00<00:00, 236.11it/s]"
     ]
    },
    {
     "name": "stdout",
     "output_type": "stream",
     "text": [
      "Epoch 2/2: train_loss=4.1559, train_accuracy=0.0686, val_loss=4.1645, val_accuracy=0.0694\n",
      "Saved checkpoint for cifar-model. epoch=12, step=8448. train_loss=4.1559, train_accuracy=0.0686, val_loss=4.1645, val_accuracy=0.0694\n",
      "Loaded model cifar-model from checkpoint. epoch=12, step=8448. train_loss=4.1559, train_accuracy=0.0686, val_loss=4.1645, val_accuracy=0.0694\n"
     ]
    },
    {
     "name": "stderr",
     "output_type": "stream",
     "text": [
      "\n"
     ]
    },
    {
     "data": {
      "text/plain": [
       "defaultdict(<function utils.ModelLifecycle.train.<locals>.<lambda>()>,\n",
       "            {'epoch': [11, 12],\n",
       "             'train_loss': [4.164147049797906, 4.15586457540724],\n",
       "             'train_accuracy': [0.06553333333333333, 0.06855555555555555],\n",
       "             'val_loss': [4.170028779983521, 4.164532174301147],\n",
       "             'val_accuracy': [0.066, 0.0694]})"
      ]
     },
     "execution_count": 6,
     "metadata": {},
     "output_type": "execute_result"
    }
   ],
   "source": [
    "cifar_model.train(train_dl, valid_dl, epochs=2, metrics=[utils.metric_accuracy])"
   ]
  },
  {
   "cell_type": "code",
   "execution_count": 103,
   "metadata": {},
   "outputs": [
    {
     "data": {
      "text/plain": [
       "{'loss': 4.334405844116211, 'accuracy': 0.0339}"
      ]
     },
     "execution_count": 103,
     "metadata": {},
     "output_type": "execute_result"
    }
   ],
   "source": [
    "cifar_model.evaluate(test_dl, metrics=[utils.metric_accuracy])"
   ]
  },
  {
   "cell_type": "code",
   "execution_count": 104,
   "metadata": {},
   "outputs": [
    {
     "name": "stdout",
     "output_type": "stream",
     "text": [
      "90000 10000 10000\n"
     ]
    }
   ],
   "source": [
    "train_dl, valid_dl, test_dl = utils.make_tiny_imagenet_dataloaders()\n",
    "print(len(train_dl.dataset), len(valid_dl.dataset), len(test_dl.dataset))"
   ]
  },
  {
   "cell_type": "code",
   "execution_count": 105,
   "metadata": {},
   "outputs": [
    {
     "data": {
      "text/plain": [
       "(tensor([0.4802, 0.4479, 0.3973]), tensor([0.2766, 0.2690, 0.2817]))"
      ]
     },
     "execution_count": 105,
     "metadata": {},
     "output_type": "execute_result"
    }
   ],
   "source": [
    "sum_pixels = torch.zeros(3)\n",
    "sum_squared_pixels = torch.zeros(3)\n",
    "total_pixels = 0\n",
    "\n",
    "for images, _ in train_dl:\n",
    "    for i in range(3):  # for each channel\n",
    "        sum_pixels[i] += images[:, i, :, :].sum()\n",
    "        sum_squared_pixels[i] += (images[:, i, :, :]**2).sum()\n",
    "\n",
    "    total_pixels += torch.numel(images[:, 0, :, :])  # increment by the number of pixels in a batch\n",
    "\n",
    "# Compute mean and standard deviation\n",
    "mean = sum_pixels / total_pixels\n",
    "std = torch.sqrt((sum_squared_pixels / total_pixels) - (mean**2))\n",
    "\n",
    "mean, std"
   ]
  },
  {
   "cell_type": "code",
   "execution_count": 106,
   "metadata": {},
   "outputs": [
    {
     "data": {
      "image/png": "[encoded data removed]",
      "text/plain": [
       "<Figure size 100x100 with 1 Axes>"
      ]
     },
     "metadata": {},
     "output_type": "display_data"
    }
   ],
   "source": [
    "img, label = next(iter(test_dl))\n",
    "id = 5\n",
    "img = img[id].numpy().transpose([1,2,0])\n",
    "fig, ax = plt.subplots(figsize=(1,1))\n",
    "ax.imshow(img)\n",
    "display()"
   ]
  },
  {
   "cell_type": "code",
   "execution_count": 107,
   "metadata": {},
   "outputs": [
    {
     "name": "stderr",
     "output_type": "stream",
     "text": [
      "Clipping input data to the valid range for imshow with RGB data ([0..1] for floats or [0..255] for integers).\n"
     ]
    },
    {
     "data": {
      "image/png": "[encoded data removed]",
      "text/plain": [
       "<Figure size 100x100 with 1 Axes>"
      ]
     },
     "metadata": {},
     "output_type": "display_data"
    }
   ],
   "source": [
    "train_dl, valid_dl, test_dl = utils.make_tiny_imagenet_dataloaders(normalize=True)\n",
    "img, label = next(iter(test_dl))\n",
    "id = 5\n",
    "img = img[id].numpy().transpose([1,2,0])\n",
    "fig, ax = plt.subplots(figsize=(1,1))\n",
    "ax.imshow(img)\n",
    "display()"
   ]
  },
  {
   "cell_type": "code",
   "execution_count": 108,
   "metadata": {},
   "outputs": [
    {
     "data": {
      "image/png": "[encoded data removed]",
      "text/plain": [
       "<Figure size 100x100 with 1 Axes>"
      ]
     },
     "metadata": {},
     "output_type": "display_data"
    }
   ],
   "source": [
    "train_dl, valid_dl, test_dl = utils.make_tiny_imagenet_dataloaders(augment=True)\n",
    "img, label = next(iter(train_dl))\n",
    "id = 5\n",
    "img = img[id].numpy().transpose([1,2,0])\n",
    "fig, ax = plt.subplots(figsize=(1,1))\n",
    "ax.imshow(img)\n",
    "display()"
   ]
  },
  {
   "cell_type": "code",
   "execution_count": 113,
   "metadata": {},
   "outputs": [
    {
     "name": "stdout",
     "output_type": "stream",
     "text": [
      "tiny-image-model loaded from memory.\n",
      "Trainable params: 3.85 k. Untrainable params: 0.00. Buffers: 0.00.\n",
      "Skipped compilation\n"
     ]
    },
    {
     "data": {
      "text/plain": [
       "TestNetwork(\n",
       "  (backbone): Sequential(\n",
       "    (0): Conv2d(3, 16, kernel_size=(3, 3), stride=(1, 1))\n",
       "    (1): ReLU()\n",
       "    (2): AdaptiveAvgPool2d(output_size=1)\n",
       "  )\n",
       "  (head): Linear(in_features=16, out_features=200, bias=True)\n",
       ")"
      ]
     },
     "execution_count": 113,
     "metadata": {},
     "output_type": "execute_result"
    }
   ],
   "source": [
    "tiny_imagenet_model = utils.register_model('tiny-image-model', TestNetwork(200))\n",
    "tiny_imagenet_model.setup(optimizer_cls=torch.optim.Adam, optimizer_args={'lr': 1e-4}, loss_fn_cls=torch.nn.CrossEntropyLoss)"
   ]
  },
  {
   "cell_type": "code",
   "execution_count": 115,
   "metadata": {},
   "outputs": [
    {
     "name": "stdout",
     "output_type": "stream",
     "text": [
      "Best loss: 5.2940\n"
     ]
    },
    {
     "name": "stderr",
     "output_type": "stream",
     "text": [
      "100%|██████████| 1407/1407 [00:22<00:00, 63.29it/s]\n",
      "100%|██████████| 157/157 [00:01<00:00, 125.45it/s]\n"
     ]
    },
    {
     "name": "stdout",
     "output_type": "stream",
     "text": [
      "Epoch 1/2: train_loss=5.2899, train_accuracy=0.0105, val_loss=5.2801, val_accuracy=0.0120\n",
      "Saved checkpoint for tiny-image-model. epoch=3, step=4221. train_loss=5.289900, train_accuracy=0.010456, val_loss=5.280141, val_accuracy=0.012000\n"
     ]
    },
    {
     "name": "stderr",
     "output_type": "stream",
     "text": [
      "100%|██████████| 1407/1407 [00:22<00:00, 63.55it/s]\n",
      "100%|██████████| 157/157 [00:01<00:00, 154.67it/s]"
     ]
    },
    {
     "name": "stdout",
     "output_type": "stream",
     "text": [
      "Epoch 2/2: train_loss=5.2773, train_accuracy=0.0121, val_loss=5.2643, val_accuracy=0.0119\n",
      "Saved checkpoint for tiny-image-model. epoch=4, step=5628. train_loss=5.277312, train_accuracy=0.012111, val_loss=5.264268, val_accuracy=0.011900\n",
      "Loaded model tiny-image-model from checkpoint. epoch=4, step=5628. train_loss=5.277312, train_accuracy=0.012111, val_loss=5.264268, val_accuracy=0.011900\n"
     ]
    },
    {
     "name": "stderr",
     "output_type": "stream",
     "text": [
      "\n"
     ]
    },
    {
     "data": {
      "text/plain": [
       "defaultdict(<function utils.ModelLifecycle.train.<locals>.<lambda>()>,\n",
       "            {'epoch': [3, 4],\n",
       "             'train_loss': [5.289900268215603, 5.277312267812093],\n",
       "             'train_accuracy': [0.010455555555555555, 0.01211111111111111],\n",
       "             'val_loss': [5.280140902709961, 5.264268253326416],\n",
       "             'val_accuracy': [0.012, 0.0119]})"
      ]
     },
     "execution_count": 115,
     "metadata": {},
     "output_type": "execute_result"
    }
   ],
   "source": [
    "tiny_imagenet_model.train(train_dl, valid_dl, metrics=[utils.metric_accuracy], epochs=2)"
   ]
  },
  {
   "cell_type": "code",
   "execution_count": 117,
   "metadata": {},
   "outputs": [
    {
     "data": {
      "text/plain": [
       "{'loss': 5.263682795715332, 'accuracy': 0.0115}"
      ]
     },
     "execution_count": 117,
     "metadata": {},
     "output_type": "execute_result"
    }
   ],
   "source": [
    "tiny_imagenet_model.evaluate(test_dl, metrics=[utils.metric_accuracy])"
   ]
  }
 ],
 "metadata": {
  "kernelspec": {
   "display_name": "torch",
   "language": "python",
   "name": "python3"
  },
  "language_info": {
   "codemirror_mode": {
    "name": "ipython",
    "version": 3
   },
   "file_extension": ".py",
   "mimetype": "text/x-python",
   "name": "python",
   "nbconvert_exporter": "python",
   "pygments_lexer": "ipython3",
   "version": "3.11.4"
  },
  "orig_nbformat": 4
 },
 "nbformat": 4,
 "nbformat_minor": 2
}
