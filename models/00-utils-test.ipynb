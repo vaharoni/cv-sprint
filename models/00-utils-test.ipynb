{
 "cells": [
  {
   "cell_type": "code",
   "execution_count": 22,
   "metadata": {},
   "outputs": [
    {
     "data": {
      "text/plain": [
       "<module 'utils' from '/home/amitaharoni/workspace/cv-sprint/models/utils.py'>"
      ]
     },
     "execution_count": 22,
     "metadata": {},
     "output_type": "execute_result"
    }
   ],
   "source": [
    "import torch\n",
    "import torch.nn.functional as F\n",
    "import utils\n",
    "from importlib import reload\n",
    "reload(utils)"
   ]
  },
  {
   "cell_type": "code",
   "execution_count": 2,
   "metadata": {},
   "outputs": [
    {
     "name": "stdout",
     "output_type": "stream",
     "text": [
      "Files already downloaded and verified\n",
      "Files already downloaded and verified\n"
     ]
    }
   ],
   "source": [
    "train_dl, valid_dl, test_dl = utils.make_dataloaders()"
   ]
  },
  {
   "cell_type": "code",
   "execution_count": 3,
   "metadata": {},
   "outputs": [],
   "source": [
    "class TestNetwork(torch.nn.Module):\n",
    "    def __init__(self):\n",
    "        super().__init__()\n",
    "        self.backbone = torch.nn.Sequential(\n",
    "            torch.nn.Conv2d(in_channels=3, out_channels=16, kernel_size=3),\n",
    "            torch.nn.ReLU(),\n",
    "            torch.nn.AdaptiveAvgPool2d(output_size=1),\n",
    "        )\n",
    "        self.head = torch.nn.Linear(in_features=16, out_features=100)\n",
    "\n",
    "    def forward(self, x: torch.Tensor):\n",
    "        x = self.backbone(x)\n",
    "        x = x.view(-1, 16)\n",
    "        x = self.head(x)\n",
    "        return x\n",
    "    \n",
    "model = TestNetwork().to(utils.device)"
   ]
  },
  {
   "cell_type": "code",
   "execution_count": 4,
   "metadata": {},
   "outputs": [
    {
     "data": {
      "text/plain": [
       "TestNetwork(\n",
       "  (backbone): Sequential(\n",
       "    (0): Conv2d(3, 16, kernel_size=(3, 3), stride=(1, 1))\n",
       "    (1): ReLU()\n",
       "    (2): AdaptiveAvgPool2d(output_size=1)\n",
       "  )\n",
       "  (head): Linear(in_features=16, out_features=100, bias=True)\n",
       ")"
      ]
     },
     "execution_count": 4,
     "metadata": {},
     "output_type": "execute_result"
    }
   ],
   "source": [
    "model"
   ]
  },
  {
   "cell_type": "code",
   "execution_count": 23,
   "metadata": {},
   "outputs": [
    {
     "name": "stderr",
     "output_type": "stream",
     "text": [
      "100%|██████████| 1407/1407 [00:09<00:00, 155.62it/s]\n",
      "100%|██████████| 157/157 [00:00<00:00, 195.27it/s]\n"
     ]
    },
    {
     "name": "stdout",
     "output_type": "stream",
     "text": [
      "Epoch 1/10: train_loss=4.1003, train_accuracy=0.0770, val_loss=4.1009, val_accuracy=0.0826\n",
      "loss train\n",
      "accuracy train\n",
      "loss val\n",
      "accuracy val\n"
     ]
    },
    {
     "name": "stderr",
     "output_type": "stream",
     "text": [
      "100%|██████████| 1407/1407 [00:09<00:00, 154.36it/s]\n",
      "100%|██████████| 157/157 [00:00<00:00, 175.27it/s]\n"
     ]
    },
    {
     "name": "stdout",
     "output_type": "stream",
     "text": [
      "Epoch 2/10: train_loss=4.0874, train_accuracy=0.0779, val_loss=4.0931, val_accuracy=0.0838\n",
      "loss train\n",
      "accuracy train\n",
      "loss val\n",
      "accuracy val\n"
     ]
    },
    {
     "name": "stderr",
     "output_type": "stream",
     "text": [
      "100%|██████████| 1407/1407 [00:08<00:00, 170.98it/s]\n",
      "100%|██████████| 157/157 [00:00<00:00, 204.40it/s]\n"
     ]
    },
    {
     "name": "stdout",
     "output_type": "stream",
     "text": [
      "Epoch 3/10: train_loss=4.0755, train_accuracy=0.0818, val_loss=4.0774, val_accuracy=0.0926\n",
      "loss train\n",
      "accuracy train\n",
      "loss val\n",
      "accuracy val\n"
     ]
    },
    {
     "name": "stderr",
     "output_type": "stream",
     "text": [
      "100%|██████████| 1407/1407 [00:08<00:00, 156.90it/s]\n",
      "100%|██████████| 157/157 [00:00<00:00, 186.41it/s]\n"
     ]
    },
    {
     "name": "stdout",
     "output_type": "stream",
     "text": [
      "Epoch 4/10: train_loss=4.0642, train_accuracy=0.0830, val_loss=4.0730, val_accuracy=0.0868\n",
      "loss train\n",
      "accuracy train\n",
      "loss val\n",
      "accuracy val\n"
     ]
    },
    {
     "name": "stderr",
     "output_type": "stream",
     "text": [
      "100%|██████████| 1407/1407 [00:08<00:00, 158.44it/s]\n",
      "100%|██████████| 157/157 [00:00<00:00, 253.28it/s]\n"
     ]
    },
    {
     "name": "stdout",
     "output_type": "stream",
     "text": [
      "Epoch 5/10: train_loss=4.0542, train_accuracy=0.0841, val_loss=4.0658, val_accuracy=0.0888\n",
      "loss train\n",
      "accuracy train\n",
      "loss val\n",
      "accuracy val\n"
     ]
    },
    {
     "name": "stderr",
     "output_type": "stream",
     "text": [
      "100%|██████████| 1407/1407 [00:07<00:00, 178.24it/s]\n",
      "100%|██████████| 157/157 [00:00<00:00, 185.13it/s]\n"
     ]
    },
    {
     "name": "stdout",
     "output_type": "stream",
     "text": [
      "Epoch 6/10: train_loss=4.0440, train_accuracy=0.0861, val_loss=4.0570, val_accuracy=0.0856\n",
      "loss train\n",
      "accuracy train\n",
      "loss val\n",
      "accuracy val\n"
     ]
    },
    {
     "name": "stderr",
     "output_type": "stream",
     "text": [
      "100%|██████████| 1407/1407 [00:07<00:00, 190.73it/s]\n",
      "100%|██████████| 157/157 [00:00<00:00, 201.52it/s]\n"
     ]
    },
    {
     "name": "stdout",
     "output_type": "stream",
     "text": [
      "Epoch 7/10: train_loss=4.0365, train_accuracy=0.0874, val_loss=4.0501, val_accuracy=0.0916\n",
      "loss train\n",
      "accuracy train\n",
      "loss val\n",
      "accuracy val\n"
     ]
    },
    {
     "name": "stderr",
     "output_type": "stream",
     "text": [
      "100%|██████████| 1407/1407 [00:07<00:00, 181.85it/s]\n",
      "100%|██████████| 157/157 [00:00<00:00, 185.76it/s]\n"
     ]
    },
    {
     "name": "stdout",
     "output_type": "stream",
     "text": [
      "Epoch 8/10: train_loss=4.0285, train_accuracy=0.0880, val_loss=4.0397, val_accuracy=0.0912\n",
      "loss train\n",
      "accuracy train\n",
      "loss val\n",
      "accuracy val\n"
     ]
    },
    {
     "name": "stderr",
     "output_type": "stream",
     "text": [
      "100%|██████████| 1407/1407 [00:07<00:00, 180.28it/s]\n",
      "100%|██████████| 157/157 [00:00<00:00, 261.59it/s]\n"
     ]
    },
    {
     "name": "stdout",
     "output_type": "stream",
     "text": [
      "Epoch 9/10: train_loss=4.0209, train_accuracy=0.0891, val_loss=4.0362, val_accuracy=0.0936\n",
      "loss train\n",
      "accuracy train\n",
      "loss val\n",
      "accuracy val\n"
     ]
    },
    {
     "name": "stderr",
     "output_type": "stream",
     "text": [
      "100%|██████████| 1407/1407 [00:08<00:00, 174.81it/s]\n",
      "100%|██████████| 157/157 [00:00<00:00, 201.81it/s]"
     ]
    },
    {
     "name": "stdout",
     "output_type": "stream",
     "text": [
      "Epoch 10/10: train_loss=4.0151, train_accuracy=0.0888, val_loss=4.0321, val_accuracy=0.0950\n",
      "loss train\n",
      "accuracy train\n",
      "loss val\n",
      "accuracy val\n"
     ]
    },
    {
     "name": "stderr",
     "output_type": "stream",
     "text": [
      "\n"
     ]
    },
    {
     "data": {
      "text/plain": [
       "TestNetwork(\n",
       "  (backbone): Sequential(\n",
       "    (0): Conv2d(3, 16, kernel_size=(3, 3), stride=(1, 1))\n",
       "    (1): ReLU()\n",
       "    (2): AdaptiveAvgPool2d(output_size=1)\n",
       "  )\n",
       "  (head): Linear(in_features=16, out_features=100, bias=True)\n",
       ")"
      ]
     },
     "execution_count": 23,
     "metadata": {},
     "output_type": "execute_result"
    }
   ],
   "source": [
    "loss_fn = torch.nn.CrossEntropyLoss()\n",
    "optimizer = torch.optim.Adam(model.parameters())\n",
    "utils.train_model(model, train_dl, valid_dl, loss_fn, optimizer, tensorboard_dir='../runs/00_silly', metrics=[utils.metric_accuracy])"
   ]
  },
  {
   "cell_type": "code",
   "execution_count": 24,
   "metadata": {},
   "outputs": [
    {
     "data": {
      "text/plain": [
       "{'loss': 4.024030772018433, 'accuracy': 0.0923}"
      ]
     },
     "execution_count": 24,
     "metadata": {},
     "output_type": "execute_result"
    }
   ],
   "source": [
    "utils.evaluate_model(model, test_dl, loss_fn, metrics=[utils.metric_accuracy])"
   ]
  }
 ],
 "metadata": {
  "kernelspec": {
   "display_name": "torch",
   "language": "python",
   "name": "python3"
  },
  "language_info": {
   "codemirror_mode": {
    "name": "ipython",
    "version": 3
   },
   "file_extension": ".py",
   "mimetype": "text/x-python",
   "name": "python",
   "nbconvert_exporter": "python",
   "pygments_lexer": "ipython3",
   "version": "3.11.4"
  },
  "orig_nbformat": 4
 },
 "nbformat": 4,
 "nbformat_minor": 2
}
