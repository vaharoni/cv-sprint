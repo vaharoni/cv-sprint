{
 "cells": [
  {
   "cell_type": "markdown",
   "metadata": {},
   "source": [
    "# Setup"
   ]
  },
  {
   "cell_type": "code",
   "execution_count": null,
   "metadata": {},
   "outputs": [],
   "source": [
    "import torch\n",
    "from torch import nn\n",
    "import train\n",
    "import utils\n",
    "from importlib import reload\n",
    "reload(train)\n",
    "\n",
    "train.set_namespace('05-resnet-03')"
   ]
  },
  {
   "cell_type": "code",
   "execution_count": null,
   "metadata": {},
   "outputs": [],
   "source": [
    "train_dl, test_dl, classes = utils.make_cifar_dataloaders_without_validation()"
   ]
  },
  {
   "cell_type": "code",
   "execution_count": null,
   "metadata": {},
   "outputs": [],
   "source": [
    "class BasicBlock(nn.Module):\n",
    "    \"\"\"Basic Block for resnet 18 and resnet 34\n",
    "\n",
    "    \"\"\"\n",
    "\n",
    "    #BasicBlock and BottleNeck block\n",
    "    #have different output size\n",
    "    #we use class attribute expansion\n",
    "    #to distinct\n",
    "    expansion = 1\n",
    "\n",
    "    def __init__(self, in_channels, out_channels, stride=1):\n",
    "        super().__init__()\n",
    "\n",
    "        #residual function\n",
    "        self.residual_function = nn.Sequential(\n",
    "            nn.Conv2d(in_channels, out_channels, kernel_size=3, stride=stride, padding=1, bias=False),\n",
    "            nn.BatchNorm2d(out_channels),\n",
    "            nn.ReLU(inplace=True),\n",
    "            nn.Conv2d(out_channels, out_channels * BasicBlock.expansion, kernel_size=3, padding=1, bias=False),\n",
    "            nn.BatchNorm2d(out_channels * BasicBlock.expansion)\n",
    "        )\n",
    "\n",
    "        #shortcut\n",
    "        self.shortcut = nn.Sequential()\n",
    "\n",
    "        #the shortcut output dimension is not the same with residual function\n",
    "        #use 1*1 convolution to match the dimension\n",
    "        if stride != 1 or in_channels != BasicBlock.expansion * out_channels:\n",
    "            self.shortcut = nn.Sequential(\n",
    "                nn.Conv2d(in_channels, out_channels * BasicBlock.expansion, kernel_size=1, stride=stride, bias=False),\n",
    "                nn.BatchNorm2d(out_channels * BasicBlock.expansion)\n",
    "            )\n",
    "\n",
    "    def forward(self, x):\n",
    "        return nn.ReLU(inplace=True)(self.residual_function(x) + self.shortcut(x))\n",
    "\n",
    "class BottleNeck(nn.Module):\n",
    "    \"\"\"Residual block for resnet over 50 layers\n",
    "\n",
    "    \"\"\"\n",
    "    expansion = 4\n",
    "    def __init__(self, in_channels, out_channels, stride=1):\n",
    "        super().__init__()\n",
    "        self.residual_function = nn.Sequential(\n",
    "            nn.Conv2d(in_channels, out_channels, kernel_size=1, bias=False),\n",
    "            nn.BatchNorm2d(out_channels),\n",
    "            nn.ReLU(inplace=True),\n",
    "            nn.Conv2d(out_channels, out_channels, stride=stride, kernel_size=3, padding=1, bias=False),\n",
    "            nn.BatchNorm2d(out_channels),\n",
    "            nn.ReLU(inplace=True),\n",
    "            nn.Conv2d(out_channels, out_channels * BottleNeck.expansion, kernel_size=1, bias=False),\n",
    "            nn.BatchNorm2d(out_channels * BottleNeck.expansion),\n",
    "        )\n",
    "\n",
    "        self.shortcut = nn.Sequential()\n",
    "\n",
    "        if stride != 1 or in_channels != out_channels * BottleNeck.expansion:\n",
    "            self.shortcut = nn.Sequential(\n",
    "                nn.Conv2d(in_channels, out_channels * BottleNeck.expansion, stride=stride, kernel_size=1, bias=False),\n",
    "                nn.BatchNorm2d(out_channels * BottleNeck.expansion)\n",
    "            )\n",
    "\n",
    "    def forward(self, x):\n",
    "        return nn.ReLU(inplace=True)(self.residual_function(x) + self.shortcut(x))\n",
    "\n",
    "class ResNet(nn.Module):\n",
    "\n",
    "    def __init__(self, block, num_block, num_classes=100):\n",
    "        super().__init__()\n",
    "\n",
    "        self.in_channels = 64\n",
    "\n",
    "        self.conv1 = nn.Sequential(\n",
    "            nn.Conv2d(3, 64, kernel_size=3, padding=1, bias=False),\n",
    "            nn.BatchNorm2d(64),\n",
    "            nn.ReLU(inplace=True))\n",
    "        #we use a different inputsize than the original paper\n",
    "        #so conv2_x's stride is 1\n",
    "        self.conv2_x = self._make_layer(block, 64, num_block[0], 1)\n",
    "        self.conv3_x = self._make_layer(block, 128, num_block[1], 2)\n",
    "        self.conv4_x = self._make_layer(block, 256, num_block[2], 2)\n",
    "        self.conv5_x = self._make_layer(block, 512, num_block[3], 2)\n",
    "        self.avg_pool = nn.AdaptiveAvgPool2d((1, 1))\n",
    "        self.fc = nn.Linear(512 * block.expansion, num_classes)\n",
    "\n",
    "    def _make_layer(self, block, out_channels, num_blocks, stride):\n",
    "        \"\"\"make resnet layers(by layer i didnt mean this 'layer' was the\n",
    "        same as a neuron netowork layer, ex. conv layer), one layer may\n",
    "        contain more than one residual block\n",
    "\n",
    "        Args:\n",
    "            block: block type, basic block or bottle neck block\n",
    "            out_channels: output depth channel number of this layer\n",
    "            num_blocks: how many blocks per layer\n",
    "            stride: the stride of the first block of this layer\n",
    "\n",
    "        Return:\n",
    "            return a resnet layer\n",
    "        \"\"\"\n",
    "\n",
    "        # we have num_block blocks per layer, the first block\n",
    "        # could be 1 or 2, other blocks would always be 1\n",
    "        strides = [stride] + [1] * (num_blocks - 1)\n",
    "        layers = []\n",
    "        for stride in strides:\n",
    "            layers.append(block(self.in_channels, out_channels, stride))\n",
    "            self.in_channels = out_channels * block.expansion\n",
    "\n",
    "        return nn.Sequential(*layers)\n",
    "\n",
    "    def forward(self, x):\n",
    "        output = self.conv1(x)\n",
    "        output = self.conv2_x(output)\n",
    "        output = self.conv3_x(output)\n",
    "        output = self.conv4_x(output)\n",
    "        output = self.conv5_x(output)\n",
    "        output = self.avg_pool(output)\n",
    "        output = output.view(output.size(0), -1)\n",
    "        output = self.fc(output)\n",
    "\n",
    "        return output\n",
    "\n",
    "def resnet18():\n",
    "    \"\"\" return a ResNet 18 object\n",
    "    \"\"\"\n",
    "    return ResNet(BasicBlock, [2, 2, 2, 2])"
   ]
  },
  {
   "cell_type": "markdown",
   "metadata": {},
   "source": [
    "# Model 1"
   ]
  },
  {
   "cell_type": "code",
   "execution_count": null,
   "metadata": {},
   "outputs": [],
   "source": [
    "model1 = train.Model('resnet-18-01', resnet18(), '40 Adam + 40 SGD')"
   ]
  },
  {
   "cell_type": "code",
   "execution_count": null,
   "metadata": {},
   "outputs": [],
   "source": [
    "with model1.checkpoint(1, '40 Adam without load_best') as cp:\n",
    "    cp.setup(\n",
    "        loss_cls=torch.nn.CrossEntropyLoss, \n",
    "        optimizer_cls=torch.optim.Adam,\n",
    "        optimizer_args=dict(lr=5e-4, weight_decay=5e-4),\n",
    "        epoch_scheduler_cls=torch.optim.lr_scheduler.StepLR, \n",
    "        epoch_scheduler_args=dict(step_size=10, gamma=0.2)\n",
    "    )\n",
    "    cp.train(train_dl, test_dl, watch='accuracy', load_best=False, epochs=40, metrics=[train.metric_accuracy])\n",
    "    cp.plot_metrics()\n"
   ]
  },
  {
   "cell_type": "code",
   "execution_count": null,
   "metadata": {},
   "outputs": [],
   "source": [
    "model1.load_checkpoint(1, from_backup=True)"
   ]
  },
  {
   "cell_type": "markdown",
   "metadata": {},
   "source": [
    "# Model 1: SGD equivalent"
   ]
  },
  {
   "cell_type": "code",
   "execution_count": null,
   "metadata": {},
   "outputs": [],
   "source": [
    "model1_1 = train.Model('resnet-18-01-01', resnet18(), '40 SGD')"
   ]
  },
  {
   "cell_type": "code",
   "execution_count": null,
   "metadata": {},
   "outputs": [],
   "source": [
    "with model1_1.checkpoint(1, '40 SGD') as cp:\n",
    "    cp.setup(\n",
    "        loss_cls=torch.nn.CrossEntropyLoss, \n",
    "        optimizer_cls=torch.optim.SGD,\n",
    "        optimizer_args=dict(lr=0.1, weight_decay=5e-4, momentum=0.9),\n",
    "        epoch_scheduler_cls=torch.optim.lr_scheduler.StepLR, \n",
    "        epoch_scheduler_args=dict(step_size=10, gamma=0.2)\n",
    "    )\n",
    "    cp.train(train_dl, test_dl, watch='accuracy', load_best=False, epochs=40, metrics=[train.metric_accuracy])\n",
    "    cp.plot_metrics()\n"
   ]
  },
  {
   "cell_type": "code",
   "execution_count": null,
   "metadata": {},
   "outputs": [],
   "source": [
    "with model1_1.checkpoint(2, '40 more SGD') as cp:\n",
    "    cp.train(train_dl, test_dl, watch='accuracy', load_best=False, epochs=40, metrics=[train.metric_accuracy])\n",
    "    cp.plot_metrics()\n"
   ]
  },
  {
   "cell_type": "code",
   "execution_count": null,
   "metadata": {},
   "outputs": [],
   "source": [
    "model1_1.load_checkpoint(1, from_backup=True)"
   ]
  },
  {
   "cell_type": "code",
   "execution_count": null,
   "metadata": {},
   "outputs": [],
   "source": [
    "import numpy as np\n",
    "import matplotlib.pyplot as plt\n",
    "\n",
    "def one_cycle_schedule(total_steps, max_lr, div_factor, final_div_factor, pct_start):\n",
    "    step1 = int(total_steps * pct_start)\n",
    "    step2 = total_steps - step1\n",
    "\n",
    "    # Learning rates for each phase\n",
    "    lrs1 = np.linspace(max_lr/div_factor, max_lr, step1)\n",
    "    lrs2 = np.linspace(max_lr, max_lr/div_factor, step2)\n",
    "    lrs3 = np.linspace(max_lr/div_factor, max_lr/final_div_factor, total_steps - (step1 + step2))\n",
    "    \n",
    "    return np.concatenate([lrs1, lrs2, lrs3])\n",
    "\n",
    "# Parameters for OneCycleLR\n",
    "total_steps = 1000\n",
    "pct_start = 0.3\n",
    "max_lr = 0.01\n",
    "div_factor = 25\n",
    "final_div_factor = 1e4\n",
    "\n",
    "# Compute learning rate schedule\n",
    "lrs = one_cycle_schedule(total_steps, max_lr, div_factor, final_div_factor, pct_start)\n",
    "\n",
    "# Plotting\n",
    "plt.figure(figsize=(10, 6))\n",
    "plt.plot(lrs)\n",
    "plt.xlabel(\"Training Steps\")\n",
    "plt.ylabel(\"Learning Rate\")\n",
    "plt.title(\"OneCycleLR Learning Rate Schedule\")\n",
    "plt.axvline(x=total_steps*pct_start, color='r', linestyle='--', label=\"End of Warm-Up\")\n",
    "plt.legend()\n",
    "plt.grid(True)\n",
    "plt.show()\n"
   ]
  },
  {
   "cell_type": "code",
   "execution_count": null,
   "metadata": {},
   "outputs": [],
   "source": [
    "t = torch.rand(3, 3)\n",
    "optim = torch.optim.SGD(params=[t], lr=0.1)\n",
    "sched = torch.optim.lr_scheduler.OneCycleLR(\n",
    "    optimizer=optim, \n",
    "    total_steps=1000, \n",
    "    max_lr=0.1,\n",
    "    pct_start=0.3,\n",
    "    anneal_strategy='cos',\n",
    "\n",
    ")\n",
    "import pprint\n",
    "pprint.pprint(sched.state_dict())\n",
    "\n",
    "lrs = []\n",
    "momentum = []\n",
    "for step in range(1000):\n",
    "    lrs.append(optim.param_groups[0]['lr'])\n",
    "    momentum.append(optim.param_groups[0]['momentum'])\n",
    "    sched.step()\n",
    "fig, ax = plt.subplots(figsize=(12, 6))\n",
    "ax.plot(range(1000), lrs, label='LR')\n",
    "ax2 = ax.twinx()\n",
    "ax2.plot(range(1000), momentum, color='red', label='Momentum')\n",
    "ax.hlines(0.1, xmin=0, xmax=1000, color='black', linestyles='--')\n",
    "ax.legend(loc='lower left')\n",
    "ax2.legend(loc='upper right')"
   ]
  },
  {
   "cell_type": "code",
   "execution_count": null,
   "metadata": {},
   "outputs": [],
   "source": []
  },
  {
   "cell_type": "code",
   "execution_count": null,
   "metadata": {},
   "outputs": [],
   "source": [
    "with model1_1.checkpoint(2.2, '80 more SGD') as cp:\n",
    "    cp.setup(\n",
    "        epoch_scheduler_cls=torch.optim.lr_scheduler.StepLR, \n",
    "        epoch_scheduler_args=dict(step_size=40, gamma=0.2)\n",
    "    )\n",
    "    cp.train(train_dl, test_dl, watch='accuracy', load_best=True, epochs=80, metrics=[train.metric_accuracy])\n",
    "    cp.plot_metrics()\n"
   ]
  },
  {
   "cell_type": "code",
   "execution_count": null,
   "metadata": {},
   "outputs": [],
   "source": [
    "model1_1.load_checkpoint(1, from_backup=True)"
   ]
  },
  {
   "cell_type": "code",
   "execution_count": null,
   "metadata": {},
   "outputs": [],
   "source": [
    "with model1_1.checkpoint(2.3, '120 more SGD') as cp:\n",
    "    cp.setup(\n",
    "        epoch_scheduler_cls=torch.optim.lr_scheduler.MultiStepLR, \n",
    "        epoch_scheduler_args=dict(milestones=[40, 60, 80], gamma=0.2)\n",
    "    )\n",
    "    cp.train(train_dl, test_dl, watch='accuracy', load_best=True, epochs=120, metrics=[train.metric_accuracy])\n",
    "    cp.plot_metrics()\n"
   ]
  },
  {
   "cell_type": "markdown",
   "metadata": {},
   "source": [
    "# Model 2"
   ]
  },
  {
   "cell_type": "code",
   "execution_count": null,
   "metadata": {},
   "outputs": [],
   "source": [
    "model2 = train.Model('resnet-18-02', resnet18(), '40 Adam with reversion')"
   ]
  },
  {
   "cell_type": "code",
   "execution_count": null,
   "metadata": {},
   "outputs": [],
   "source": [
    "with model2.checkpoint(1) as cp:\n",
    "    cp.setup(\n",
    "        loss_cls=torch.nn.CrossEntropyLoss, \n",
    "        optimizer_cls=torch.optim.Adam,\n",
    "        optimizer_args=dict(lr=5e-4, weight_decay=5e-4),\n",
    "        epoch_scheduler_cls=torch.optim.lr_scheduler.StepLR, \n",
    "        epoch_scheduler_args=dict(step_size=10, gamma=0.2)\n",
    "    )\n",
    "\n",
    "    cp.train(train_dl, test_dl, watch='accuracy', load_best=True, epochs=10, metrics=[train.metric_accuracy])\n",
    "    cp.train(train_dl, test_dl, watch='accuracy', load_best=True, epochs=10, metrics=[train.metric_accuracy])\n",
    "    cp.train(train_dl, test_dl, watch='accuracy', load_best=True, epochs=10, metrics=[train.metric_accuracy])\n",
    "    cp.train(train_dl, test_dl, watch='accuracy', load_best=True, epochs=10, metrics=[train.metric_accuracy])\n",
    "    cp.plot_metrics()\n"
   ]
  },
  {
   "cell_type": "code",
   "execution_count": null,
   "metadata": {},
   "outputs": [],
   "source": [
    "res = model2.cache(1).find_lr(test_dl, optimizer_cls=torch.optim.SGD)\n",
    "res.plot(end=0.1)"
   ]
  },
  {
   "cell_type": "code",
   "execution_count": null,
   "metadata": {},
   "outputs": [],
   "source": [
    "# DEBUG\n",
    "id(model2.setup_manager), id(model2.checkpoints[1].setup_manager_copy)"
   ]
  },
  {
   "cell_type": "code",
   "execution_count": null,
   "metadata": {},
   "outputs": [],
   "source": [
    "with model2.checkpoint(2, description='40 SGD') as cp:\n",
    "    cp.setup(\n",
    "        optimizer_cls=torch.optim.SGD, \n",
    "        optimizer_args=dict(weight_decay=5e-4, momentum=0.9, lr=1e-4),\n",
    "        epoch_scheduler_cls=torch.optim.lr_scheduler.StepLR, \n",
    "        epoch_scheduler_args=dict(step_size=10, gamma=0.2)\n",
    "    )\n",
    "    cp.train(train_dl, test_dl, watch='accuracy', load_best=True, epochs=10, metrics=[train.metric_accuracy])\n",
    "    cp.train(train_dl, test_dl, watch='accuracy', load_best=True, epochs=10, metrics=[train.metric_accuracy])\n",
    "    cp.train(train_dl, test_dl, watch='accuracy', load_best=True, epochs=10, metrics=[train.metric_accuracy])\n",
    "    cp.train(train_dl, test_dl, watch='accuracy', load_best=True, epochs=10, metrics=[train.metric_accuracy])\n",
    "    cp.plot_metrics()"
   ]
  },
  {
   "cell_type": "code",
   "execution_count": null,
   "metadata": {},
   "outputs": [],
   "source": [
    "model2.load_checkpoint(1)"
   ]
  },
  {
   "cell_type": "code",
   "execution_count": null,
   "metadata": {},
   "outputs": [],
   "source": [
    "with model2.checkpoint(3, description='40 SGD (after 40 Adam)') as cp:\n",
    "    cp.setup(\n",
    "        optimizer_cls=torch.optim.SGD, \n",
    "        optimizer_args=dict(weight_decay=5e-4, momentum=0.9, lr=0.1 * 0.2 ** 2),\n",
    "        epoch_scheduler_cls=torch.optim.lr_scheduler.StepLR, \n",
    "        epoch_scheduler_args=dict(step_size=20, gamma=0.2)\n",
    "    )\n",
    "    cp.train(train_dl, test_dl, watch='accuracy', load_best=True, epochs=40, metrics=[train.metric_accuracy])\n",
    "    cp.plot_metrics()"
   ]
  },
  {
   "cell_type": "code",
   "execution_count": null,
   "metadata": {},
   "outputs": [],
   "source": [
    "with model2.checkpoint(3.1, description='40 SGD (after 40 Adam)') as cp:\n",
    "    cp.train(train_dl, test_dl, watch='accuracy', load_best=True, epochs=40, metrics=[train.metric_accuracy])\n",
    "    cp.plot_metrics()"
   ]
  },
  {
   "cell_type": "code",
   "execution_count": null,
   "metadata": {},
   "outputs": [],
   "source": [
    "model2.load_checkpoint(1)"
   ]
  },
  {
   "cell_type": "code",
   "execution_count": null,
   "metadata": {},
   "outputs": [],
   "source": [
    "with model2.checkpoint(4.0, description='40 SGD (after 40 Adam)') as cp:\n",
    "    cp.setup(\n",
    "        optimizer_cls=torch.optim.SGD, \n",
    "        optimizer_args=dict(weight_decay=5e-4, momentum=0.9, lr=0.1 * 0.2 ** 4),\n",
    "        epoch_scheduler_cls=torch.optim.lr_scheduler.StepLR, \n",
    "        epoch_scheduler_args=dict(step_size=20, gamma=0.2)\n",
    "    )\n",
    "    cp.train(train_dl, test_dl, watch='accuracy', load_best=True, epochs=40, metrics=[train.metric_accuracy])\n",
    "    cp.plot_metrics()"
   ]
  },
  {
   "cell_type": "code",
   "execution_count": null,
   "metadata": {},
   "outputs": [],
   "source": [
    "model2.load_checkpoint(1)"
   ]
  },
  {
   "cell_type": "code",
   "execution_count": null,
   "metadata": {},
   "outputs": [],
   "source": [
    "with model2.checkpoint(5.0, description='160 SGD (after 40 Adam)') as cp:\n",
    "    cp.setup(\n",
    "        optimizer_cls=torch.optim.SGD, \n",
    "        optimizer_args=dict(weight_decay=5e-4, momentum=0.9, lr=0.1 * 0.2 ** 3),\n",
    "        epoch_scheduler_cls=torch.optim.lr_scheduler.StepLR, \n",
    "        epoch_scheduler_args=dict(step_size=40, gamma=0.2)\n",
    "    )\n",
    "    cp.train(train_dl, test_dl, watch='accuracy', load_best=True, epochs=160, metrics=[train.metric_accuracy])\n",
    "    cp.plot_metrics()"
   ]
  },
  {
   "cell_type": "markdown",
   "metadata": {},
   "source": [
    "---"
   ]
  },
  {
   "cell_type": "code",
   "execution_count": null,
   "metadata": {},
   "outputs": [],
   "source": [
    "model2.load_checkpoint(1)"
   ]
  },
  {
   "cell_type": "markdown",
   "metadata": {},
   "source": [
    "# Model 3"
   ]
  },
  {
   "cell_type": "code",
   "execution_count": null,
   "metadata": {},
   "outputs": [],
   "source": [
    "model3 = train.Model('resnet-18-03', resnet18(), '160 SGD')"
   ]
  },
  {
   "cell_type": "code",
   "execution_count": null,
   "metadata": {},
   "outputs": [],
   "source": [
    "with model3.checkpoint(1) as cp:\n",
    "    cp.setup(\n",
    "        loss_cls=torch.nn.CrossEntropyLoss, \n",
    "        optimizer_cls=torch.optim.SGD, \n",
    "        optimizer_args=dict(weight_decay=5e-4, momentum=0.9, lr=0.1),\n",
    "        epoch_scheduler_cls=torch.optim.lr_scheduler.StepLR, \n",
    "        epoch_scheduler_args=dict(step_size=40, gamma=0.2)\n",
    "    )\n",
    "    cp.train(train_dl, test_dl, watch='accuracy', load_best=True, epochs=160, metrics=[train.metric_accuracy])\n",
    "    cp.plot_metrics()"
   ]
  },
  {
   "cell_type": "markdown",
   "metadata": {},
   "source": [
    "# Model 4"
   ]
  },
  {
   "cell_type": "code",
   "execution_count": null,
   "metadata": {},
   "outputs": [],
   "source": [
    "model4 = train.Model('resnet-18-04', resnet18(), '40 x 4 SGD with reversion')"
   ]
  },
  {
   "cell_type": "code",
   "execution_count": null,
   "metadata": {},
   "outputs": [],
   "source": [
    "with model4.checkpoint(1) as cp:\n",
    "    cp.setup(\n",
    "        loss_cls=torch.nn.CrossEntropyLoss, \n",
    "        optimizer_cls=torch.optim.SGD, \n",
    "        optimizer_args=dict(weight_decay=5e-4, momentum=0.9, lr=0.1),\n",
    "        epoch_scheduler_cls=torch.optim.lr_scheduler.StepLR, \n",
    "        epoch_scheduler_args=dict(step_size=40, gamma=0.2)\n",
    "    )\n",
    "    cp.train(train_dl, test_dl, watch='accuracy', load_best=True, epochs=40, metrics=[train.metric_accuracy])\n",
    "    cp.train(train_dl, test_dl, watch='accuracy', load_best=True, epochs=40, metrics=[train.metric_accuracy])\n",
    "    cp.train(train_dl, test_dl, watch='accuracy', load_best=True, epochs=40, metrics=[train.metric_accuracy])\n",
    "    cp.train(train_dl, test_dl, watch='accuracy', load_best=True, epochs=40, metrics=[train.metric_accuracy])\n",
    "    cp.plot_metrics()"
   ]
  },
  {
   "cell_type": "markdown",
   "metadata": {},
   "source": [
    "# Model 5"
   ]
  },
  {
   "cell_type": "code",
   "execution_count": null,
   "metadata": {},
   "outputs": [],
   "source": [
    "model5 = train.Model('resnet-18-05', resnet18(), '160 Adam')"
   ]
  },
  {
   "cell_type": "code",
   "execution_count": null,
   "metadata": {},
   "outputs": [],
   "source": [
    "with model5.checkpoint(1) as cp:\n",
    "    cp.setup(\n",
    "        loss_cls=torch.nn.CrossEntropyLoss, \n",
    "        optimizer_cls=torch.optim.Adam,\n",
    "        optimizer_args=dict(lr=5e-4, weight_decay=5e-4),\n",
    "        epoch_scheduler_cls=torch.optim.lr_scheduler.StepLR, \n",
    "        epoch_scheduler_args=dict(step_size=40, gamma=0.2)\n",
    "    )\n",
    "\n",
    "    cp.train(train_dl, test_dl, watch='accuracy', load_best=True, epochs=160, metrics=[train.metric_accuracy])\n",
    "    cp.plot_metrics()\n"
   ]
  },
  {
   "cell_type": "markdown",
   "metadata": {},
   "source": [
    "# Model 6"
   ]
  },
  {
   "cell_type": "code",
   "execution_count": null,
   "metadata": {},
   "outputs": [],
   "source": [
    "model6 = train.Model('resnet-18-06', resnet18(), 'Testing warmup')"
   ]
  },
  {
   "cell_type": "code",
   "execution_count": 37,
   "metadata": {},
   "outputs": [
    {
     "name": "stderr",
     "output_type": "stream",
     "text": [
      "100%|██████████| 782/782 [00:37<00:00, 20.60it/s]\n",
      "100%|██████████| 157/157 [00:02<00:00, 62.88it/s]\n"
     ]
    },
    {
     "name": "stdout",
     "output_type": "stream",
     "text": [
      "Epoch 2/10: train_loss=3.0017, train_accuracy=0.2475, val_loss=3.1259, val_accuracy=0.2621\n",
      "Saved model resnet-18-06 checkpoint 1. epoch=2, step=1564. train_loss=3.0017, train_accuracy=0.2475, val_loss=3.1259, val_accuracy=0.2621\n"
     ]
    },
    {
     "name": "stderr",
     "output_type": "stream",
     "text": [
      "100%|██████████| 782/782 [00:38<00:00, 20.55it/s]\n",
      "100%|██████████| 157/157 [00:02<00:00, 60.87it/s]\n"
     ]
    },
    {
     "name": "stdout",
     "output_type": "stream",
     "text": [
      "Epoch 3/10: train_loss=2.5310, train_accuracy=0.3394, val_loss=2.4929, val_accuracy=0.3510\n",
      "Saved model resnet-18-06 checkpoint 1. epoch=3, step=2346. train_loss=2.5310, train_accuracy=0.3394, val_loss=2.4929, val_accuracy=0.3510\n"
     ]
    },
    {
     "name": "stderr",
     "output_type": "stream",
     "text": [
      "100%|██████████| 782/782 [00:37<00:00, 20.63it/s]\n",
      "100%|██████████| 157/157 [00:02<00:00, 60.87it/s]\n"
     ]
    },
    {
     "name": "stdout",
     "output_type": "stream",
     "text": [
      "Epoch 4/10: train_loss=2.2448, train_accuracy=0.4011, val_loss=2.2269, val_accuracy=0.4134\n",
      "Saved model resnet-18-06 checkpoint 1. epoch=4, step=3128. train_loss=2.2448, train_accuracy=0.4011, val_loss=2.2269, val_accuracy=0.4134\n"
     ]
    },
    {
     "name": "stderr",
     "output_type": "stream",
     "text": [
      "100%|██████████| 782/782 [00:37<00:00, 20.66it/s]\n",
      "100%|██████████| 157/157 [00:02<00:00, 61.98it/s]\n"
     ]
    },
    {
     "name": "stdout",
     "output_type": "stream",
     "text": [
      "Epoch 5/10: train_loss=2.0501, train_accuracy=0.4441, val_loss=2.0589, val_accuracy=0.4481\n",
      "Saved model resnet-18-06 checkpoint 1. epoch=5, step=3910. train_loss=2.0501, train_accuracy=0.4441, val_loss=2.0589, val_accuracy=0.4481\n"
     ]
    },
    {
     "name": "stderr",
     "output_type": "stream",
     "text": [
      "100%|██████████| 782/782 [00:39<00:00, 19.82it/s]\n",
      "100%|██████████| 157/157 [00:02<00:00, 60.52it/s]\n"
     ]
    },
    {
     "name": "stdout",
     "output_type": "stream",
     "text": [
      "Epoch 6/10: train_loss=1.9107, train_accuracy=0.4763, val_loss=2.0137, val_accuracy=0.4592\n",
      "Saved model resnet-18-06 checkpoint 1. epoch=6, step=4692. train_loss=1.9107, train_accuracy=0.4763, val_loss=2.0137, val_accuracy=0.4592\n"
     ]
    },
    {
     "name": "stderr",
     "output_type": "stream",
     "text": [
      "100%|██████████| 782/782 [00:39<00:00, 19.75it/s]\n",
      "100%|██████████| 157/157 [00:02<00:00, 59.57it/s]\n"
     ]
    },
    {
     "name": "stdout",
     "output_type": "stream",
     "text": [
      "Epoch 7/10: train_loss=1.8065, train_accuracy=0.5029, val_loss=1.8054, val_accuracy=0.5083\n",
      "Saved model resnet-18-06 checkpoint 1. epoch=7, step=5474. train_loss=1.8065, train_accuracy=0.5029, val_loss=1.8054, val_accuracy=0.5083\n"
     ]
    },
    {
     "name": "stderr",
     "output_type": "stream",
     "text": [
      "100%|██████████| 782/782 [00:39<00:00, 19.89it/s]\n",
      "100%|██████████| 157/157 [00:02<00:00, 60.64it/s]\n"
     ]
    },
    {
     "name": "stdout",
     "output_type": "stream",
     "text": [
      "Epoch 8/10: train_loss=1.7150, train_accuracy=0.5225, val_loss=1.8566, val_accuracy=0.4996\n"
     ]
    },
    {
     "name": "stderr",
     "output_type": "stream",
     "text": [
      "100%|██████████| 782/782 [00:39<00:00, 19.88it/s]\n",
      "100%|██████████| 157/157 [00:02<00:00, 58.91it/s]\n"
     ]
    },
    {
     "name": "stdout",
     "output_type": "stream",
     "text": [
      "Epoch 9/10: train_loss=1.6382, train_accuracy=0.5416, val_loss=1.6578, val_accuracy=0.5375\n",
      "Saved model resnet-18-06 checkpoint 1. epoch=9, step=7038. train_loss=1.6382, train_accuracy=0.5416, val_loss=1.6578, val_accuracy=0.5375\n"
     ]
    },
    {
     "name": "stderr",
     "output_type": "stream",
     "text": [
      "100%|██████████| 782/782 [00:39<00:00, 19.58it/s]\n",
      "100%|██████████| 157/157 [00:02<00:00, 60.92it/s]\n"
     ]
    },
    {
     "name": "stdout",
     "output_type": "stream",
     "text": [
      "Epoch 10/10: train_loss=1.5737, train_accuracy=0.5572, val_loss=1.7425, val_accuracy=0.5327\n",
      "Loaded model resnet-18-06 from checkpoint 1. epoch=9, step=7038. train_loss=1.6382, train_accuracy=0.5416, val_loss=1.6578, val_accuracy=0.5375\n"
     ]
    },
    {
     "data": {
      "image/png": "[encoded data removed]",
      "text/plain": [
       "<Figure size 1200x300 with 2 Axes>"
      ]
     },
     "metadata": {},
     "output_type": "display_data"
    }
   ],
   "source": [
    "with model6.checkpoint(1) as cp:\n",
    "    cp.setup(\n",
    "        loss_cls=torch.nn.CrossEntropyLoss, \n",
    "        optimizer_cls=torch.optim.Adam,\n",
    "        optimizer_args=dict(lr=5e-4, weight_decay=5e-4),\n",
    "    )\n",
    "\n",
    "    cp.train(train_dl, test_dl, watch='accuracy', warmup=1, load_best=True, epochs=10, metrics=[train.metric_accuracy])\n",
    "    cp.plot_metrics()\n"
   ]
  }
 ],
 "metadata": {
  "kernelspec": {
   "display_name": "torch",
   "language": "python",
   "name": "python3"
  },
  "language_info": {
   "codemirror_mode": {
    "name": "ipython",
    "version": 3
   },
   "file_extension": ".py",
   "mimetype": "text/x-python",
   "name": "python",
   "nbconvert_exporter": "python",
   "pygments_lexer": "ipython3",
   "version": "3.11.4"
  },
  "orig_nbformat": 4
 },
 "nbformat": 4,
 "nbformat_minor": 2
}
